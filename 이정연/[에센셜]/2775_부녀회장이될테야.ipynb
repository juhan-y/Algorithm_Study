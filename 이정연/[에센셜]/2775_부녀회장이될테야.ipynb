{
 "cells": [
  {
   "cell_type": "markdown",
   "id": "a2de553a",
   "metadata": {},
   "source": [
    "- 2층 1, 4, 10\n",
    "\n",
    "- 1층 1, 3, 6\n",
    "\n",
    "- 0층 1, 2, 3"
   ]
  },
  {
   "cell_type": "code",
   "execution_count": 27,
   "id": "2b3d2580",
   "metadata": {},
   "outputs": [
    {
     "name": "stdout",
     "output_type": "stream",
     "text": [
      "2\n",
      "1\n",
      "3\n",
      "6\n",
      "2\n",
      "3\n",
      "10\n"
     ]
    }
   ],
   "source": [
    "t = int(input())\n",
    "for _ in range(t):\n",
    "    k = int(input()) # 층\n",
    "    n = int(input()) # 호\n",
    "    \n",
    "    dp = [[] for _ in range(k)]\n",
    "    dp[0] = [x for x in range(1, n + 1)] # 0층을 기록\n",
    "    \n",
    "    for i in range(1, k): # k-1 층까지 \n",
    "        \n",
    "        tmp = 0\n",
    "        \n",
    "        for j in range(1, n + 1): # n호까지\n",
    "\n",
    "            # 역 ㄴ자를 해당 인덱스에 추가          \n",
    "            tmp += dp[i-1][j-1]\n",
    "            \n",
    "            #print(dp[i-1][0:j-1+1], end = ' ')\n",
    "            #print(tmp)\n",
    "            \n",
    "            dp[i].append(tmp)\n",
    "        \n",
    "    print(sum(dp[-1]))"
   ]
  },
  {
   "cell_type": "code",
   "execution_count": null,
   "id": "100d2fea",
   "metadata": {},
   "outputs": [],
   "source": []
  }
 ],
 "metadata": {
  "kernelspec": {
   "display_name": "Python 3 (ipykernel)",
   "language": "python",
   "name": "python3"
  },
  "language_info": {
   "codemirror_mode": {
    "name": "ipython",
    "version": 3
   },
   "file_extension": ".py",
   "mimetype": "text/x-python",
   "name": "python",
   "nbconvert_exporter": "python",
   "pygments_lexer": "ipython3",
   "version": "3.9.13"
  }
 },
 "nbformat": 4,
 "nbformat_minor": 5
}
