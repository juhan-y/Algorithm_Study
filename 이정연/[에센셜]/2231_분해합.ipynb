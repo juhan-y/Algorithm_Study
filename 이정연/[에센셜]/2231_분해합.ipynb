{
 "cells": [
  {
   "cell_type": "code",
   "execution_count": 44,
   "id": "8416892f",
   "metadata": {},
   "outputs": [
    {
     "name": "stdout",
     "output_type": "stream",
     "text": [
      "216\n",
      "198\n"
     ]
    }
   ],
   "source": [
    "n = input() # 리스트로 만들어주기 위해 str로 받음\n",
    "final = 0 # 분해합\n",
    "result = 0 # 최종 정답\n",
    "\n",
    "for i in range(int(n)):\n",
    "    tmp = 0 # 세 자릿수 합\n",
    "    array = list(str(i))\n",
    "\n",
    "    # 각 자리 수를 합치기\n",
    "    for j in array:\n",
    "        tmp += int(j)\n",
    "    \n",
    "    # 전체 수와 각 자리 수를 합치기\n",
    "    final = int(i) + tmp\n",
    "    \n",
    "    # 분해합이 n과 같으면 반복문 종료\n",
    "    if final == int(n):\n",
    "        result = int(i)\n",
    "        break\n",
    "        \n",
    "print(result)"
   ]
  },
  {
   "cell_type": "code",
   "execution_count": 55,
   "id": "c264b504",
   "metadata": {},
   "outputs": [
    {
     "name": "stdout",
     "output_type": "stream",
     "text": [
      "216\n",
      "198\n"
     ]
    }
   ],
   "source": [
    "n = int(input())\n",
    "result = 0\n",
    "\n",
    "for i in range(n):\n",
    "    \n",
    "    # 각 자릿수를 array에 추가\n",
    "    array = []\n",
    "    for j in str(i):\n",
    "        array.append(int(j))\n",
    "        \n",
    "    # 전체 숫자 + 각 자릿수의 합 == n\n",
    "    if i + sum(array) == n:\n",
    "        result = i\n",
    "        break\n",
    "        \n",
    "print(result)"
   ]
  },
  {
   "cell_type": "code",
   "execution_count": null,
   "id": "d8cbe1f3",
   "metadata": {},
   "outputs": [],
   "source": []
  }
 ],
 "metadata": {
  "kernelspec": {
   "display_name": "Python 3 (ipykernel)",
   "language": "python",
   "name": "python3"
  },
  "language_info": {
   "codemirror_mode": {
    "name": "ipython",
    "version": 3
   },
   "file_extension": ".py",
   "mimetype": "text/x-python",
   "name": "python",
   "nbconvert_exporter": "python",
   "pygments_lexer": "ipython3",
   "version": "3.9.13"
  }
 },
 "nbformat": 4,
 "nbformat_minor": 5
}
