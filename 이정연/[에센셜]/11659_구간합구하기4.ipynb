{
 "cells": [
  {
   "cell_type": "markdown",
   "id": "c3e50b90",
   "metadata": {},
   "source": [
    "### 시간초과"
   ]
  },
  {
   "cell_type": "code",
   "execution_count": null,
   "id": "09105d26",
   "metadata": {},
   "outputs": [],
   "source": [
    "import sys\n",
    "input = sys.stdin.readline"
   ]
  },
  {
   "cell_type": "code",
   "execution_count": 20,
   "id": "58ebf47d",
   "metadata": {},
   "outputs": [
    {
     "name": "stdout",
     "output_type": "stream",
     "text": [
      "5 3\n",
      "5 4 3 2 1\n",
      "1 3\n",
      "12\n",
      "2 4\n",
      "9\n",
      "5 5\n",
      "1\n"
     ]
    }
   ],
   "source": [
    "n, m = map(int, input().split())\n",
    "array = list(map(int, input().split()))\n",
    "\n",
    "for _ in range(m):\n",
    "    a, b = map(int, input().split())\n",
    "    result = 0\n",
    "    \n",
    "    for i in range(a - 1, b):\n",
    "        result += array[i]\n",
    "        \n",
    "    print(result)"
   ]
  },
  {
   "cell_type": "markdown",
   "id": "6ea45459",
   "metadata": {},
   "source": [
    "### DP?"
   ]
  },
  {
   "cell_type": "code",
   "execution_count": null,
   "id": "101f9981",
   "metadata": {},
   "outputs": [],
   "source": [
    "import sys\n",
    "input = sys.stdin.readline"
   ]
  },
  {
   "cell_type": "code",
   "execution_count": 19,
   "id": "9fd953b9",
   "metadata": {},
   "outputs": [
    {
     "name": "stdout",
     "output_type": "stream",
     "text": [
      "5 3\n",
      "5 4 3 2 1\n",
      "1 3\n",
      "12\n",
      "2 4\n",
      "9\n",
      "5 5\n",
      "1\n"
     ]
    }
   ],
   "source": [
    "n, m = map(int, input().split())\n",
    "array = list(map(int, input().split()))\n",
    "\n",
    "# 현재 누적합\n",
    "tmp = 0\n",
    "\n",
    "# 누적합을 저장할 테이블\n",
    "dp = [0] * (len(array) + 1)\n",
    "\n",
    "# 순차적으로 누적합을 저장\n",
    "for i in range(len(dp) - 1):\n",
    "    tmp += array[i]\n",
    "    dp[i + 1] += tmp\n",
    "    \n",
    "for _ in range(m):\n",
    "    a, b = map(int, input().split())\n",
    "    print(dp[b] - dp[a - 1])"
   ]
  },
  {
   "cell_type": "code",
   "execution_count": null,
   "id": "6565d649",
   "metadata": {},
   "outputs": [],
   "source": []
  }
 ],
 "metadata": {
  "kernelspec": {
   "display_name": "Python 3 (ipykernel)",
   "language": "python",
   "name": "python3"
  },
  "language_info": {
   "codemirror_mode": {
    "name": "ipython",
    "version": 3
   },
   "file_extension": ".py",
   "mimetype": "text/x-python",
   "name": "python",
   "nbconvert_exporter": "python",
   "pygments_lexer": "ipython3",
   "version": "3.9.13"
  }
 },
 "nbformat": 4,
 "nbformat_minor": 5
}
