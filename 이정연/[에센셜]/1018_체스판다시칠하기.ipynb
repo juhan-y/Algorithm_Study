{
 "cells": [
  {
   "cell_type": "code",
   "execution_count": 13,
   "id": "ba34bad6",
   "metadata": {},
   "outputs": [
    {
     "name": "stdout",
     "output_type": "stream",
     "text": [
      "8 8\n",
      "WBWBWBWB\n",
      "BWBWBWBW\n",
      "WBWBWBWB\n",
      "BWBBBWBW\n",
      "WBWBWBWB\n",
      "BWBWBWBW\n",
      "WBWBWBWB\n",
      "BWBWBWBW\n",
      "1\n"
     ]
    }
   ],
   "source": [
    "n, m = map(int, input().split())\n",
    "board = []\n",
    "result = []\n",
    " \n",
    "for _ in range(n):\n",
    "    board.append(input())\n",
    "\n",
    "for i in range(n-7):\n",
    "    for j in range(m-7):\n",
    "        draw1 = 0\n",
    "        draw2 = 0\n",
    "\n",
    "        for a in range(i, i+8):\n",
    "            for b in range(j, j+8):\n",
    "                if (a + b) % 2 == 0:\n",
    "                    if board[a][b] != 'B':\n",
    "                        draw1 += 1\n",
    "                    if board[a][b] != 'W':\n",
    "                        draw2 += 1\n",
    "                else:\n",
    "                    if board[a][b] != 'W':\n",
    "                        draw1 += 1\n",
    "                    if board[a][b] != 'B':\n",
    "                        draw2 += 1\n",
    " \n",
    "        result.append(draw1)\n",
    "        result.append(draw2)\n",
    "\n",
    "print(min(result))"
   ]
  },
  {
   "cell_type": "code",
   "execution_count": null,
   "id": "965939a3",
   "metadata": {},
   "outputs": [],
   "source": []
  }
 ],
 "metadata": {
  "kernelspec": {
   "display_name": "Python 3 (ipykernel)",
   "language": "python",
   "name": "python3"
  },
  "language_info": {
   "codemirror_mode": {
    "name": "ipython",
    "version": 3
   },
   "file_extension": ".py",
   "mimetype": "text/x-python",
   "name": "python",
   "nbconvert_exporter": "python",
   "pygments_lexer": "ipython3",
   "version": "3.9.13"
  }
 },
 "nbformat": 4,
 "nbformat_minor": 5
}
