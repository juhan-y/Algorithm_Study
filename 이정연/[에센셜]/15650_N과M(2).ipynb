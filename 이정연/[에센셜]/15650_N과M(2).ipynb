{
 "cells": [
  {
   "cell_type": "markdown",
   "id": "1f587785",
   "metadata": {},
   "source": [
    "### Combinations"
   ]
  },
  {
   "cell_type": "code",
   "execution_count": 30,
   "id": "78601b8a",
   "metadata": {},
   "outputs": [
    {
     "name": "stdout",
     "output_type": "stream",
     "text": [
      "4 2\n",
      "1 2\n",
      "1 3\n",
      "1 4\n",
      "2 3\n",
      "2 4\n",
      "3 4\n"
     ]
    }
   ],
   "source": [
    "from itertools import combinations\n",
    "\n",
    "n, m = map(int, input().split())\n",
    "lst = [x for x in range(1, n + 1)]\n",
    "\n",
    "for i in combinations(lst, m):\n",
    "    #print(*i)\n",
    "    print(' '.join(map(str, i)))"
   ]
  },
  {
   "cell_type": "markdown",
   "id": "92104be5",
   "metadata": {},
   "source": [
    "### BackTracking\n",
    "\n",
    "- 현재 상태에서 가능한 모든 경로를 따라 들어가 탐색\n",
    "- 원하는 값과 불일치하는 부분이 발생하면 더 이상 진행하지 않고 전 단계로 돌아감"
   ]
  },
  {
   "cell_type": "code",
   "execution_count": 28,
   "id": "8cc86009",
   "metadata": {},
   "outputs": [
    {
     "name": "stdout",
     "output_type": "stream",
     "text": [
      "4 2\n",
      "1 2\n",
      "1 3\n",
      "1 4\n",
      "2 3\n",
      "2 4\n",
      "3 4\n"
     ]
    }
   ],
   "source": [
    "def backTracking(start):\n",
    "    if len(lst) == m:\n",
    "        print(' '.join(map(str, lst)))\n",
    "        return\n",
    "    \n",
    "    for i in range(start, n + 1):\n",
    "        if i not in lst:\n",
    "            lst.append(i)\n",
    "            backTracking(i + 1)\n",
    "            lst.pop()\n",
    "        \n",
    "n, m = map(int, input().split())\n",
    "lst = []\n",
    "\n",
    "backTracking(1)"
   ]
  },
  {
   "cell_type": "code",
   "execution_count": null,
   "id": "7d5583d5",
   "metadata": {},
   "outputs": [],
   "source": []
  }
 ],
 "metadata": {
  "kernelspec": {
   "display_name": "Python 3 (ipykernel)",
   "language": "python",
   "name": "python3"
  },
  "language_info": {
   "codemirror_mode": {
    "name": "ipython",
    "version": 3
   },
   "file_extension": ".py",
   "mimetype": "text/x-python",
   "name": "python",
   "nbconvert_exporter": "python",
   "pygments_lexer": "ipython3",
   "version": "3.9.13"
  }
 },
 "nbformat": 4,
 "nbformat_minor": 5
}
