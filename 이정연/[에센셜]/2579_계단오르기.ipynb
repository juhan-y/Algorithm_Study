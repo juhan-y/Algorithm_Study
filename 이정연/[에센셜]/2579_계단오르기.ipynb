{
 "cells": [
  {
   "cell_type": "markdown",
   "id": "aa1b7317",
   "metadata": {},
   "source": [
    "- 계단은 한 번에 한 계단 or 두 계단씩 오를 수 있음.\n",
    "- 연속된 세 개의 계단을 모두 밟아서는 안됨.\n",
    "- 마지막 도착 계단은 반드시 밟아야 함."
   ]
  },
  {
   "cell_type": "code",
   "execution_count": 2,
   "id": "dac37b41",
   "metadata": {},
   "outputs": [
    {
     "name": "stdout",
     "output_type": "stream",
     "text": [
      "6\n",
      "10\n",
      "20\n",
      "15\n",
      "25\n",
      "10\n",
      "20\n"
     ]
    }
   ],
   "source": [
    "n = int(input())\n",
    "steps = []\n",
    "for i in range(n):\n",
    "    steps.append(int(input()))"
   ]
  },
  {
   "cell_type": "code",
   "execution_count": 11,
   "id": "8da0086b",
   "metadata": {},
   "outputs": [],
   "source": [
    "dp = [0] * 301\n",
    "dp[0] = steps[0]\n",
    "dp[1] = steps[0]+steps[1]\n",
    "dp[2] = max(steps[0]+steps[1], steps[0]+steps[1])\n",
    "\n",
    "for i in range(3, n):\n",
    "    # 마지막 전 계단을 밟음 vs 마지막 전 계단을 밟지 않음\n",
    "    dp[i] = max(dp[i-3]+steps[i-1]+steps[i], dp[i-2]+steps[i])\n",
    "    \n",
    "print(dp[n-1])"
   ]
  },
  {
   "cell_type": "code",
   "execution_count": null,
   "id": "d3ebadec",
   "metadata": {},
   "outputs": [],
   "source": []
  }
 ],
 "metadata": {
  "kernelspec": {
   "display_name": "Python 3 (ipykernel)",
   "language": "python",
   "name": "python3"
  },
  "language_info": {
   "codemirror_mode": {
    "name": "ipython",
    "version": 3
   },
   "file_extension": ".py",
   "mimetype": "text/x-python",
   "name": "python",
   "nbconvert_exporter": "python",
   "pygments_lexer": "ipython3",
   "version": "3.9.13"
  }
 },
 "nbformat": 4,
 "nbformat_minor": 5
}
