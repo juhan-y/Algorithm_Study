{
 "cells": [
  {
   "cell_type": "code",
   "execution_count": null,
   "id": "cfddfc36",
   "metadata": {},
   "outputs": [],
   "source": [
    "import sys\n",
    "input = sys.stdin.readline"
   ]
  },
  {
   "cell_type": "markdown",
   "id": "aae3caf1",
   "metadata": {},
   "source": [
    "### 오답 1"
   ]
  },
  {
   "cell_type": "code",
   "execution_count": 38,
   "id": "c94f76db",
   "metadata": {},
   "outputs": [
    {
     "name": "stdout",
     "output_type": "stream",
     "text": [
      "4 7\n",
      "6 13\n",
      "4 8\n",
      "3 6\n",
      "5 12\n"
     ]
    }
   ],
   "source": [
    "from collections import deque\n",
    "\n",
    "# 물폼의 수 n, 버틸 수 있는 무게 k\n",
    "n, k = map(int, input().split())\n",
    "\n",
    "# 무게 w, 가치 v\n",
    "array = []\n",
    "for _ in range(n):\n",
    "    w, v = map(int, input().split())\n",
    "    array.append((w, v))\n",
    "    \n",
    "# 순환 큐 생성\n",
    "queue = deque(array)"
   ]
  },
  {
   "cell_type": "code",
   "execution_count": 43,
   "id": "3e7d397c",
   "metadata": {},
   "outputs": [
    {
     "name": "stdout",
     "output_type": "stream",
     "text": [
      "deque([(6, 13), (4, 8), (3, 6), (5, 12)]) [13]\n",
      "deque([(4, 8), (3, 6), (5, 12), (6, 13)]) [13, 14]\n",
      "deque([(3, 6), (5, 12), (6, 13), (4, 8)]) [13, 14, 6]\n",
      "deque([(5, 12), (6, 13), (4, 8), (3, 6)]) [13, 14, 6, 12]\n"
     ]
    }
   ],
   "source": [
    "# 정답 리스트\n",
    "result = []\n",
    "\n",
    "# 0. 순환 큐의 원소만큼 반복문 진행\n",
    "for _ in range(len(queue)):\n",
    "    \n",
    "    print(queue, end = ' ')\n",
    "    \n",
    "    # 1. 큐의 첫 번째 원소부터 시작해 k에 도달할 때까지 무게를 계산\n",
    "    tmp = 0\n",
    "    for i in range(len(queue) - 1):\n",
    "        tmp += queue[i][1]\n",
    "\n",
    "        # 현재 무게와 다음 무게가 k를 넘으면 종료\n",
    "        ## ---> 이대로면 바로 오른쪽에 있는 원소만 볼 수 있기 때문에 반례가 존재함.\n",
    "        if queue[i][0] + queue[i+1][0] > k:\n",
    "            break\n",
    "\n",
    "    # 2. 계산한 값을 정답 리스트에 추가\n",
    "    result.append(tmp)\n",
    "\n",
    "    # 3. 큐의 첫 번쨰 원소를 빼서 맨 마지막에 넣음\n",
    "    v = queue.popleft()\n",
    "    queue.append(v)\n",
    "    \n",
    "    print(result)\n",
    "    \n",
    "# print(max(result))"
   ]
  },
  {
   "cell_type": "markdown",
   "id": "3123783e",
   "metadata": {},
   "source": [
    "### 오답 2"
   ]
  },
  {
   "cell_type": "code",
   "execution_count": null,
   "id": "826249cd",
   "metadata": {},
   "outputs": [],
   "source": [
    "import sys\n",
    "input = sys.stdin.readline"
   ]
  },
  {
   "cell_type": "code",
   "execution_count": 92,
   "id": "322b5e4c",
   "metadata": {},
   "outputs": [
    {
     "name": "stdout",
     "output_type": "stream",
     "text": [
      "4 7\n",
      "6 13\n",
      "4 8\n",
      "3 6\n",
      "5 12\n"
     ]
    }
   ],
   "source": [
    "from collections import deque\n",
    "\n",
    "# 물폼의 수 n, 버틸 수 있는 무게 k\n",
    "n, k = map(int, input().split())\n",
    "\n",
    "# 무게 w, 가치 v\n",
    "array = []\n",
    "for _ in range(n):\n",
    "    w, v = map(int, input().split())\n",
    "    array.append((w, v))\n",
    "    \n",
    "# 순환 큐 생성\n",
    "queue = deque(array)"
   ]
  },
  {
   "cell_type": "code",
   "execution_count": 84,
   "id": "4180f68c",
   "metadata": {},
   "outputs": [
    {
     "name": "stdout",
     "output_type": "stream",
     "text": [
      "(6, 13) deque([(4, 8), (3, 6), (5, 12)]) 13 13 13 \n",
      "(4, 8) deque([(3, 6), (5, 12), (6, 13)]) 14 14 14 \n",
      "(3, 6) deque([(5, 12), (6, 13), (4, 8)]) 6 6 14 \n",
      "(5, 12) deque([(6, 13), (4, 8), (3, 6)]) 12 12 12 \n"
     ]
    }
   ],
   "source": [
    "# 정답 리스트\n",
    "result = []\n",
    "\n",
    "# 0. 순환 큐의 원소만큼 반복문 진행\n",
    "for _ in range(len(queue)):\n",
    "\n",
    "    # 1. 첫 번째 원소를 기준으로\n",
    "    v = queue.popleft()\n",
    "    tmp = v[1]\n",
    "    print(v, queue, end = ' ')\n",
    "\n",
    "    # 2. 나머지 원소와 기준 원소를 더하기\n",
    "    for i in range(len(queue)):\n",
    "        # 기준 원소 무게 + 다음 원소 무게가 k를 넘으면 넘어감\n",
    "        if v[0] + queue[i][0] > k:\n",
    "            pass\n",
    "        # 기준 원소 무게 + 다음 원소 무게가 k를 넘지 않으면 더해줌\n",
    "        else:\n",
    "            tmp += queue[i][1]\n",
    "            \n",
    "        print(tmp, end = ' ')\n",
    "    print()\n",
    "            \n",
    "    # 3. \n",
    "    result.append(tmp)\n",
    "    queue.append(v)\n",
    "    \n",
    "# print(max(result))"
   ]
  },
  {
   "cell_type": "code",
   "execution_count": 85,
   "id": "f5518ddd",
   "metadata": {},
   "outputs": [
    {
     "data": {
      "text/plain": [
       "[13, 14, 14, 12]"
      ]
     },
     "execution_count": 85,
     "metadata": {},
     "output_type": "execute_result"
    }
   ],
   "source": [
    "result"
   ]
  },
  {
   "cell_type": "markdown",
   "id": "7a6179e6",
   "metadata": {},
   "source": [
    "### 결론 : 순차탐색으로는 절대로 풀 수가 없다"
   ]
  },
  {
   "cell_type": "code",
   "execution_count": 103,
   "id": "184a4665",
   "metadata": {},
   "outputs": [
    {
     "name": "stdout",
     "output_type": "stream",
     "text": [
      "(6, 13) deque([(4, 8), (3, 6), (5, 12)]) [13, 13, 13]\n",
      "\n",
      "(4, 8) deque([(3, 6), (5, 12), (6, 13)]) [14, 14, 14]\n",
      "\n",
      "(3, 6) deque([(5, 12), (6, 13), (4, 8)]) [6, 6, 14]\n",
      "\n",
      "(5, 12) deque([(6, 13), (4, 8), (3, 6)]) [12, 12, 12]\n",
      "\n"
     ]
    }
   ],
   "source": [
    "# 정답 리스트\n",
    "result = []\n",
    "\n",
    "# 0. 순환 큐의 원소만큼 반복문 진행\n",
    "for _ in range(len(queue)):\n",
    "\n",
    "    # 1. 첫 번째 원소를 기준으로\n",
    "    tmp_list = [] # 해당 인덱스에서 가능한 모든 원소를 담음\n",
    "    v = queue.popleft()\n",
    "    tmp = v[1]\n",
    "    \n",
    "    print(v, queue, end = ' ')\n",
    "\n",
    "    # 2. 나머지 원소와 기준 원소를 더하기\n",
    "    for i in range(len(queue)):\n",
    "        # 기준 원소 무게 + 다음 원소 무게가 k를 넘으면 넘어감\n",
    "        if v[0] + queue[i][0] > k:\n",
    "            pass\n",
    "        # 기준 원소 무게 + 다음 원소 무게가 k를 넘지 않으면 더해줌\n",
    "        else:\n",
    "            tmp += queue[i][1]\n",
    "\n",
    "        tmp_list.append(tmp)\n",
    "        \n",
    "    print(tmp_list)\n",
    "    print()\n",
    "    \n",
    "    # 3. \n",
    "    result.append(max(tmp_list))\n",
    "    queue.append(v)"
   ]
  },
  {
   "cell_type": "code",
   "execution_count": null,
   "id": "903a89df",
   "metadata": {},
   "outputs": [],
   "source": []
  }
 ],
 "metadata": {
  "kernelspec": {
   "display_name": "Python 3 (ipykernel)",
   "language": "python",
   "name": "python3"
  },
  "language_info": {
   "codemirror_mode": {
    "name": "ipython",
    "version": 3
   },
   "file_extension": ".py",
   "mimetype": "text/x-python",
   "name": "python",
   "nbconvert_exporter": "python",
   "pygments_lexer": "ipython3",
   "version": "3.9.13"
  }
 },
 "nbformat": 4,
 "nbformat_minor": 5
}
