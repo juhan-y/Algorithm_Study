{
 "cells": [
  {
   "cell_type": "code",
   "execution_count": 3,
   "id": "7e78fa55",
   "metadata": {},
   "outputs": [
    {
     "name": "stdout",
     "output_type": "stream",
     "text": [
      "1000 6\n",
      "1368173298991500\n"
     ]
    }
   ],
   "source": [
    "import math\n",
    "\n",
    "n, m = map(int, input().split())\n",
    "\n",
    "print(math.factorial(n) // ((math.factorial(n - m)) * (math.factorial(m))))"
   ]
  },
  {
   "cell_type": "code",
   "execution_count": null,
   "id": "713aaf5d",
   "metadata": {},
   "outputs": [],
   "source": []
  }
 ],
 "metadata": {
  "kernelspec": {
   "display_name": "Python 3 (ipykernel)",
   "language": "python",
   "name": "python3"
  },
  "language_info": {
   "codemirror_mode": {
    "name": "ipython",
    "version": 3
   },
   "file_extension": ".py",
   "mimetype": "text/x-python",
   "name": "python",
   "nbconvert_exporter": "python",
   "pygments_lexer": "ipython3",
   "version": "3.9.13"
  }
 },
 "nbformat": 4,
 "nbformat_minor": 5
}
