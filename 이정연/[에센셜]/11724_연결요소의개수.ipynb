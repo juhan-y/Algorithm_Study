{
 "cells": [
  {
   "cell_type": "markdown",
   "id": "50de7ab0",
   "metadata": {},
   "source": [
    "#### 연결 요소?\n",
    "\n",
    "- 나누어진 각각의 그래프"
   ]
  },
  {
   "cell_type": "code",
   "execution_count": null,
   "id": "b23e4c61",
   "metadata": {},
   "outputs": [],
   "source": [
    "import sys\n",
    "input = sys.stdin.readline"
   ]
  },
  {
   "cell_type": "code",
   "execution_count": 47,
   "id": "fafbd1a5",
   "metadata": {},
   "outputs": [],
   "source": [
    "# dfs\n",
    "def dfs(graph, start, visited):\n",
    "    global result\n",
    "    \n",
    "    stack = []\n",
    "    stack.append(start)\n",
    "    visited[start] = True\n",
    "    \n",
    "    while stack:\n",
    "        v = stack.pop()\n",
    "        \n",
    "        for i in graph[v]:\n",
    "            if not visited[i]:\n",
    "                stack.append(i)\n",
    "                visited[i] = True\n",
    "                \n",
    "    result += 1"
   ]
  },
  {
   "cell_type": "code",
   "execution_count": 48,
   "id": "7e862432",
   "metadata": {},
   "outputs": [
    {
     "name": "stdout",
     "output_type": "stream",
     "text": [
      "6 8\n",
      "1 2\n",
      "2 5\n",
      "5 1\n",
      "3 4\n",
      "4 6\n",
      "5 4\n",
      "2 4\n",
      "2 3\n"
     ]
    }
   ],
   "source": [
    "# 정점, 간선 개수\n",
    "n, m = map(int, input().split())\n",
    "\n",
    "# 간선 정보\n",
    "graph = [[] for _ in range(n + 1)]\n",
    "for _ in range(m):\n",
    "    u, v = map(int, input().split())\n",
    "    graph[u].append(v)\n",
    "    graph[v].append(u)\n",
    "    \n",
    "for i in graph:\n",
    "    i.sort()\n",
    "    \n",
    "# 방문 정보\n",
    "visited = [False for _ in range(n + 1)]\n",
    "\n",
    "# 정답\n",
    "result = 0"
   ]
  },
  {
   "cell_type": "code",
   "execution_count": 49,
   "id": "4f1a1304",
   "metadata": {},
   "outputs": [
    {
     "name": "stdout",
     "output_type": "stream",
     "text": [
      "1\n"
     ]
    }
   ],
   "source": [
    "# 방문하지 않았을 때에만 dfs를 실행해 result를 증가\n",
    "for i in range(1, len(graph)):\n",
    "    if not visited[i]:\n",
    "        dfs(graph, i, visited)\n",
    "        \n",
    "print(result)"
   ]
  },
  {
   "cell_type": "code",
   "execution_count": null,
   "id": "9a5e8beb",
   "metadata": {},
   "outputs": [],
   "source": []
  }
 ],
 "metadata": {
  "kernelspec": {
   "display_name": "Python 3 (ipykernel)",
   "language": "python",
   "name": "python3"
  },
  "language_info": {
   "codemirror_mode": {
    "name": "ipython",
    "version": 3
   },
   "file_extension": ".py",
   "mimetype": "text/x-python",
   "name": "python",
   "nbconvert_exporter": "python",
   "pygments_lexer": "ipython3",
   "version": "3.9.13"
  }
 },
 "nbformat": 4,
 "nbformat_minor": 5
}
