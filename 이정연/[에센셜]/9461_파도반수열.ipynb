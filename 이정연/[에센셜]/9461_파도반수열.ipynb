{
 "cells": [
  {
   "cell_type": "code",
   "execution_count": 10,
   "id": "c1a3e9e9",
   "metadata": {},
   "outputs": [
    {
     "name": "stdout",
     "output_type": "stream",
     "text": [
      "2\n",
      "6\n",
      "3\n",
      "12\n",
      "16\n"
     ]
    }
   ],
   "source": [
    "t = int(input())\n",
    "dp = [0] * 100\n",
    "dp[0] = 1\n",
    "dp[1] = 1\n",
    "dp[2] = 1\n",
    "\n",
    "for i in range(3, len(dp)):\n",
    "    dp[i] = dp[i - 3] + dp[i - 2]\n",
    "    \n",
    "for _ in range(t):\n",
    "    n = int(input())\n",
    "    print(dp[n - 1])"
   ]
  },
  {
   "cell_type": "code",
   "execution_count": null,
   "id": "f135ae06",
   "metadata": {},
   "outputs": [],
   "source": []
  }
 ],
 "metadata": {
  "kernelspec": {
   "display_name": "Python 3 (ipykernel)",
   "language": "python",
   "name": "python3"
  },
  "language_info": {
   "codemirror_mode": {
    "name": "ipython",
    "version": 3
   },
   "file_extension": ".py",
   "mimetype": "text/x-python",
   "name": "python",
   "nbconvert_exporter": "python",
   "pygments_lexer": "ipython3",
   "version": "3.9.13"
  }
 },
 "nbformat": 4,
 "nbformat_minor": 5
}
