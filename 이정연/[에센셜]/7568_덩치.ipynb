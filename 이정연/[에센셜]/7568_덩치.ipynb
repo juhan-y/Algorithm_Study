{
 "cells": [
  {
   "cell_type": "markdown",
   "id": "8ab2f044",
   "metadata": {},
   "source": [
    "- 1. 키와 몸무게 둘 중 하나만 큰 경우 : count += 1\n",
    "- 2. 키와 몸무게 둘 다 큰 경우 : count += 1\n",
    "- 3. 키 or 몸무게 : count 증가시키지 않음"
   ]
  },
  {
   "cell_type": "code",
   "execution_count": 1,
   "id": "38990fb6",
   "metadata": {},
   "outputs": [
    {
     "name": "stdout",
     "output_type": "stream",
     "text": [
      "5\n",
      "55 185\n",
      "58 183\n",
      "88 186\n",
      "60 175\n",
      "46 155\n"
     ]
    }
   ],
   "source": [
    "n = int(input())\n",
    "\n",
    "# 몸무게, 키 (x, y)\n",
    "array = []\n",
    "for _ in range(n):\n",
    "    a, b = map(int, input().split())\n",
    "    array.append([a, b])"
   ]
  },
  {
   "cell_type": "code",
   "execution_count": 4,
   "id": "49dafa6a",
   "metadata": {},
   "outputs": [
    {
     "name": "stdout",
     "output_type": "stream",
     "text": [
      "2 2 1 2 5 "
     ]
    }
   ],
   "source": [
    "for i in array:\n",
    "    \n",
    "    # 매 시도 떄 count를 초기화\n",
    "    count = 1\n",
    "    \n",
    "    for j in array:    \n",
    "        \n",
    "        # 조건을 만족하면 count를 증가\n",
    "        # 키, 몸무게 둘 모두 이겨야함\n",
    "        if i[0] < j[0] and i[1] < j[1]:\n",
    "            count += 1\n",
    "            \n",
    "    print(count, end = ' ')"
   ]
  },
  {
   "cell_type": "code",
   "execution_count": null,
   "id": "061408d1",
   "metadata": {},
   "outputs": [],
   "source": []
  }
 ],
 "metadata": {
  "kernelspec": {
   "display_name": "Python 3 (ipykernel)",
   "language": "python",
   "name": "python3"
  },
  "language_info": {
   "codemirror_mode": {
    "name": "ipython",
    "version": 3
   },
   "file_extension": ".py",
   "mimetype": "text/x-python",
   "name": "python",
   "nbconvert_exporter": "python",
   "pygments_lexer": "ipython3",
   "version": "3.9.13"
  }
 },
 "nbformat": 4,
 "nbformat_minor": 5
}
