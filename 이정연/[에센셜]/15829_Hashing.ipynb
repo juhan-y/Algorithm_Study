{
 "cells": [
  {
   "cell_type": "markdown",
   "id": "e4b78b3f",
   "metadata": {},
   "source": [
    "- 입력 : 영문 소문자 구성 (1부터 26까지 번호 부여)\n",
    "- 문자열/수열을 하나의 정수로 치환\n",
    "- 수열의 값을 모두 더할 수도 있음\n",
    "- 이를 적당히 큰 수 M으로 나눠줌\n",
    "- 출력 범위는 정해져 있음"
   ]
  },
  {
   "cell_type": "markdown",
   "id": "88301bb3",
   "metadata": {},
   "source": [
    "- 좋은 해시 함수는 충돌이 적게 일어나야 함\n",
    "- 수열의 각 항마다 고유한 계수를 부여\n",
    "- 항 번호에 해당하는 만큼 특정한 숫자를 거듭제곱해서 곱해준 다음 더하는 것"
   ]
  },
  {
   "attachments": {
    "image.png": {
     "image/png": "[encoded data removed]"
    }
   },
   "cell_type": "markdown",
   "id": "d1985aa7",
   "metadata": {},
   "source": [
    "![image.png](attachment:image.png)"
   ]
  },
  {
   "cell_type": "markdown",
   "id": "e79bb650",
   "metadata": {},
   "source": [
    "- r의 값은 26보다 큰 소수인 31\n",
    "- M의 값은 1234567891\n",
    "    - MOD는 나머지"
   ]
  },
  {
   "cell_type": "code",
   "execution_count": 17,
   "id": "f9c7c161",
   "metadata": {},
   "outputs": [
    {
     "name": "stdout",
     "output_type": "stream",
     "text": [
      "1\n",
      "i\n"
     ]
    }
   ],
   "source": [
    "dic = {'a':1, 'b':2, 'c':3, 'd':4, 'e':5,\n",
    "       'f':6, 'g':7, 'h':8, 'i':9, 'j':10,\n",
    "       'k':11, 'l':12, 'm':13, 'n':14, 'o':15,\n",
    "       'p':16, 'q':17, 'r':18, 's':19, 't':20,\n",
    "       'u':21, 'v':22, 'w':23, 'x':24, 'y':25, 'z':26}\n",
    "\n",
    "# 문자열의 길이 L\n",
    "# 문자열\n",
    "l = int(input())\n",
    "string = input()"
   ]
  },
  {
   "cell_type": "code",
   "execution_count": 20,
   "id": "28e7285c",
   "metadata": {},
   "outputs": [
    {
     "name": "stdout",
     "output_type": "stream",
     "text": [
      "9\n"
     ]
    }
   ],
   "source": [
    "# l-1 == 4\n",
    "# a0r0 + a1r1 + a2r2 + a3r3 + a4r4\n",
    "# 1 + (a1 * 31) + (a2 * 31^2) + (a3 * 31^3) + (a4 * 31^4)\n",
    "\n",
    "result = 0\n",
    "for i in range(l):\n",
    "    result += (dic[string[i]] * 31**i)\n",
    "    \n",
    "print(result%1234567891)"
   ]
  },
  {
   "cell_type": "code",
   "execution_count": null,
   "id": "8c3e0828",
   "metadata": {},
   "outputs": [],
   "source": []
  }
 ],
 "metadata": {
  "kernelspec": {
   "display_name": "Python 3 (ipykernel)",
   "language": "python",
   "name": "python3"
  },
  "language_info": {
   "codemirror_mode": {
    "name": "ipython",
    "version": 3
   },
   "file_extension": ".py",
   "mimetype": "text/x-python",
   "name": "python",
   "nbconvert_exporter": "python",
   "pygments_lexer": "ipython3",
   "version": "3.9.13"
  }
 },
 "nbformat": 4,
 "nbformat_minor": 5
}
