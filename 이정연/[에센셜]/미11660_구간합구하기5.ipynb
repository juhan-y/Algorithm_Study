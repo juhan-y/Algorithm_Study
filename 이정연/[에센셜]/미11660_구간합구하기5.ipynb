{
 "cells": [
  {
   "cell_type": "code",
   "execution_count": null,
   "id": "9f806200",
   "metadata": {},
   "outputs": [],
   "source": [
    "import sys\n",
    "input = sys.stdin.readline"
   ]
  },
  {
   "cell_type": "markdown",
   "id": "4815becf",
   "metadata": {},
   "source": [
    "#### 메모리 초과"
   ]
  },
  {
   "cell_type": "code",
   "execution_count": 46,
   "id": "d18374bb",
   "metadata": {},
   "outputs": [
    {
     "name": "stdout",
     "output_type": "stream",
     "text": [
      "4 3\n",
      "1 2 3 4\n",
      "2 3 4 5\n",
      "3 4 5 6\n",
      "4 5 6 7\n",
      "2 2 3 4\n",
      "27\n",
      "3 4 3 4\n",
      "6\n",
      "1 1 4 4\n",
      "64\n"
     ]
    }
   ],
   "source": [
    "# 표의 크기 n, 합을 구해야 하는 횟수 m\n",
    "n, m = map(int, input().split())\n",
    "\n",
    "# 표에 채워져 있는 수\n",
    "array = []\n",
    "for _ in range(n):\n",
    "    tmp = list(map(int, input().split()))\n",
    "    array.append(tmp)\n",
    "\n",
    "# 각 케이스 실험 시작\n",
    "for _ in range(m):\n",
    "    x1, y1, x2, y2 = map(int, input().split())\n",
    "    \n",
    "    # 인덱스를 맞춰주기 위해 1씩 뺀 변수 생성\n",
    "    row, column = x1 - 1, y1 - 1\n",
    "    \n",
    "    # 더해줄 값\n",
    "    add_row, add_column = 0, 0\n",
    "\n",
    "    # 행, 열 좌표를 저장할 리스트\n",
    "    rows = []\n",
    "    columns = []\n",
    "\n",
    "    # 행 계산\n",
    "    while row + add_row != x2:\n",
    "        if row + add_row > n:\n",
    "            add_row = 0\n",
    "\n",
    "        rows.append(row + add_row)\n",
    "        add_row += 1\n",
    "\n",
    "    # 열 계산\n",
    "    while column + add_column != y2:\n",
    "        if column + add_column > n:\n",
    "            add_column = 0\n",
    "            \n",
    "        columns.append(column + add_column)\n",
    "        add_column += 1\n",
    "        \n",
    "    # 정답 계산\n",
    "    result = 0\n",
    "\n",
    "    for i in rows:\n",
    "        for j in columns:\n",
    "            result += array[i][j]\n",
    "\n",
    "    print(result)"
   ]
  },
  {
   "cell_type": "code",
   "execution_count": null,
   "id": "270e6250",
   "metadata": {},
   "outputs": [],
   "source": []
  }
 ],
 "metadata": {
  "kernelspec": {
   "display_name": "Python 3 (ipykernel)",
   "language": "python",
   "name": "python3"
  },
  "language_info": {
   "codemirror_mode": {
    "name": "ipython",
    "version": 3
   },
   "file_extension": ".py",
   "mimetype": "text/x-python",
   "name": "python",
   "nbconvert_exporter": "python",
   "pygments_lexer": "ipython3",
   "version": "3.9.13"
  }
 },
 "nbformat": 4,
 "nbformat_minor": 5
}
