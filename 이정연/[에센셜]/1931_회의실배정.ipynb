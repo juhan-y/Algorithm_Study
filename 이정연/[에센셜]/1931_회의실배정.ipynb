{
 "cells": [
  {
   "cell_type": "code",
   "execution_count": null,
   "id": "aa920226",
   "metadata": {},
   "outputs": [],
   "source": [
    "import sys\n",
    "sys.stdin.readline"
   ]
  },
  {
   "cell_type": "code",
   "execution_count": 14,
   "id": "04cab273",
   "metadata": {},
   "outputs": [
    {
     "name": "stdout",
     "output_type": "stream",
     "text": [
      "11\n",
      "1 4\n",
      "3 5\n",
      "0 6\n",
      "5 7\n",
      "3 8\n",
      "5 9\n",
      "6 10\n",
      "8 11\n",
      "8 12\n",
      "2 13\n",
      "12 14\n"
     ]
    }
   ],
   "source": [
    "n = int(input())\n",
    "time = []\n",
    "\n",
    "for _ in range(n):\n",
    "    start, end = map(int, input().split())\n",
    "    time.append([start, end])\n",
    "    \n",
    "# 빨리 끝나는 회의 순서대로 정렬\n",
    "# 잘못된 경우의 수를 없애기 위함\n",
    "time = sorted(time, key=lambda x: x[0])\n",
    "time = sorted(time, key=lambda x: x[1])"
   ]
  },
  {
   "cell_type": "code",
   "execution_count": 17,
   "id": "e6dadd23",
   "metadata": {},
   "outputs": [
    {
     "name": "stdout",
     "output_type": "stream",
     "text": [
      "4\n"
     ]
    }
   ],
   "source": [
    "last = -1\n",
    "count = 0\n",
    "\n",
    "for t in time:\n",
    "    if t[0] >= last:\n",
    "        count += 1\n",
    "        last = t[1]\n",
    "        \n",
    "print(count)"
   ]
  },
  {
   "cell_type": "code",
   "execution_count": null,
   "id": "7675ef1e",
   "metadata": {},
   "outputs": [],
   "source": []
  }
 ],
 "metadata": {
  "kernelspec": {
   "display_name": "Python 3 (ipykernel)",
   "language": "python",
   "name": "python3"
  },
  "language_info": {
   "codemirror_mode": {
    "name": "ipython",
    "version": 3
   },
   "file_extension": ".py",
   "mimetype": "text/x-python",
   "name": "python",
   "nbconvert_exporter": "python",
   "pygments_lexer": "ipython3",
   "version": "3.9.13"
  }
 },
 "nbformat": 4,
 "nbformat_minor": 5
}
