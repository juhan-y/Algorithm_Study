{
 "cells": [
  {
   "cell_type": "markdown",
   "id": "48158367",
   "metadata": {},
   "source": [
    "### 분할 정복"
   ]
  },
  {
   "cell_type": "markdown",
   "id": "cff6075a",
   "metadata": {},
   "source": [
    "- 1인 경우\n",
    "- 짝수인 경우\n",
    "- 홀수인 경우"
   ]
  },
  {
   "cell_type": "code",
   "execution_count": null,
   "id": "54542789",
   "metadata": {},
   "outputs": [],
   "source": [
    "import sys\n",
    "input = sys.stdin.readline"
   ]
  },
  {
   "cell_type": "markdown",
   "id": "123778c2",
   "metadata": {},
   "source": [
    "#### 그냥"
   ]
  },
  {
   "cell_type": "code",
   "execution_count": 25,
   "id": "53132605",
   "metadata": {},
   "outputs": [
    {
     "name": "stdout",
     "output_type": "stream",
     "text": [
      "4\n"
     ]
    }
   ],
   "source": [
    "#a, b, c = map(int, input().split())\n",
    "a, b, c = 10, 11, 12\n",
    "\n",
    "print(a**b % c)"
   ]
  },
  {
   "cell_type": "markdown",
   "id": "30a8424f",
   "metadata": {},
   "source": [
    "#### 시간 초과\n",
    "\n",
    "- 2^10 = 2^5 * 2^5\n",
    "- 2^11 = 2^5 * 2^5 * 2"
   ]
  },
  {
   "cell_type": "code",
   "execution_count": 26,
   "id": "bf01368f",
   "metadata": {},
   "outputs": [
    {
     "name": "stdout",
     "output_type": "stream",
     "text": [
      "4\n"
     ]
    }
   ],
   "source": [
    "def power(a, b):\n",
    "    if b == 1:\n",
    "        return a % c\n",
    "    \n",
    "    tmp = power(a, b // 2)\n",
    "    \n",
    "    if b % 2 == 0:\n",
    "        return tmp * tmp % c\n",
    "    \n",
    "    if b % 2 == 1:\n",
    "        return tmp * tmp * a % c\n",
    "\n",
    "#a, b, c = map(int, input().split())\n",
    "a, b, c = 10, 11, 12\n",
    "\n",
    "print(power(a, b))"
   ]
  },
  {
   "cell_type": "code",
   "execution_count": null,
   "id": "fca99538",
   "metadata": {},
   "outputs": [],
   "source": []
  }
 ],
 "metadata": {
  "kernelspec": {
   "display_name": "Python 3 (ipykernel)",
   "language": "python",
   "name": "python3"
  },
  "language_info": {
   "codemirror_mode": {
    "name": "ipython",
    "version": 3
   },
   "file_extension": ".py",
   "mimetype": "text/x-python",
   "name": "python",
   "nbconvert_exporter": "python",
   "pygments_lexer": "ipython3",
   "version": "3.9.13"
  }
 },
 "nbformat": 4,
 "nbformat_minor": 5
}
