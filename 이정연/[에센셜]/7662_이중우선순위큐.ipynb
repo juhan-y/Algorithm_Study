{
 "cells": [
  {
   "cell_type": "code",
   "execution_count": null,
   "id": "639b015c",
   "metadata": {},
   "outputs": [],
   "source": [
    "import sys\n",
    "input = sys.stdin.readline"
   ]
  },
  {
   "cell_type": "code",
   "execution_count": 7,
   "id": "2a816fa5",
   "metadata": {},
   "outputs": [
    {
     "name": "stdout",
     "output_type": "stream",
     "text": [
      "2\n",
      "7\n",
      "I 16\n",
      "I -5643\n",
      "D -1\n",
      "D 1\n",
      "D 1\n",
      "I 123\n",
      "D -1\n",
      "9\n",
      "I -45\n",
      "I 653\n",
      "D 1\n",
      "I -642\n",
      "I 45\n",
      "I 97\n",
      "D 1\n",
      "D -1\n",
      "I 333\n"
     ]
    }
   ],
   "source": [
    "import heapq\n",
    "\n",
    "t = int(input())\n",
    "for _ in range(t):\n",
    "    visited = [False] * 1000001\n",
    "    min_q, max_q = [], []\n",
    "    k = int(input())\n",
    "    \n",
    "    for i in range(k):\n",
    "        key, value = map(str, input().split())\n",
    "        \n",
    "        # 정수를 큐에 삽입\n",
    "        if key == 'I':\n",
    "            heapq.heappush(min_q, (int(value), i))\n",
    "            heapq.heappush(max_q, (-int(value), i))\n",
    "            visited[i] = True\n",
    "            \n",
    "        if key == 'D':\n",
    "            # 최솟값을 큐에서 삭제\n",
    "            if value == '-1':\n",
    "                # 해당 노드가 다른 힙에서 삭제된 노드인가를 판단\n",
    "                # 다른 힙에서 삭제된 노드인경우 삭제되지 않은 노드가 나올때까지 버리다가 삭제\n",
    "                # visit이 False == 해당 노드가 삭제된 상태\n",
    "                while min_q and not visited[min_q[0][1]]:\n",
    "                    # 상대 힙에서 삭제된 노드라면 버림\n",
    "                    heapq.heappop(min_q)\n",
    "                if min_q:\n",
    "                    # visit이 True -> False로 바꾸고 삭제\n",
    "                    visited[min_q[0][1]] = False\n",
    "                    heapq.heappop(min_q)\n",
    "                \n",
    "            # 최댓값을 큐에서 삭제\n",
    "            if value == '1':\n",
    "                # 해당 노드가 다른 힙에서 삭제된 노드인가를 판단\n",
    "                # 다른 힙에서 삭제된 노드인경우 삭제되지 않은 노드가 나올때까지 버리다가 삭제\n",
    "                # visit이 False == 해당 노드가 삭제된 상태\n",
    "                while max_q and not visited[max_q[0][1]]:\n",
    "                    # 상대 힙에서 삭제된 노드라면 버림\n",
    "                    heapq.heappop(max_q)\n",
    "                if max_q:\n",
    "                    # visit이 True -> False로 바꾸고 삭제\n",
    "                    visited[max_q[0][1]] = False\n",
    "                    heapq.heappop(max_q)\n",
    "                    \n",
    "    # 모든 연산이 끝난 후 결과를 내기 전 모든 노드를 비움\n",
    "    while min_q and not visited[min_q[0][1]]:\n",
    "        heapq.heappop(min_q)\n",
    "    while max_q and not visited[max_q[0][1]]:\n",
    "        heapq.heappop(max_q)\n",
    "                   \n",
    "    # 각 힙의 첫 번째 원소값을 출력\n",
    "    if min_q and max_q:\n",
    "        print(-max_q[0][0], min_q[0][0])\n",
    "    else:\n",
    "        print('EMPTY')"
   ]
  },
  {
   "cell_type": "code",
   "execution_count": null,
   "id": "c538ac2f",
   "metadata": {},
   "outputs": [],
   "source": []
  }
 ],
 "metadata": {
  "kernelspec": {
   "display_name": "Python 3 (ipykernel)",
   "language": "python",
   "name": "python3"
  },
  "language_info": {
   "codemirror_mode": {
    "name": "ipython",
    "version": 3
   },
   "file_extension": ".py",
   "mimetype": "text/x-python",
   "name": "python",
   "nbconvert_exporter": "python",
   "pygments_lexer": "ipython3",
   "version": "3.9.13"
  }
 },
 "nbformat": 4,
 "nbformat_minor": 5
}
