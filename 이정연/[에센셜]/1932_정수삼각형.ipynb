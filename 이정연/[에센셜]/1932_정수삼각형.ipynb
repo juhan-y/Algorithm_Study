{
 "cells": [
  {
   "cell_type": "code",
   "execution_count": 6,
   "id": "e5a8af67",
   "metadata": {},
   "outputs": [
    {
     "name": "stdout",
     "output_type": "stream",
     "text": [
      "5\n",
      "7\n",
      "3 8\n",
      "8 1 0\n",
      "2 7 4 4\n",
      "4 5 2 6 5\n"
     ]
    }
   ],
   "source": [
    "n = int(input())\n",
    "\n",
    "# 0. 트리\n",
    "graph = []\n",
    "for i in range(n):\n",
    "    graph.append(list(map(int, input().split())))"
   ]
  },
  {
   "cell_type": "code",
   "execution_count": 22,
   "id": "93cd041c",
   "metadata": {},
   "outputs": [
    {
     "data": {
      "text/plain": [
       "[[7], [3, 8], [8, 1, 0], [2, 7, 4, 4], [4, 5, 2, 6, 5]]"
      ]
     },
     "execution_count": 22,
     "metadata": {},
     "output_type": "execute_result"
    }
   ],
   "source": [
    "graph"
   ]
  },
  {
   "cell_type": "code",
   "execution_count": 14,
   "id": "53efd6d2",
   "metadata": {},
   "outputs": [],
   "source": [
    "# 1. dp 테이블 생성\n",
    "dp = [[0] * (x + 1) for x in range(n)]\n",
    "\n",
    "# 2. dp 테이블의 [0][0]을 채움\n",
    "dp[0][0] = graph[0][0]\n",
    "\n",
    "# 3. dp 테이블을 채우기\n",
    "for i in range(1, n): # 맨 처음은 이미 채웠기 때문에 1부터\n",
    "    for j in range(i + 1):\n",
    "\n",
    "        # 트리의 왼쪽 끝\n",
    "        if j == 0:\n",
    "            # 바로 위\n",
    "            dp[i][j] = dp[i - 1][j] + graph[i][j]\n",
    "            \n",
    "        # 트리의 오른쪽 끝\n",
    "        elif j == i:\n",
    "            # 왼쪽 위\n",
    "            dp[i][j] = dp[i - 1][j - 1] + graph[i][j]\n",
    "            \n",
    "        # 트리의 중간 부분 (부모가 둘 이상)\n",
    "        else:\n",
    "            # 왼쪽 위 vs 바로 위 (오른쪽)\n",
    "            dp[i][j] = max(dp[i - 1][j - 1], dp[i - 1][j]) + graph[i][j]"
   ]
  },
  {
   "cell_type": "code",
   "execution_count": 24,
   "id": "8842492a",
   "metadata": {},
   "outputs": [
    {
     "data": {
      "text/plain": [
       "[[7], [10, 15], [18, 16, 15], [20, 25, 20, 19], [24, 30, 27, 26, 24]]"
      ]
     },
     "execution_count": 24,
     "metadata": {},
     "output_type": "execute_result"
    }
   ],
   "source": [
    "dp"
   ]
  },
  {
   "cell_type": "code",
   "execution_count": 23,
   "id": "779b2c57",
   "metadata": {},
   "outputs": [
    {
     "name": "stdout",
     "output_type": "stream",
     "text": [
      "30\n"
     ]
    }
   ],
   "source": [
    "print(max(dp[-1]))"
   ]
  },
  {
   "cell_type": "code",
   "execution_count": null,
   "id": "ab806a6c",
   "metadata": {},
   "outputs": [],
   "source": []
  }
 ],
 "metadata": {
  "kernelspec": {
   "display_name": "Python 3 (ipykernel)",
   "language": "python",
   "name": "python3"
  },
  "language_info": {
   "codemirror_mode": {
    "name": "ipython",
    "version": 3
   },
   "file_extension": ".py",
   "mimetype": "text/x-python",
   "name": "python",
   "nbconvert_exporter": "python",
   "pygments_lexer": "ipython3",
   "version": "3.9.13"
  }
 },
 "nbformat": 4,
 "nbformat_minor": 5
}
