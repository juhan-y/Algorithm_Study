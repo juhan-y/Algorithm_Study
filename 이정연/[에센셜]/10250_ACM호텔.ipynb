{
 "cells": [
  {
   "cell_type": "markdown",
   "id": "2efe6e19",
   "metadata": {},
   "source": [
    "- 걷는 거리가 가장 짧도록 방을 배정\n",
    "- w개의 방이 있는 h층 건물 (h * w 형태 호텔)\n",
    "- 인접한 두 방 사이 거리는 1\n",
    "\n",
    "- 방 번호는 YXX나 YYXX 형태\n",
    "    - Y나 YY는 층\n",
    "    - XX는 엘리베이터에서 세었을 때의 번호"
   ]
  },
  {
   "cell_type": "markdown",
   "id": "832e9c58",
   "metadata": {},
   "source": [
    "- h, w, n = 5, 5, 6 일 때\n",
    "- 층수는 6 % 5 = 1층\n",
    "- 호수는 6 / 5 + 1 = 2호\n",
    "\n",
    "\n",
    "- 예외\n",
    "- 만약 층수가 0층이면, 높이를 h로 설정.\n",
    "- 호수를 1 줄여줘야함"
   ]
  },
  {
   "cell_type": "code",
   "execution_count": 1,
   "id": "116ea0ab",
   "metadata": {},
   "outputs": [
    {
     "name": "stdout",
     "output_type": "stream",
     "text": [
      "2\n",
      "6 12 10\n",
      "402\n",
      "30 50 72\n",
      "1203\n"
     ]
    }
   ],
   "source": [
    "t = int(input())\n",
    "for _ in range(t):\n",
    "    # 호텔의 층 수, 각 층의 방 수, 몇 번쨰 손님인지\n",
    "    h, w, n = map(int, input().split())\n",
    "    \n",
    "    # 손님의 번호가 h를 넘어가면 n % h 만큼의 층에 머무르기\n",
    "    floor = n % h\n",
    "    \n",
    "    # (n // h) + 1 만큼 엘리베이터에서 떨어진 곳에 머무르기\n",
    "    room_line = (n // h) + 1\n",
    "    \n",
    "    # 나머지가 0일 경우 고려\n",
    "    if floor == 0:\n",
    "        floor = h\n",
    "        room_line -= 1\n",
    "        \n",
    "    print(floor * 100 + room_line)"
   ]
  },
  {
   "cell_type": "code",
   "execution_count": null,
   "id": "da367b33",
   "metadata": {},
   "outputs": [],
   "source": []
  }
 ],
 "metadata": {
  "kernelspec": {
   "display_name": "Python 3 (ipykernel)",
   "language": "python",
   "name": "python3"
  },
  "language_info": {
   "codemirror_mode": {
    "name": "ipython",
    "version": 3
   },
   "file_extension": ".py",
   "mimetype": "text/x-python",
   "name": "python",
   "nbconvert_exporter": "python",
   "pygments_lexer": "ipython3",
   "version": "3.9.13"
  }
 },
 "nbformat": 4,
 "nbformat_minor": 5
}
