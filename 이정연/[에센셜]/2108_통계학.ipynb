{
 "cells": [
  {
   "cell_type": "code",
   "execution_count": 43,
   "id": "39d7d136",
   "metadata": {},
   "outputs": [
    {
     "name": "stdout",
     "output_type": "stream",
     "text": [
      "5\n",
      "1\n",
      "3\n",
      "8\n",
      "-2\n",
      "2\n"
     ]
    }
   ],
   "source": [
    "n = int(input())\n",
    "array = []\n",
    "for _ in range(n):\n",
    "    array.append(int(input()))\n",
    "    \n",
    "array.sort()"
   ]
  },
  {
   "cell_type": "code",
   "execution_count": 72,
   "id": "aa73dd1e",
   "metadata": {},
   "outputs": [
    {
     "name": "stdout",
     "output_type": "stream",
     "text": [
      "2\n",
      "2\n",
      "1\n",
      "10\n"
     ]
    }
   ],
   "source": [
    "from collections import Counter\n",
    "\n",
    "# 산술평균\n",
    "print(round(sum(array) / len(array)))\n",
    "\n",
    "# 중앙값\n",
    "print(array[len(array) // 2])\n",
    "\n",
    "# 최빈값\n",
    "cnt = Counter(array).most_common(2)\n",
    "\n",
    "if len(array) == 1:\n",
    "    print(cnt[0][0])\n",
    "else:\n",
    "    # 최빈값이 여러개면 최빈값 중 두 번째로 작은 값을 출력\n",
    "    if cnt[0][1] == cnt[1][1]:\n",
    "        print(cnt[1][0])\n",
    "        \n",
    "    # 최빈값이 하나면 최빈값을 출력\n",
    "    else:\n",
    "        print(cnt[0][0])\n",
    "\n",
    "# 범위\n",
    "print(int(array[-1] - array[0]))"
   ]
  },
  {
   "cell_type": "code",
   "execution_count": null,
   "id": "c0e27f10",
   "metadata": {},
   "outputs": [],
   "source": []
  }
 ],
 "metadata": {
  "kernelspec": {
   "display_name": "Python 3 (ipykernel)",
   "language": "python",
   "name": "python3"
  },
  "language_info": {
   "codemirror_mode": {
    "name": "ipython",
    "version": 3
   },
   "file_extension": ".py",
   "mimetype": "text/x-python",
   "name": "python",
   "nbconvert_exporter": "python",
   "pygments_lexer": "ipython3",
   "version": "3.9.13"
  }
 },
 "nbformat": 4,
 "nbformat_minor": 5
}
