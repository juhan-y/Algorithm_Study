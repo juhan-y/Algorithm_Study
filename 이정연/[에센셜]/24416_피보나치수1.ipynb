{
 "cells": [
  {
   "cell_type": "markdown",
   "id": "548b1a21",
   "metadata": {},
   "source": [
    "#### 시간초과"
   ]
  },
  {
   "cell_type": "code",
   "execution_count": 17,
   "id": "e3e6d68c",
   "metadata": {},
   "outputs": [
    {
     "name": "stdout",
     "output_type": "stream",
     "text": [
      "5\n",
      "5 3\n"
     ]
    }
   ],
   "source": [
    "# 입력\n",
    "n = int(input())\n",
    "\n",
    "# 재귀\n",
    "def fibo(x):\n",
    "    if x == 1 or x == 2:\n",
    "        return 1\n",
    "    else:\n",
    "        return fibo(x - 1) + fibo(x - 2)\n",
    "    \n",
    "# dp\n",
    "dp = [0] * (n + 1) # n + 1이 아닌 41로 하면 count가 끝까지 증가함\n",
    "dp[1] = 1\n",
    "dp[2] = 1\n",
    "count = 0\n",
    "\n",
    "for i in range(3, n + 1):\n",
    "    count += 1\n",
    "    dp[i] = dp[i - 2] + dp[i - 1]\n",
    "    \n",
    "# 결과 출력\n",
    "print(fibo(n), count)"
   ]
  },
  {
   "cell_type": "code",
   "execution_count": 18,
   "id": "f7944c2a",
   "metadata": {},
   "outputs": [
    {
     "name": "stdout",
     "output_type": "stream",
     "text": [
      "5\n",
      "5 3\n"
     ]
    }
   ],
   "source": [
    "# 입력\n",
    "n = int(input())\n",
    "    \n",
    "# dp\n",
    "dp = [0] * (n + 1) # n + 1이 아닌 41로 하면 count가 끝까지 증가함\n",
    "dp[1] = 1\n",
    "dp[2] = 1\n",
    "count = 0\n",
    "\n",
    "for i in range(3, n + 1):\n",
    "    count += 1\n",
    "    dp[i] = dp[i - 2] + dp[i - 1]\n",
    "    \n",
    "# 결과 출력\n",
    "print(dp[n], count)"
   ]
  },
  {
   "cell_type": "code",
   "execution_count": null,
   "id": "d6b9d82e",
   "metadata": {},
   "outputs": [],
   "source": []
  }
 ],
 "metadata": {
  "kernelspec": {
   "display_name": "Python 3 (ipykernel)",
   "language": "python",
   "name": "python3"
  },
  "language_info": {
   "codemirror_mode": {
    "name": "ipython",
    "version": 3
   },
   "file_extension": ".py",
   "mimetype": "text/x-python",
   "name": "python",
   "nbconvert_exporter": "python",
   "pygments_lexer": "ipython3",
   "version": "3.9.13"
  }
 },
 "nbformat": 4,
 "nbformat_minor": 5
}
