{
 "cells": [
  {
   "cell_type": "markdown",
   "id": "2f035ada",
   "metadata": {},
   "source": [
    "- 트리의 루트는 1\n",
    "- 그 노드를 탐색한 직전 노드의 번호를 기록"
   ]
  },
  {
   "cell_type": "code",
   "execution_count": null,
   "id": "ea561087",
   "metadata": {},
   "outputs": [],
   "source": [
    "import sys\n",
    "input = sys.stdin.readline"
   ]
  },
  {
   "cell_type": "code",
   "execution_count": 3,
   "id": "72d312b1",
   "metadata": {},
   "outputs": [
    {
     "name": "stdout",
     "output_type": "stream",
     "text": [
      "7\n",
      "1 6\n",
      "6 3\n",
      "3 5\n",
      "4 1\n",
      "2 4\n",
      "4 7\n",
      "4\n",
      "6\n",
      "1\n",
      "3\n",
      "1\n",
      "4\n"
     ]
    }
   ],
   "source": [
    "# dfs 선언\n",
    "def dfs(graph, start):\n",
    "    stack = [start]\n",
    "    \n",
    "    while stack:\n",
    "        v = stack.pop()\n",
    "        \n",
    "        for i in graph[v]:\n",
    "            if result[i] == 0:\n",
    "                result[i] = v\n",
    "                stack.append(i)\n",
    "\n",
    "# 간선의 개수\n",
    "n = int(input())\n",
    "\n",
    "# 그래프\n",
    "graph = [[] for i in range(n+1)]\n",
    "\n",
    "for i in range(n - 1):\n",
    "    a, b = map(int, input().split())\n",
    "    graph[a].append(b)\n",
    "    graph[b].append(a)\n",
    "    \n",
    "for i in graph:\n",
    "    i.sort()\n",
    "\n",
    "# 결과 리스트\n",
    "result = [0] * (n + 1)\n",
    "\n",
    "# 함수 실행\n",
    "dfs(graph, 1)\n",
    "\n",
    "# 결과 출력\n",
    "for i in result[2:]:\n",
    "    print(i)"
   ]
  },
  {
   "cell_type": "code",
   "execution_count": null,
   "id": "a299466c",
   "metadata": {},
   "outputs": [],
   "source": []
  }
 ],
 "metadata": {
  "kernelspec": {
   "display_name": "Python 3 (ipykernel)",
   "language": "python",
   "name": "python3"
  },
  "language_info": {
   "codemirror_mode": {
    "name": "ipython",
    "version": 3
   },
   "file_extension": ".py",
   "mimetype": "text/x-python",
   "name": "python",
   "nbconvert_exporter": "python",
   "pygments_lexer": "ipython3",
   "version": "3.9.13"
  }
 },
 "nbformat": 4,
 "nbformat_minor": 5
}
