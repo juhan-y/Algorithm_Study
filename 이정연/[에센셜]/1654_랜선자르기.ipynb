{
 "cells": [
  {
   "cell_type": "code",
   "execution_count": 10,
   "id": "fbd68bd6",
   "metadata": {},
   "outputs": [
    {
     "name": "stdout",
     "output_type": "stream",
     "text": [
      "4 11\n",
      "802\n",
      "743\n",
      "457\n",
      "539\n",
      "200\n"
     ]
    }
   ],
   "source": [
    "# 가지고 있는 랜선, 필요한 랜선\n",
    "k, n = map(int, input().split())\n",
    "\n",
    "# 랜선\n",
    "array = []\n",
    "for _ in range(k):\n",
    "    array.append(int(input()))\n",
    "    \n",
    "# 시작, 끝\n",
    "start = 0\n",
    "end = max(array)\n",
    "\n",
    "# 이진 탐색\n",
    "result = 0\n",
    "while(start <= end):\n",
    "    total = 0\n",
    "    mid = (start + end) // 2\n",
    "    \n",
    "    for x in array:\n",
    "        # 잘랐을 때의 랜선 양 계산\n",
    "        if x > mid:\n",
    "            total += x // mid # 남은 랜선은 버려야 한다\n",
    "            \n",
    "    # total이 n보다 작을 경우 더 많이 자르기 (왼쪽 부분 탐색)\n",
    "    if total < n:\n",
    "        end = mid - 1\n",
    "        \n",
    "    # total이 n보다 많을 경우 덜 자르기 (오른쪽 부분 탐색)\n",
    "    else:\n",
    "        result = mid # 최대한 덜 잘랐을 때가 정답이므로, 여기에서 정답 입력\n",
    "        start = mid + 1\n",
    "        \n",
    "print(result)"
   ]
  },
  {
   "cell_type": "code",
   "execution_count": null,
   "id": "26da30c2",
   "metadata": {},
   "outputs": [],
   "source": []
  }
 ],
 "metadata": {
  "kernelspec": {
   "display_name": "Python 3 (ipykernel)",
   "language": "python",
   "name": "python3"
  },
  "language_info": {
   "codemirror_mode": {
    "name": "ipython",
    "version": 3
   },
   "file_extension": ".py",
   "mimetype": "text/x-python",
   "name": "python",
   "nbconvert_exporter": "python",
   "pygments_lexer": "ipython3",
   "version": "3.9.13"
  }
 },
 "nbformat": 4,
 "nbformat_minor": 5
}
