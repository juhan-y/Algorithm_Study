{
 "cells": [
  {
   "cell_type": "markdown",
   "id": "5a10a9ec",
   "metadata": {},
   "source": [
    "- 게임은 상근이가 먼저 시작\n",
    "- 돌은 1개 혹은 3개 가져갈 수 있음"
   ]
  },
  {
   "cell_type": "code",
   "execution_count": null,
   "id": "c126fc9a",
   "metadata": {},
   "outputs": [],
   "source": [
    "import sys\n",
    "input = sys.stdin.readline"
   ]
  },
  {
   "cell_type": "markdown",
   "id": "ec10140c",
   "metadata": {},
   "source": [
    "- 돌을 한 개 가져가든 세 개 가져가든 모두 홀수"
   ]
  },
  {
   "cell_type": "code",
   "execution_count": 2,
   "id": "53ae1209",
   "metadata": {},
   "outputs": [
    {
     "name": "stdout",
     "output_type": "stream",
     "text": [
      "5\n",
      "SK\n"
     ]
    }
   ],
   "source": [
    "n = int(input())\n",
    "tmp = 'SK'\n",
    "\n",
    "# 마지막 돌을 가져가는 사람이 게임을 이김\n",
    "while n != 1:\n",
    "    n -= 1\n",
    "    if tmp == 'SK':\n",
    "        tmp = 'CY'\n",
    "        \n",
    "    else:\n",
    "        tmp = 'SK'\n",
    "        \n",
    "print(tmp)"
   ]
  },
  {
   "cell_type": "code",
   "execution_count": null,
   "id": "f88dfef2",
   "metadata": {},
   "outputs": [],
   "source": []
  }
 ],
 "metadata": {
  "kernelspec": {
   "display_name": "Python 3 (ipykernel)",
   "language": "python",
   "name": "python3"
  },
  "language_info": {
   "codemirror_mode": {
    "name": "ipython",
    "version": 3
   },
   "file_extension": ".py",
   "mimetype": "text/x-python",
   "name": "python",
   "nbconvert_exporter": "python",
   "pygments_lexer": "ipython3",
   "version": "3.9.13"
  }
 },
 "nbformat": 4,
 "nbformat_minor": 5
}
