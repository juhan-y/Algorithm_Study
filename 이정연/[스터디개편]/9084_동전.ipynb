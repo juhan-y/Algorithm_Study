{
 "cells": [
  {
   "cell_type": "markdown",
   "id": "97e9623d",
   "metadata": {},
   "source": [
    "- 1, 5, 10, 50, 100, 500\n",
    "- ex) 30원 = 1원 * 30개, 10원 * 2개 + 5원 * 2개"
   ]
  },
  {
   "cell_type": "code",
   "execution_count": null,
   "id": "85b61d1a",
   "metadata": {},
   "outputs": [],
   "source": [
    "# test case\n",
    "t = int(input())"
   ]
  },
  {
   "cell_type": "code",
   "execution_count": 43,
   "id": "af15fc73",
   "metadata": {},
   "outputs": [
    {
     "name": "stdout",
     "output_type": "stream",
     "text": [
      "3\n",
      "1 5 10\n",
      "100\n"
     ]
    }
   ],
   "source": [
    "# 동전의 가짓수\n",
    "n = int(input())\n",
    "\n",
    "# 동전의 각 금액. 오름차순 정렬\n",
    "coins = list(map(int, input().split()))\n",
    "\n",
    "# 만들어야 할 금액\n",
    "price = int(input())"
   ]
  },
  {
   "cell_type": "markdown",
   "id": "4891a328",
   "metadata": {},
   "source": [
    "- 10 * 10 = 100\n",
    "\n",
    "- 10 * 9 + 5 * 2 = 100\n",
    "- 10 * 9 + 5 * 1 + 1 * 5 = 100\n",
    "- 10 * 9 + 1 * 10 = 100\n",
    "\n",
    "- 10 * 8 + 5 * 4 = 100\n",
    "- 10 * 8 + 5 * 3 + 1 * 5 = 100\n",
    "- 10 * 8 + 5 * 2 + 1 * 10 = 100\n",
    "- 10 * 8 + 5 * 1 + 1 * 15 = 100\n",
    "- 10 * 8 + 1 * 20 = 100\n",
    "\n",
    "- 10 * 7 + 5 * 6 = 100\n",
    "- 10 * 7 + 5 * 5 + 1 * 5 = 100\n",
    "- 10 * 7 + 5 * 4 + 1 * 10 = 100\n",
    "- 10 * 7 + 5 * 3 + 1 * 15 = 100\n",
    "- 10 * 7 + 5 * 2 + 1 * 20 = 100\n",
    "- 10 * 7 + 5 * 1 + 1 * 25 = 100\n",
    "- 10 * 7 + 1 * 30 = 100"
   ]
  },
  {
   "cell_type": "code",
   "execution_count": 45,
   "id": "6851e5a3",
   "metadata": {},
   "outputs": [
    {
     "data": {
      "text/plain": [
       "10"
      ]
     },
     "execution_count": 45,
     "metadata": {},
     "output_type": "execute_result"
    }
   ],
   "source": [
    "100 // 10"
   ]
  },
  {
   "cell_type": "code",
   "execution_count": 47,
   "id": "8eb4338d",
   "metadata": {},
   "outputs": [
    {
     "name": "stdout",
     "output_type": "stream",
     "text": [
      "10\n",
      "9\n",
      "8\n",
      "7\n",
      "6\n",
      "5\n",
      "4\n",
      "3\n",
      "2\n",
      "1\n",
      "1\n"
     ]
    }
   ],
   "source": [
    "result = 0\n",
    "for i in range(price//coins[-1], 0, -1):\n",
    "\n",
    "    for j in range()\n",
    "    \n",
    "    if coins[-1] * i == price:\n",
    "        result += 1\n",
    "        \n",
    "print(result)"
   ]
  },
  {
   "cell_type": "markdown",
   "id": "2e5b7fc3",
   "metadata": {},
   "source": [
    "### 1, 5, 10\n",
    "- 1 * 100 = 100\n",
    "- 1 * 95 + 5 * 1 = 100\n",
    "- 1 * 90 + 5 * 2 = 100\n",
    "- 1 * 90 + 10 * 1 = 100\n",
    "\n",
    "\n",
    "- 1 * 85 + 5 * 3 = 100\n",
    "- 1 * 85 + 5 * 1 + 10 * 1 = 100\n",
    "\n",
    "\n",
    "- 1 * 80 + 5 * 4 = 100\n",
    "- 1 * 80 + 10 * 2 = 100\n",
    "- 1 * 80 + 5 * 2 + 10 * 1 = 100"
   ]
  },
  {
   "cell_type": "code",
   "execution_count": null,
   "id": "1b19d48f",
   "metadata": {},
   "outputs": [],
   "source": [
    "t = int(input())\n",
    "\n",
    "for _ in range(t):\n",
    "    \n",
    "    # 동전의 가지수\n",
    "    n = int(input())\n",
    "\n",
    "    # 동전의 개수\n",
    "    coins = list(map(int, input().split()))\n",
    "    \n",
    "    # 목표 금액\n",
    "    m = int(input())"
   ]
  },
  {
   "cell_type": "code",
   "execution_count": 1,
   "id": "20da5c92",
   "metadata": {},
   "outputs": [],
   "source": [
    "n = 2\n",
    "coins = [1, 2]\n",
    "m = 1000"
   ]
  },
  {
   "cell_type": "markdown",
   "id": "cb9627d9",
   "metadata": {},
   "source": [
    "#### 1, 2\n",
    "- 1 * 1000 = 1000\n",
    "- 1 * 998 + 2 * 1 = 1000\n",
    "- 1 * 996 + 2 * 2 = 1000\n",
    "- 1 * 994 + 2 * 3 = 1000\n",
    "- 1 * 992 + 2 * 4 = 1000\n",
    "- ...\n",
    "- 1 * 500 + 2 * 250 = 1000\n",
    "\n",
    "\n",
    "- 2 * 500 = 1000\n",
    "- 2 * 499 + 1 * 2 = 1000\n",
    "- 2 * 498 + 1 * 4 = 1000\n",
    "- 2 * 497 + 1 * 6 = 1000\n",
    "- 2 * 496 + 1 * 8 = 1000\n",
    "- ...\n",
    "- 2 * 250 + 1 * 500 = 1000"
   ]
  },
  {
   "cell_type": "code",
   "execution_count": null,
   "id": "7c22a535",
   "metadata": {},
   "outputs": [],
   "source": [
    "- 1*0 + 2*500 = 1000\n",
    "\n",
    "- 1*1 + 2*499 != 1000\n",
    "- 1*2 + 2*499 = 1000\n",
    "\n",
    "- 1*3 + 2*498 != 1000\n",
    "- 1*4 + 2*498 = 1000"
   ]
  },
  {
   "cell_type": "code",
   "execution_count": 18,
   "id": "5caa3b26",
   "metadata": {},
   "outputs": [
    {
     "data": {
      "text/plain": [
       "996"
      ]
     },
     "execution_count": 18,
     "metadata": {},
     "output_type": "execute_result"
    }
   ],
   "source": [
    "2*498"
   ]
  },
  {
   "cell_type": "code",
   "execution_count": 1,
   "id": "477e4c74",
   "metadata": {},
   "outputs": [],
   "source": [
    "n = 2\n",
    "coins = [1, 2]\n",
    "m = 1000"
   ]
  },
  {
   "cell_type": "code",
   "execution_count": 2,
   "id": "fec7ad6d",
   "metadata": {},
   "outputs": [],
   "source": [
    "# 동전의 최대 개수로 dp\n",
    "# ex) 1번 인덱스 = 동전 한개로 만들 수 있는 경우의 수\n",
    "# ex) 50번 인덱스 = 동전 50개로 만들 수 있는 경우의 수\n",
    "dp = [0] * 10001"
   ]
  },
  {
   "cell_type": "code",
   "execution_count": 13,
   "id": "900754cc",
   "metadata": {},
   "outputs": [],
   "source": [
    "# coins를 돌면서 \n",
    "# coin와 m의 나머지가 0이면 만들 수 있다! m % 1 = 0\n",
    "for coin in coins:\n",
    "    if m % coin == 0:\n",
    "        dp[1] += 1"
   ]
  },
  {
   "cell_type": "code",
   "execution_count": 15,
   "id": "9ae52158",
   "metadata": {},
   "outputs": [
    {
     "data": {
      "text/plain": [
       "2"
      ]
     },
     "execution_count": 15,
     "metadata": {},
     "output_type": "execute_result"
    }
   ],
   "source": [
    "# 모든 경우의 수를 더해 출력\n",
    "print(sum(dp))"
   ]
  },
  {
   "cell_type": "markdown",
   "id": "a911044d",
   "metadata": {},
   "source": [
    "## 정답"
   ]
  },
  {
   "cell_type": "markdown",
   "id": "58c38238",
   "metadata": {},
   "source": [
    "#### 2차원 DP 테이블"
   ]
  },
  {
   "cell_type": "code",
   "execution_count": 7,
   "id": "765c3ca0",
   "metadata": {},
   "outputs": [
    {
     "name": "stdout",
     "output_type": "stream",
     "text": [
      "3\n",
      "2\n",
      "1 2\n",
      "1000\n",
      "501\n",
      "3\n",
      "1 5 10\n",
      "100\n",
      "121\n",
      "2\n",
      "5 7\n",
      "22\n",
      "1\n"
     ]
    }
   ],
   "source": [
    "t = int(input())\n",
    "for _ in range(t):\n",
    "    n = int(input())\n",
    "    coins = list(map(int, input().split()))\n",
    "    coins.insert(0, 0)\n",
    "    m = int(input())\n",
    "    \n",
    "    # DP 테이블\n",
    "    dp = [[0] * (m + 1) for _ in range(n + 1)]\n",
    "    for i in range(n + 1):\n",
    "        dp[i][0] = 1\n",
    "        \n",
    "    for j in range(1, n + 1):\n",
    "        for k in range(1, m + 1):\n",
    "            dp[j][k] = dp[j-1][k]\n",
    "            if k - coins[j] >= 0:\n",
    "                dp[j][k] += dp[j][k-coins[j]]\n",
    "                \n",
    "    print(dp[n][m])"
   ]
  },
  {
   "cell_type": "code",
   "execution_count": 8,
   "id": "815904b5",
   "metadata": {},
   "outputs": [
    {
     "data": {
      "text/plain": [
       "[[1, 0, 0, 0, 0, 0, 0, 0, 0, 0, 0, 0, 0, 0, 0, 0, 0, 0, 0, 0, 0, 0, 0],\n",
       " [1, 0, 0, 0, 0, 1, 0, 0, 0, 0, 1, 0, 0, 0, 0, 1, 0, 0, 0, 0, 1, 0, 0],\n",
       " [1, 0, 0, 0, 0, 1, 0, 1, 0, 0, 1, 0, 1, 0, 1, 1, 0, 1, 0, 1, 1, 1, 1]]"
      ]
     },
     "execution_count": 8,
     "metadata": {},
     "output_type": "execute_result"
    }
   ],
   "source": [
    "dp"
   ]
  },
  {
   "cell_type": "markdown",
   "id": "0cc967a7",
   "metadata": {},
   "source": [
    "#### 1차원 DP 테이블"
   ]
  },
  {
   "cell_type": "code",
   "execution_count": 11,
   "id": "4ed9f66d",
   "metadata": {},
   "outputs": [
    {
     "name": "stdout",
     "output_type": "stream",
     "text": [
      "3\n",
      "2\n",
      "1 2\n",
      "1000\n",
      "501\n",
      "3\n",
      "1 5 10\n",
      "100\n",
      "121\n",
      "2\n",
      "5 7\n",
      "22\n",
      "1\n"
     ]
    }
   ],
   "source": [
    "t = int(input())\n",
    "for _ in range(t):\n",
    "    n = int(input())\n",
    "    coins = list(map(int, input().split()))\n",
    "    m = int(input())\n",
    "    \n",
    "    # DP 테이블\n",
    "    dp = [0] * (m + 1)\n",
    "    dp[0] = 1\n",
    "    for coin in coins:\n",
    "        for i in range(1, m + 1):\n",
    "            if i >= coin:\n",
    "                dp[i] += dp[i - coin]\n",
    "                \n",
    "    print(dp[m])"
   ]
  },
  {
   "cell_type": "code",
   "execution_count": 12,
   "id": "5006cc84",
   "metadata": {},
   "outputs": [
    {
     "data": {
      "text/plain": [
       "[1, 0, 0, 0, 0, 1, 0, 1, 0, 0, 1, 0, 1, 0, 1, 1, 0, 1, 0, 1, 1, 1, 1]"
      ]
     },
     "execution_count": 12,
     "metadata": {},
     "output_type": "execute_result"
    }
   ],
   "source": [
    "dp"
   ]
  },
  {
   "cell_type": "code",
   "execution_count": null,
   "id": "0aab243d",
   "metadata": {},
   "outputs": [],
   "source": []
  }
 ],
 "metadata": {
  "kernelspec": {
   "display_name": "Python 3 (ipykernel)",
   "language": "python",
   "name": "python3"
  },
  "language_info": {
   "codemirror_mode": {
    "name": "ipython",
    "version": 3
   },
   "file_extension": ".py",
   "mimetype": "text/x-python",
   "name": "python",
   "nbconvert_exporter": "python",
   "pygments_lexer": "ipython3",
   "version": "3.9.13"
  }
 },
 "nbformat": 4,
 "nbformat_minor": 5
}
