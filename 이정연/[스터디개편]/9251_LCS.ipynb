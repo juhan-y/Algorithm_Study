{
 "cells": [
  {
   "cell_type": "markdown",
   "id": "9b8df53a",
   "metadata": {},
   "source": [
    "- LCS : 최장 공통 부분 수열 (Longest Common Subsequence)\n",
    "- 두 수열이 주어졌을 때, 모두의 부분 수열이 되는 수열 중 가장 긴 것"
   ]
  },
  {
   "cell_type": "code",
   "execution_count": 1,
   "id": "1d3e8e56",
   "metadata": {},
   "outputs": [
    {
     "name": "stdout",
     "output_type": "stream",
     "text": [
      "ACAYKP\n",
      "CAPCAK\n"
     ]
    }
   ],
   "source": [
    "n = input()\n",
    "m = input()"
   ]
  },
  {
   "cell_type": "markdown",
   "id": "2ed8850b",
   "metadata": {},
   "source": [
    "## 내가 생각한 방식"
   ]
  },
  {
   "cell_type": "markdown",
   "id": "15c736ad",
   "metadata": {},
   "source": [
    "#### 집합의 조합으로 접근해보자\n",
    "\n",
    "- 얻어 걸리라는 심산의 접근은 옳지 않다.\n",
    "- 폐기"
   ]
  },
  {
   "cell_type": "code",
   "execution_count": 16,
   "id": "fc5cb0cb",
   "metadata": {},
   "outputs": [
    {
     "data": {
      "text/plain": [
       "{'A', 'C', 'K', 'P'}"
      ]
     },
     "execution_count": 16,
     "metadata": {},
     "output_type": "execute_result"
    }
   ],
   "source": [
    "set(n) and set(m)"
   ]
  },
  {
   "cell_type": "code",
   "execution_count": 17,
   "id": "6c393423",
   "metadata": {},
   "outputs": [
    {
     "data": {
      "text/plain": [
       "{'A', 'C', 'K', 'P', 'Y'}"
      ]
     },
     "execution_count": 17,
     "metadata": {},
     "output_type": "execute_result"
    }
   ],
   "source": [
    "set(n) or set(m)"
   ]
  },
  {
   "cell_type": "code",
   "execution_count": 20,
   "id": "3999d1a0",
   "metadata": {},
   "outputs": [
    {
     "data": {
      "text/plain": [
       "'CAPCAK'"
      ]
     },
     "execution_count": 20,
     "metadata": {},
     "output_type": "execute_result"
    }
   ],
   "source": [
    "n and m"
   ]
  },
  {
   "cell_type": "code",
   "execution_count": 29,
   "id": "e6ebd5c0",
   "metadata": {},
   "outputs": [
    {
     "data": {
      "text/plain": [
       "'ACAYKP'"
      ]
     },
     "execution_count": 29,
     "metadata": {},
     "output_type": "execute_result"
    }
   ],
   "source": [
    "(n or m)"
   ]
  },
  {
   "cell_type": "markdown",
   "id": "2675f7e4",
   "metadata": {},
   "source": [
    "#### 각 수열의 인덱스 정보가 필요하지 않을까?\n",
    "\n",
    "- ACAYKP에서 두 개의 A는 다른 A로 판단해야 한다.\n",
    "- 딕셔너리는 중복이 허용되지 않는다.\n",
    "- 이차원 리스트로 만들자."
   ]
  },
  {
   "cell_type": "code",
   "execution_count": 40,
   "id": "1633c42b",
   "metadata": {},
   "outputs": [],
   "source": [
    "n_idx = [x for x in range(len(n))]\n",
    "m_idx = [x for x in range(len(m))]"
   ]
  },
  {
   "cell_type": "code",
   "execution_count": 41,
   "id": "cb3c4182",
   "metadata": {},
   "outputs": [
    {
     "data": {
      "text/plain": [
       "([['A', 0], ['C', 1], ['A', 2], ['Y', 3], ['K', 4], ['P', 5]],\n",
       " [['C', 0], ['A', 1], ['P', 2], ['C', 3], ['A', 4], ['K', 5]])"
      ]
     },
     "execution_count": 41,
     "metadata": {},
     "output_type": "execute_result"
    }
   ],
   "source": [
    "n_dic, m_dic = [], []\n",
    "\n",
    "for x, y in zip(n, n_idx):\n",
    "    n_dic.append([x, y])\n",
    "    \n",
    "for x, y in zip(m, m_idx):\n",
    "    m_dic.append([x, y])\n",
    "    \n",
    "n_dic, m_dic"
   ]
  },
  {
   "cell_type": "markdown",
   "id": "6014e4db",
   "metadata": {},
   "source": [
    "- 이제 뭐 어쩔티비...?"
   ]
  },
  {
   "cell_type": "markdown",
   "id": "d97dc129",
   "metadata": {},
   "source": [
    "## 정답"
   ]
  },
  {
   "attachments": {
    "image.png": {
     "image/png": "[encoded data removed]"
    }
   },
   "cell_type": "markdown",
   "id": "a6081eef",
   "metadata": {},
   "source": [
    "### 풀이 1\n",
    "\n",
    "![image.png](attachment:image.png)\n",
    "\n",
    "- 2차원 배열을 만듦.\n",
    "- 2개의 문자열의 현재 시점에서 LCS값을 구함.\n",
    "- 알파벳을 순회할때\n",
    "    - 같은 알파벳인 경우, 해당 위치에서는 글자를 추가하기 전의 LCS 값보다 1을 더해 저장.\n",
    "    - 다른 알파벳인 경우, 이전까지 비교한 값 중 최대값을 구함.\n",
    "    - ex) CAP와 ACA\n",
    "        - CAP, AC = 1과 CA, ACA = 2를 비교해 2인 것을 채택"
   ]
  },
  {
   "cell_type": "code",
   "execution_count": 42,
   "id": "ff8b989f",
   "metadata": {},
   "outputs": [
    {
     "name": "stdout",
     "output_type": "stream",
     "text": [
      "ACAYKP\n",
      "CAPCAK\n"
     ]
    }
   ],
   "source": [
    "word1, word2 = input(), input()\n",
    "h, w = len(word1), len(word2)"
   ]
  },
  {
   "cell_type": "code",
   "execution_count": 43,
   "id": "d2492efe",
   "metadata": {},
   "outputs": [
    {
     "data": {
      "text/plain": [
       "[[0, 0, 0, 0, 0, 0, 0],\n",
       " [0, 0, 0, 0, 0, 0, 0],\n",
       " [0, 0, 0, 0, 0, 0, 0],\n",
       " [0, 0, 0, 0, 0, 0, 0],\n",
       " [0, 0, 0, 0, 0, 0, 0],\n",
       " [0, 0, 0, 0, 0, 0, 0],\n",
       " [0, 0, 0, 0, 0, 0, 0]]"
      ]
     },
     "execution_count": 43,
     "metadata": {},
     "output_type": "execute_result"
    }
   ],
   "source": [
    "# h * w 크기의 dp 테이블을 만들자\n",
    "dp = [[0] * (w+1) for _ in range(h+1)]\n",
    "dp"
   ]
  },
  {
   "cell_type": "code",
   "execution_count": 44,
   "id": "0f1ec84f",
   "metadata": {},
   "outputs": [
    {
     "name": "stdout",
     "output_type": "stream",
     "text": [
      "4\n"
     ]
    }
   ],
   "source": [
    "for i in range(1, h + 1):\n",
    "    for j in range(1, w + 1):\n",
    "        if word1[i-1] == word2[j-1]:\n",
    "            dp[i][j] = dp[i-1][j-1] + 1\n",
    "        else:\n",
    "            dp[i][j] = max(dp[i][j-1], dp[i-1][j])\n",
    "            \n",
    "print(dp[-1][-1])"
   ]
  },
  {
   "attachments": {
    "image.png": {
     "image/png": "[encoded data removed]"
    }
   },
   "cell_type": "markdown",
   "id": "4364d5fb",
   "metadata": {},
   "source": [
    "### 풀이 2\n",
    "\n",
    "![image.png](attachment:image.png)\n",
    "\n",
    "- 2중 for문을 사용하나 dp 테이블을 1차원 배열로 사용한다.\n",
    "- 시간, 공간 복잡도를 절약."
   ]
  },
  {
   "cell_type": "code",
   "execution_count": 45,
   "id": "2e371605",
   "metadata": {},
   "outputs": [
    {
     "name": "stdout",
     "output_type": "stream",
     "text": [
      "ACAYKP\n",
      "CAPCAK\n"
     ]
    }
   ],
   "source": [
    "word1, word2 = input(), input()\n",
    "h, w = len(word1), len(word2)"
   ]
  },
  {
   "cell_type": "code",
   "execution_count": 46,
   "id": "b474159d",
   "metadata": {},
   "outputs": [
    {
     "data": {
      "text/plain": [
       "[0, 0, 0, 0, 0, 0]"
      ]
     },
     "execution_count": 46,
     "metadata": {},
     "output_type": "execute_result"
    }
   ],
   "source": [
    "dp = [0] * w\n",
    "dp"
   ]
  },
  {
   "cell_type": "code",
   "execution_count": 47,
   "id": "e7d67e35",
   "metadata": {},
   "outputs": [
    {
     "name": "stdout",
     "output_type": "stream",
     "text": [
      "3\n"
     ]
    }
   ],
   "source": [
    "for i in range(h):\n",
    "    cnt = 0\n",
    "    for j in range(w):\n",
    "        if cnt < dp[j]:\n",
    "            cnt = dp[i]\n",
    "        elif word1[i] == word2[j]:\n",
    "            dp[j] = cnt + 1\n",
    "            \n",
    "print(max(dp))"
   ]
  },
  {
   "cell_type": "code",
   "execution_count": null,
   "id": "db8aab1c",
   "metadata": {},
   "outputs": [],
   "source": []
  }
 ],
 "metadata": {
  "kernelspec": {
   "display_name": "Python 3 (ipykernel)",
   "language": "python",
   "name": "python3"
  },
  "language_info": {
   "codemirror_mode": {
    "name": "ipython",
    "version": 3
   },
   "file_extension": ".py",
   "mimetype": "text/x-python",
   "name": "python",
   "nbconvert_exporter": "python",
   "pygments_lexer": "ipython3",
   "version": "3.9.13"
  }
 },
 "nbformat": 4,
 "nbformat_minor": 5
}
