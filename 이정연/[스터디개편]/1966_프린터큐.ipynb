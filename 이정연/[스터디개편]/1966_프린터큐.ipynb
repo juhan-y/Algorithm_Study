{
 "cells": [
  {
   "cell_type": "markdown",
   "id": "355ef06f",
   "metadata": {},
   "source": [
    "- FIFO에 따라 인쇄\n",
    "- 1. 현재 Queue의 가장 앞에 있는 문서의 중요도를 확인\n",
    "\n",
    "- 2. 나머지 문서들 중 현재 문서보다 중요도가 높은 문서가 하나라도 있다면, 문서를 인쇄하지 않고 queue의 가장 뒤에 재배치\n",
    "- 2. 그렇지 않으면 바로 인쇄"
   ]
  },
  {
   "cell_type": "code",
   "execution_count": 53,
   "id": "c5eef7a4",
   "metadata": {},
   "outputs": [
    {
     "name": "stdout",
     "output_type": "stream",
     "text": [
      "3\n",
      "1 0\n",
      "5\n",
      "0\n",
      "4 2\n",
      "1 2 3 4\n",
      "2\n",
      "6 0\n",
      "1 1 9 1 1 1\n",
      "5\n"
     ]
    }
   ],
   "source": [
    "from collections import deque\n",
    "\n",
    "\n",
    "t = int(input())\n",
    "\n",
    "for _ in range(t):\n",
    "    \n",
    "    # 문서의 개수 n, 타겟 문서 m\n",
    "    n, m = map(int, input().split())\n",
    "    \n",
    "    # n개 문서의 중요도 (1 이상 9 이하)\n",
    "    array = deque(list(map(int, input().split())))\n",
    "    \n",
    "    # n개 문서의 순서 (1부터 시작)\n",
    "    index = deque([x for x in range(n)])\n",
    "    \n",
    "    # 몇 번 출력되었는지\n",
    "    result = 0\n",
    "\n",
    "    # array가 빌때까지\n",
    "    while array:\n",
    "\n",
    "        # 현재 검증할 원소 tmp\n",
    "        tmp = array.popleft()\n",
    "        idx = index.popleft()\n",
    "    \n",
    "        # 큐에 원소가 모두 비었으면 종료\n",
    "        if len(array) == 0:\n",
    "            continue\n",
    "\n",
    "        # tmp가 가장 큰 원소라면 그대로 출력\n",
    "        if tmp >= max(list(array)):\n",
    "\n",
    "            # 출력된 원소가 목표로 한 원소라면 멈추기\n",
    "            if m == idx + 1:\n",
    "                break\n",
    "\n",
    "            # 출력 횟수 더하기\n",
    "            result += 1\n",
    "\n",
    "        # tmp가 가장 큰 원소가 아니라면 맨 뒤에 삽입\n",
    "        else:\n",
    "            # 중요도\n",
    "            array.append(tmp)\n",
    "\n",
    "            # 인덱스\n",
    "            index.append(idx)\n",
    "\n",
    "    print(result)"
   ]
  },
  {
   "cell_type": "markdown",
   "id": "7cb78e42",
   "metadata": {},
   "source": [
    "### 16%\n",
    "\n",
    "- 입력 리스트의 원소가 1이라면 1을 출력\n",
    "- 그렇지 않다면 코드를 진행\n",
    "- 5, 5일 경우 에러가 발생"
   ]
  },
  {
   "cell_type": "code",
   "execution_count": 65,
   "id": "65949966",
   "metadata": {},
   "outputs": [
    {
     "name": "stdout",
     "output_type": "stream",
     "text": [
      "3\n",
      "1 0\n",
      "5\n",
      "1\n",
      "4 2\n",
      "1 2 3 4\n",
      "2\n",
      "6 0\n",
      "1 1 9 1 1 1\n",
      "5\n"
     ]
    }
   ],
   "source": [
    "from collections import deque\n",
    "\n",
    "\n",
    "t = int(input())\n",
    "\n",
    "for _ in range(t):\n",
    "    \n",
    "    # 문서의 개수 n, 타겟 문서 m\n",
    "    n, m = map(int, input().split())\n",
    "    \n",
    "    # n개 문서의 중요도 (1 이상 9 이하)\n",
    "    array = deque(list(map(int, input().split())))\n",
    "    \n",
    "    # n개 문서의 순서 (1부터 시작)\n",
    "    index = deque([x for x in range(n)])\n",
    "    \n",
    "    # 몇 번 출력되었는지\n",
    "    result = 0\n",
    "    \n",
    "    # 큐에 원소가 하나라면 그것이 정답\n",
    "    if len(array) == 1:\n",
    "        print(1)\n",
    "        \n",
    "    else:\n",
    "\n",
    "        # array가 빌때까지\n",
    "        while array:\n",
    "\n",
    "            # 현재 검증할 원소 tmp\n",
    "            tmp = array.popleft()\n",
    "            idx = index.popleft()\n",
    "\n",
    "            # 큐에 원소가 모두 비었으면 종료\n",
    "            if len(array) == 0:\n",
    "                continue\n",
    "\n",
    "            # tmp가 가장 큰 원소라면 그대로 출력\n",
    "            if tmp >= max(list(array)):\n",
    "\n",
    "                # 출력된 원소가 목표로 한 원소라면 멈추기\n",
    "                if m == idx + 1:\n",
    "                    break\n",
    "\n",
    "                # 출력 횟수 더하기\n",
    "                result += 1\n",
    "\n",
    "            # tmp가 가장 큰 원소가 아니라면 맨 뒤에 삽입\n",
    "            else:\n",
    "                # 중요도\n",
    "                array.append(tmp)\n",
    "\n",
    "                # 인덱스\n",
    "                index.append(idx)\n",
    "\n",
    "        print(result)"
   ]
  },
  {
   "cell_type": "markdown",
   "id": "1a686dcd",
   "metadata": {},
   "source": [
    "## index 리스트를 좀 더 이용해보자\n",
    "\n",
    "- 왜 valueerror가 뜨는지 모르겠다"
   ]
  },
  {
   "cell_type": "code",
   "execution_count": 6,
   "id": "b33b4573",
   "metadata": {},
   "outputs": [
    {
     "name": "stdout",
     "output_type": "stream",
     "text": [
      "3\n",
      "1 0\n",
      "5\n",
      "1\n",
      "4 2\n",
      "1 2 3 4\n",
      "2\n",
      "6 0\n",
      "1 1 9 1 1 1\n",
      "5\n"
     ]
    }
   ],
   "source": [
    "from collections import deque\n",
    "\n",
    "t = int(input())\n",
    "\n",
    "for _ in range(t):\n",
    "    \n",
    "    # 문서의 개수, 타겟 인덱스\n",
    "    n, m = map(int, input().split())\n",
    "    \n",
    "    # 프린터 큐, 인덱스\n",
    "    array = deque(list(map(int, input().split())))\n",
    "    index = deque([x for x in range(n)])\n",
    "    \n",
    "    # 출력 횟수\n",
    "    result = 0\n",
    "    \n",
    "    # 큐의 개수가 1인 경우 바로 출력\n",
    "    if len(array) <= 1:\n",
    "        result = 1\n",
    "    \n",
    "    # 큐의 개수가 2 이상인 경우 아래를 실행\n",
    "    else:\n",
    "        \n",
    "        while array:\n",
    "            \n",
    "            # 큐의 첫 원소가 가장 큰 원소라면, 그 원소를 출력.\n",
    "            if list(array)[0] >= max(list(array)[1:]):\n",
    "                array.popleft()\n",
    "                tmp = index.popleft()\n",
    "                result += 1 # 출력 횟수를 1 증가.\n",
    "                \n",
    "                # 출력된 값이 타겟 값이면 반복문을 종료\n",
    "                if m == tmp:\n",
    "                    break\n",
    "\n",
    "            # 큐의 첫 원소가 가장 큰 원소가 아니라면, 첫 원소를 뒤에 배치.\n",
    "            else:\n",
    "                array.append(array.popleft())\n",
    "                index.append(index.popleft())\n",
    "\n",
    "    print(result)"
   ]
  },
  {
   "cell_type": "markdown",
   "id": "e92a4a20",
   "metadata": {},
   "source": [
    "- valueerror는 안뜨는데 틀림"
   ]
  },
  {
   "cell_type": "code",
   "execution_count": 8,
   "id": "c71efffa",
   "metadata": {},
   "outputs": [
    {
     "name": "stdout",
     "output_type": "stream",
     "text": [
      "1\n",
      "5 4\n",
      "1 2 3 4 5\n",
      "1\n"
     ]
    }
   ],
   "source": [
    "from collections import deque\n",
    "\n",
    "t = int(input())\n",
    "\n",
    "for _ in range(t):\n",
    "    \n",
    "    # 문서의 개수, 타겟 인덱스\n",
    "    n, m = map(int, input().split())\n",
    "\n",
    "    # 프린터 큐, 인덱스\n",
    "    array = deque(list(map(int, input().split())))\n",
    "    index = deque([x for x in range(n)])\n",
    "    \n",
    "    # 출력 횟수\n",
    "    result = 0\n",
    "\n",
    "    while array:\n",
    "        \n",
    "        if len(array) <= 1:\n",
    "            result = 1\n",
    "            break\n",
    "\n",
    "        # 큐의 첫 원소가 가장 큰 원소라면, 그 원소를 출력.\n",
    "        if list(array)[0] >= max(list(array)[1:]):\n",
    "            array.popleft()\n",
    "            tmp = index.popleft()\n",
    "            result += 1 # 출력 횟수를 1 증가.\n",
    "\n",
    "            # 출력된 값이 타겟 값이면 반복문을 종료\n",
    "            if m == tmp:\n",
    "                break\n",
    "\n",
    "        # 큐의 첫 원소가 가장 큰 원소가 아니라면, 첫 원소를 뒤에 배치.\n",
    "        else:\n",
    "            array.append(array.popleft())\n",
    "            index.append(index.popleft())\n",
    "\n",
    "    print(result)"
   ]
  },
  {
   "cell_type": "markdown",
   "id": "bfe575af",
   "metadata": {},
   "source": [
    "## 진짜 한번만 더 해보자"
   ]
  },
  {
   "cell_type": "code",
   "execution_count": 17,
   "id": "7076ad2b",
   "metadata": {},
   "outputs": [
    {
     "name": "stdout",
     "output_type": "stream",
     "text": [
      "1\n",
      "6 0\n",
      "1 1 9 1 1 1\n",
      "deque([1, 9, 1, 1, 1]) deque([1, 2, 3, 4, 5])\n",
      "0\n"
     ]
    }
   ],
   "source": [
    "from collections import deque\n",
    "\n",
    "t = int(input())\n",
    "\n",
    "for _ in range(t):\n",
    "    \n",
    "    # 문서의 개수, 타겟 인덱스\n",
    "    n, m = map(int, input().split())\n",
    "\n",
    "    # 프린터 큐, 인덱스\n",
    "    array = deque(list(map(int, input().split())))\n",
    "    index = deque([x for x in range(n)])\n",
    "    \n",
    "    # 출력 횟수\n",
    "    result = 0\n",
    "    \n",
    "    while array:\n",
    "        tmp = array.popleft()\n",
    "        tmp_idx = index.popleft()\n",
    "        print(array, index)\n",
    "        \n",
    "        # 현재 값이 타겟 값이면 프로그램을 종료\n",
    "        if m == tmp_idx:\n",
    "            break\n",
    "        \n",
    "        # 현재 값보다 큰 수가 큐에 있으면\n",
    "        if tmp < max(list(array)):\n",
    "            # 현재 값을 큐에 삽입\n",
    "            array.append(tmp)\n",
    "            index.append(tmp_idx)\n",
    "            \n",
    "        result += 1\n",
    "            \n",
    "    print(result)"
   ]
  },
  {
   "cell_type": "markdown",
   "id": "48257b11",
   "metadata": {},
   "source": [
    "## 정답"
   ]
  },
  {
   "cell_type": "code",
   "execution_count": 1,
   "id": "32c0dedc",
   "metadata": {},
   "outputs": [
    {
     "name": "stdout",
     "output_type": "stream",
     "text": [
      "3\n",
      "1 0\n",
      "5\n",
      "1\n",
      "4 2\n",
      "1 2 3 4\n",
      "2\n",
      "6 0\n",
      "1 1 9 1 1 1\n",
      "5\n"
     ]
    }
   ],
   "source": [
    "from collections import deque\n",
    "\n",
    "t = int(input())\n",
    "\n",
    "for _ in range(t):\n",
    "    n, m = map(int, input().split())\n",
    "    queue = deque(list(map(int, input().split())))\n",
    "    count = 0\n",
    "    \n",
    "    while queue:\n",
    "        \n",
    "        # 현재 큐에서 최댓값을 저장\n",
    "        best = max(queue)\n",
    "        \n",
    "        # 현재 검증 대상\n",
    "        front = queue.popleft()\n",
    "        \n",
    "        # 타겟 값의 위치를 한 칸 당김\n",
    "        m -= 1\n",
    "        \n",
    "        # 뽑은 숫자가 가장 큰 숫자라면?\n",
    "        if best == front:\n",
    "            # 순번 하나 추가\n",
    "            count += 1\n",
    "            \n",
    "            # m이 0 아래로 떨어지면\n",
    "            if m < 0:\n",
    "                print(count) # 반복문을 종료\n",
    "                break\n",
    "                \n",
    "        # 뽑은 숫자가 가장 큰 숫자가 아니라면?\n",
    "        else:\n",
    "            # 현재 검증 대상을 큐에 다시 추가\n",
    "            queue.append(front)\n",
    "            \n",
    "            # m이 0 아래로 떨어지면 \n",
    "            if m < 0:\n",
    "                m = len(queue) - 1 # m을 초기화"
   ]
  },
  {
   "cell_type": "markdown",
   "id": "a8999331",
   "metadata": {},
   "source": [
    "### idx 정보를 사용해보자"
   ]
  },
  {
   "cell_type": "code",
   "execution_count": 2,
   "id": "f9b55685",
   "metadata": {},
   "outputs": [
    {
     "name": "stdout",
     "output_type": "stream",
     "text": [
      "3\n",
      "1 0\n",
      "5\n",
      "1\n",
      "4 2\n",
      "1 2 3 4\n",
      "2\n",
      "6 0\n",
      "1 1 9 1 1 1\n",
      "5\n"
     ]
    }
   ],
   "source": [
    "from collections import deque\n",
    "\n",
    "t = int(input())\n",
    "\n",
    "for _ in range(t):\n",
    "    n, m = map(int, input().split())\n",
    "    queue = deque(list(map(int, input().split())))\n",
    "    index = deque(list(range(n)))\n",
    "    count = 0\n",
    "    \n",
    "    while queue:\n",
    "        # 현재 뽑은 값이 가장 큰 값이면\n",
    "        if queue[0] == max(queue):\n",
    "            count += 1\n",
    "            queue.popleft() # 현재 가장 큰 값을 출력\n",
    "            idx = index.popleft() # 그 index도 출력\n",
    "            \n",
    "            # idx가 타겟과 같으면 count를 출력\n",
    "            if idx == m:\n",
    "                print(count)\n",
    "                break\n",
    "        \n",
    "        # 현재 뽑은 값이 가장 큰 값이 아니면\n",
    "        else:\n",
    "            # 현재 값과 인덱스를 다시 삽입\n",
    "            queue.append(queue.popleft())\n",
    "            index.append(index.popleft())"
   ]
  },
  {
   "cell_type": "code",
   "execution_count": null,
   "id": "fa0bfa41",
   "metadata": {},
   "outputs": [],
   "source": []
  }
 ],
 "metadata": {
  "kernelspec": {
   "display_name": "Python 3 (ipykernel)",
   "language": "python",
   "name": "python3"
  },
  "language_info": {
   "codemirror_mode": {
    "name": "ipython",
    "version": 3
   },
   "file_extension": ".py",
   "mimetype": "text/x-python",
   "name": "python",
   "nbconvert_exporter": "python",
   "pygments_lexer": "ipython3",
   "version": "3.9.13"
  }
 },
 "nbformat": 4,
 "nbformat_minor": 5
}
