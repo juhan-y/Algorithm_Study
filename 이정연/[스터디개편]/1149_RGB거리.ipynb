{
 "cells": [
  {
   "cell_type": "markdown",
   "id": "5c9729c1",
   "metadata": {},
   "source": [
    "- 집이 N개. 1번 집부터 N번 집이 선분으로 있다.\n",
    "- 집은 빨강, 초록, 파랑 중 하나의 색으로 칠해야 한다.\n",
    "    - 1번 집의 색 != 2번 집의 색\n",
    "    - N번 집의 색 != N-1번 집의 색\n",
    "    - i (2<= i <= N-1) 번 집의 색은 i-1번, i+1번 집의 색과 같지 않아야 한다."
   ]
  },
  {
   "cell_type": "code",
   "execution_count": 1,
   "id": "c203a573",
   "metadata": {},
   "outputs": [
    {
     "name": "stdout",
     "output_type": "stream",
     "text": [
      "3\n"
     ]
    }
   ],
   "source": [
    "n = int(input())"
   ]
  },
  {
   "cell_type": "code",
   "execution_count": 8,
   "id": "4caa0618",
   "metadata": {},
   "outputs": [
    {
     "name": "stdout",
     "output_type": "stream",
     "text": [
      "26 40 83\n",
      "26 0\n",
      "49 60 57\n",
      "49 0\n",
      "13 89 99\n",
      "13 0\n"
     ]
    },
    {
     "data": {
      "text/plain": [
       "[[26, 0], [49, 0], [13, 0]]"
      ]
     },
     "execution_count": 8,
     "metadata": {},
     "output_type": "execute_result"
    }
   ],
   "source": [
    "result = []\n",
    "\n",
    "for _ in range(n):\n",
    "    house = list(map(int, input().split()))\n",
    "    min_cost = 1001\n",
    "\n",
    "    # 집 마다 최소 비용과 어떤 색깔인지를 저장\n",
    "    for color in range(3):\n",
    "        if min_cost >= house[color]:\n",
    "            min_cost = house[color] # rgb 중 최소 비용\n",
    "            color_idx = color # 어떤 색깔인지 (0, 1, 2)\n",
    "            \n",
    "    result.append([min_cost, color_idx])\n",
    "    print(min_cost, color_idx)\n",
    "\n",
    "result    \n",
    "    # r, g, b 중 어떤 것을 저장했는지에 대한 정보를 저장하자.\n",
    "    #tmp_color = "
   ]
  },
  {
   "cell_type": "markdown",
   "id": "27b714d5",
   "metadata": {},
   "source": [
    "- 그리디라고 생각했으나 DP였던 케이스.\n",
    "\n",
    "- 첫 번째 집과 두 번째 집의 최소값이 둘 다 r이라고 가정했을 때,\n",
    "    - 첫 번째 집의 최소값 + 두 번째 집의 두 번째 최소값\n",
    "    - 첫 번째 집의 두 번째 최소값 + 두 번째 집의 최소값\n",
    "    \n",
    "        - 후자가 더 클 가능성이 있기 때문에 무조건 처음 집에서 최소값을 골라내는건 옳지 않다.\n",
    "        - 정렬이 되어있다는 가정이 없기 때문이다."
   ]
  },
  {
   "cell_type": "code",
   "execution_count": 9,
   "id": "d1f349e0",
   "metadata": {},
   "outputs": [
    {
     "name": "stdout",
     "output_type": "stream",
     "text": [
      "3\n"
     ]
    }
   ],
   "source": [
    "n = int(input())"
   ]
  },
  {
   "cell_type": "code",
   "execution_count": 10,
   "id": "7738e9a5",
   "metadata": {},
   "outputs": [
    {
     "name": "stdout",
     "output_type": "stream",
     "text": [
      "26 40 83\n",
      "49 60 57\n",
      "13 89 99\n"
     ]
    }
   ],
   "source": [
    "house = [list(map(int, input().split())) for _ in range(n)]"
   ]
  },
  {
   "cell_type": "code",
   "execution_count": 13,
   "id": "49fe3e45",
   "metadata": {},
   "outputs": [],
   "source": [
    "cost = []\n",
    "\n",
    "# 두 번째 집은 첫 집에서 선택한 색 이외의 것들만 가능\n",
    "\n",
    "# 첫번째집의 G, B 중에서 더 작은 것과 두번째집의 R을 더함\n",
    "r = min(house[0][1], house[0][2]) + house[1][0]\n",
    "\n",
    "# 첫번째집의 R, B 중에서 더 작은 것과 두번째집의 G를 더함\n",
    "g = min(house[0][0], house[0][2]) + house[1][1]\n",
    "\n",
    "# 첫번째집의 R, G 중에서 더 작은 것과 두번째집의 B를 더함\n",
    "b = min(house[0][0], house[0][1]) + house[1][2]"
   ]
  },
  {
   "cell_type": "code",
   "execution_count": 14,
   "id": "9a94680e",
   "metadata": {},
   "outputs": [
    {
     "name": "stdout",
     "output_type": "stream",
     "text": [
      "89 86 83\n"
     ]
    }
   ],
   "source": [
    "print(r, g, b)"
   ]
  },
  {
   "cell_type": "code",
   "execution_count": null,
   "id": "84dd46aa",
   "metadata": {},
   "outputs": [],
   "source": [
    "# 세번째집은 두번째집에서 선택한 색 이외의 것들만 가능\n",
    "\n",
    "# 두번째집의 G, B 중에서 더 작은 것과 세번째집의 R을 더함\n",
    "r = min(house[1][1], house[1][2]) + house[2][0]\n",
    "\n",
    "# 두번째집의 R, B 중에서 더 작은 것과 세번째집의 G를 더함\n",
    "g = min(house[1][0], house[1][2]) + house[2][1]\n",
    "\n",
    "# 두번째집의 R, G 중에서 더 작은 것과 세번째집의 B를 더함\n",
    "b = min(house[1][0], house[1][1]) + house[2][2]"
   ]
  },
  {
   "cell_type": "code",
   "execution_count": null,
   "id": "df023c1b",
   "metadata": {},
   "outputs": [],
   "source": [
    "print(r, g, b)"
   ]
  },
  {
   "cell_type": "markdown",
   "id": "0a52a570",
   "metadata": {},
   "source": [
    "## 위 로직의 자동화"
   ]
  },
  {
   "cell_type": "code",
   "execution_count": 3,
   "id": "baeaae66",
   "metadata": {},
   "outputs": [
    {
     "name": "stdout",
     "output_type": "stream",
     "text": [
      "3\n",
      "1 100 100\n",
      "100 1 100\n",
      "100 100 1\n"
     ]
    }
   ],
   "source": [
    "n = int(input())\n",
    "house = [list(map(int, input().split())) for _ in range(n)]"
   ]
  },
  {
   "cell_type": "code",
   "execution_count": 7,
   "id": "0d756d10",
   "metadata": {},
   "outputs": [
    {
     "name": "stdout",
     "output_type": "stream",
     "text": [
      "200 2 101\n",
      "1 100 100\n",
      "\n",
      "102 300 102\n",
      "200 2 101\n",
      "\n"
     ]
    },
    {
     "data": {
      "text/plain": [
       "[[1, 100, 100], [200, 2, 101], [102, 300, 102]]"
      ]
     },
     "execution_count": 7,
     "metadata": {},
     "output_type": "execute_result"
    }
   ],
   "source": [
    "r, g, b = 0, 0, 0\n",
    "cost = [[house[0][0], house[0][1], house[0][2]]]\n",
    "\n",
    "for i in range(1, len(house)):\n",
    "    r += min(house[i-1][1], house[i-1][2]) + house[i][0]\n",
    "    g += min(house[i-1][0], house[i-1][2]) + house[i][1]\n",
    "    b += min(house[i-1][0], house[i-1][1]) + house[i][2]\n",
    "\n",
    "    print(r, g, b)\n",
    "    \n",
    "    cost.append([r, g, b])\n",
    "    r, g, b = cost[i-1][0], cost[i-1][1], cost[i-1][2]\n",
    "    print(r, g, b)\n",
    "    print()\n",
    "    \n",
    "cost"
   ]
  },
  {
   "cell_type": "code",
   "execution_count": 5,
   "id": "4d72b268",
   "metadata": {},
   "outputs": [
    {
     "name": "stdout",
     "output_type": "stream",
     "text": [
      "102\n"
     ]
    }
   ],
   "source": [
    "print(min(cost[-1]))"
   ]
  },
  {
   "cell_type": "markdown",
   "id": "3129cc9e",
   "metadata": {},
   "source": [
    "## Cost 리스트를 사용하지 않고 House에 누적"
   ]
  },
  {
   "cell_type": "code",
   "execution_count": 11,
   "id": "4e51b89d",
   "metadata": {},
   "outputs": [
    {
     "name": "stdout",
     "output_type": "stream",
     "text": [
      "3\n",
      "26 40 83\n",
      "49 60 57\n",
      "13 89 99\n"
     ]
    }
   ],
   "source": [
    "n = int(input())\n",
    "house = [list(map(int, input().split())) for _ in range(n)]"
   ]
  },
  {
   "cell_type": "code",
   "execution_count": 12,
   "id": "94142604",
   "metadata": {},
   "outputs": [
    {
     "data": {
      "text/plain": [
       "[[26, 40, 83], [89, 86, 83], [96, 172, 185]]"
      ]
     },
     "execution_count": 12,
     "metadata": {},
     "output_type": "execute_result"
    }
   ],
   "source": [
    "for i in range(1, len(house)):\n",
    "    house[i][0] = min(house[i-1][1], house[i-1][2]) + house[i][0]\n",
    "    house[i][1] = min(house[i-1][0], house[i-1][2]) + house[i][1]\n",
    "    house[i][2] = min(house[i-1][0], house[i-1][1]) + house[i][2]\n",
    "\n",
    "    \n",
    "house"
   ]
  },
  {
   "cell_type": "code",
   "execution_count": 13,
   "id": "53860643",
   "metadata": {},
   "outputs": [
    {
     "name": "stdout",
     "output_type": "stream",
     "text": [
      "96\n"
     ]
    }
   ],
   "source": [
    "print(min(house[-1]))"
   ]
  },
  {
   "cell_type": "code",
   "execution_count": null,
   "id": "de261b88",
   "metadata": {},
   "outputs": [],
   "source": []
  }
 ],
 "metadata": {
  "kernelspec": {
   "display_name": "Python 3 (ipykernel)",
   "language": "python",
   "name": "python3"
  },
  "language_info": {
   "codemirror_mode": {
    "name": "ipython",
    "version": 3
   },
   "file_extension": ".py",
   "mimetype": "text/x-python",
   "name": "python",
   "nbconvert_exporter": "python",
   "pygments_lexer": "ipython3",
   "version": "3.9.13"
  }
 },
 "nbformat": 4,
 "nbformat_minor": 5
}
