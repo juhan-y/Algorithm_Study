{
 "cells": [
  {
   "cell_type": "markdown",
   "id": "10442fb0",
   "metadata": {},
   "source": [
    "- 2^n * 2^n 2차원 배열을 Z 모양으로 탐색\n",
    "- N > 1인 경우, 2^n-1 * 2^n-1로 4등분 한 후에 재귀적으로 방문"
   ]
  },
  {
   "cell_type": "markdown",
   "id": "d4dd97d8",
   "metadata": {},
   "source": [
    "- **수를 적절한 위치에 담는 방식으로 풀어보자**\n",
    "\n",
    "- 각 Z의 첫 수는?\n",
    "    - 0, 4, 8, 12, 16, 20, 24, ...\n",
    "- 각 Z의 두번째 수는?\n",
    "    - 1, 5, 9, 13, ...\n",
    "    \n",
    "    \n",
    "- 왼쪽 위 -> 오른쪽 위 -> 왼쪽 아래 -> 오른쪽 아래"
   ]
  },
  {
   "cell_type": "code",
   "execution_count": 19,
   "id": "f6a166b6",
   "metadata": {},
   "outputs": [],
   "source": [
    "# Z 순서로 숫자를 삽입하는 함수\n",
    "def insert_Z(x, y, n):\n",
    "    global cnt\n",
    "    \n",
    "    # Z 순서로 cnt를 추가\n",
    "    \n",
    "    # 왼쪽 위\n",
    "    space[x][y] = cnt\n",
    "    cnt += 1\n",
    "    # 오른쪽 위\n",
    "    space[x][y+1] = cnt\n",
    "    cnt += 1\n",
    "    # 왼쪽 아래\n",
    "    space[x+1][y] = cnt\n",
    "    cnt += 1\n",
    "    # 오른쪽 아래\n",
    "    space[x+1][y+1] = cnt\n",
    "    cnt += 1\n",
    "    return"
   ]
  },
  {
   "cell_type": "code",
   "execution_count": 20,
   "id": "a76c5905",
   "metadata": {},
   "outputs": [
    {
     "name": "stdout",
     "output_type": "stream",
     "text": [
      "3 7 7\n"
     ]
    }
   ],
   "source": [
    "# r행 c열\n",
    "n, r, c = map(int, input().split())\n",
    "space = [[0] * (2**n) for _ in range(2**n)]\n",
    "\n",
    "# 1씩 증가시킬 변수\n",
    "cnt = 0"
   ]
  },
  {
   "cell_type": "markdown",
   "id": "3dd93e74",
   "metadata": {},
   "source": [
    "## 왼쪽 위"
   ]
  },
  {
   "cell_type": "code",
   "execution_count": 77,
   "id": "2f288762",
   "metadata": {},
   "outputs": [
    {
     "data": {
      "text/plain": [
       "[[0, 1, 0, 0, 0, 0, 0, 0],\n",
       " [2, 3, 0, 0, 0, 0, 0, 0],\n",
       " [0, 0, 0, 0, 0, 0, 0, 0],\n",
       " [0, 0, 0, 0, 0, 0, 0, 0],\n",
       " [0, 0, 0, 0, 0, 0, 0, 0],\n",
       " [0, 0, 0, 0, 0, 0, 0, 0],\n",
       " [0, 0, 0, 0, 0, 0, 0, 0],\n",
       " [0, 0, 0, 0, 0, 0, 0, 0]]"
      ]
     },
     "execution_count": 77,
     "metadata": {},
     "output_type": "execute_result"
    }
   ],
   "source": [
    "insert_Z(0, 0, 2**n*2**n)\n",
    "space"
   ]
  },
  {
   "cell_type": "code",
   "execution_count": 78,
   "id": "14a4478f",
   "metadata": {},
   "outputs": [
    {
     "data": {
      "text/plain": [
       "[[0, 1, 4, 5, 0, 0, 0, 0],\n",
       " [2, 3, 6, 7, 0, 0, 0, 0],\n",
       " [0, 0, 0, 0, 0, 0, 0, 0],\n",
       " [0, 0, 0, 0, 0, 0, 0, 0],\n",
       " [0, 0, 0, 0, 0, 0, 0, 0],\n",
       " [0, 0, 0, 0, 0, 0, 0, 0],\n",
       " [0, 0, 0, 0, 0, 0, 0, 0],\n",
       " [0, 0, 0, 0, 0, 0, 0, 0]]"
      ]
     },
     "execution_count": 78,
     "metadata": {},
     "output_type": "execute_result"
    }
   ],
   "source": [
    "insert_Z(0, 2, 2**n*2**n)\n",
    "space"
   ]
  },
  {
   "cell_type": "code",
   "execution_count": 79,
   "id": "c4bb9dcd",
   "metadata": {},
   "outputs": [
    {
     "data": {
      "text/plain": [
       "[[0, 1, 4, 5, 0, 0, 0, 0],\n",
       " [2, 3, 6, 7, 0, 0, 0, 0],\n",
       " [8, 9, 0, 0, 0, 0, 0, 0],\n",
       " [10, 11, 0, 0, 0, 0, 0, 0],\n",
       " [0, 0, 0, 0, 0, 0, 0, 0],\n",
       " [0, 0, 0, 0, 0, 0, 0, 0],\n",
       " [0, 0, 0, 0, 0, 0, 0, 0],\n",
       " [0, 0, 0, 0, 0, 0, 0, 0]]"
      ]
     },
     "execution_count": 79,
     "metadata": {},
     "output_type": "execute_result"
    }
   ],
   "source": [
    "insert_Z(2, 0, 2**n*2**n)\n",
    "space"
   ]
  },
  {
   "cell_type": "code",
   "execution_count": 80,
   "id": "5762c6e2",
   "metadata": {},
   "outputs": [
    {
     "data": {
      "text/plain": [
       "[[0, 1, 4, 5, 0, 0, 0, 0],\n",
       " [2, 3, 6, 7, 0, 0, 0, 0],\n",
       " [8, 9, 12, 13, 0, 0, 0, 0],\n",
       " [10, 11, 14, 15, 0, 0, 0, 0],\n",
       " [0, 0, 0, 0, 0, 0, 0, 0],\n",
       " [0, 0, 0, 0, 0, 0, 0, 0],\n",
       " [0, 0, 0, 0, 0, 0, 0, 0],\n",
       " [0, 0, 0, 0, 0, 0, 0, 0]]"
      ]
     },
     "execution_count": 80,
     "metadata": {},
     "output_type": "execute_result"
    }
   ],
   "source": [
    "insert_Z(2, 2, 2**n*2**n)\n",
    "space"
   ]
  },
  {
   "cell_type": "markdown",
   "id": "5abec767",
   "metadata": {},
   "source": [
    "## 오른쪽 위"
   ]
  },
  {
   "cell_type": "code",
   "execution_count": 81,
   "id": "eb79c8ba",
   "metadata": {},
   "outputs": [
    {
     "data": {
      "text/plain": [
       "[[0, 1, 4, 5, 16, 17, 0, 0],\n",
       " [2, 3, 6, 7, 18, 19, 0, 0],\n",
       " [8, 9, 12, 13, 0, 0, 0, 0],\n",
       " [10, 11, 14, 15, 0, 0, 0, 0],\n",
       " [0, 0, 0, 0, 0, 0, 0, 0],\n",
       " [0, 0, 0, 0, 0, 0, 0, 0],\n",
       " [0, 0, 0, 0, 0, 0, 0, 0],\n",
       " [0, 0, 0, 0, 0, 0, 0, 0]]"
      ]
     },
     "execution_count": 81,
     "metadata": {},
     "output_type": "execute_result"
    }
   ],
   "source": [
    "insert_Z(0, 4, 2**n*2**n)\n",
    "space"
   ]
  },
  {
   "cell_type": "code",
   "execution_count": 82,
   "id": "3e16e1c1",
   "metadata": {},
   "outputs": [
    {
     "data": {
      "text/plain": [
       "[[0, 1, 4, 5, 16, 17, 20, 21],\n",
       " [2, 3, 6, 7, 18, 19, 22, 23],\n",
       " [8, 9, 12, 13, 0, 0, 0, 0],\n",
       " [10, 11, 14, 15, 0, 0, 0, 0],\n",
       " [0, 0, 0, 0, 0, 0, 0, 0],\n",
       " [0, 0, 0, 0, 0, 0, 0, 0],\n",
       " [0, 0, 0, 0, 0, 0, 0, 0],\n",
       " [0, 0, 0, 0, 0, 0, 0, 0]]"
      ]
     },
     "execution_count": 82,
     "metadata": {},
     "output_type": "execute_result"
    }
   ],
   "source": [
    "insert_Z(0, 6, 2**n*2**n)\n",
    "space"
   ]
  },
  {
   "cell_type": "code",
   "execution_count": 83,
   "id": "6ae12126",
   "metadata": {},
   "outputs": [
    {
     "data": {
      "text/plain": [
       "[[0, 1, 4, 5, 16, 17, 20, 21],\n",
       " [2, 3, 6, 7, 18, 19, 22, 23],\n",
       " [8, 9, 12, 13, 24, 25, 0, 0],\n",
       " [10, 11, 14, 15, 26, 27, 0, 0],\n",
       " [0, 0, 0, 0, 0, 0, 0, 0],\n",
       " [0, 0, 0, 0, 0, 0, 0, 0],\n",
       " [0, 0, 0, 0, 0, 0, 0, 0],\n",
       " [0, 0, 0, 0, 0, 0, 0, 0]]"
      ]
     },
     "execution_count": 83,
     "metadata": {},
     "output_type": "execute_result"
    }
   ],
   "source": [
    "insert_Z(2, 4, 2**n*2**n)\n",
    "space"
   ]
  },
  {
   "cell_type": "code",
   "execution_count": 84,
   "id": "71443f16",
   "metadata": {},
   "outputs": [
    {
     "data": {
      "text/plain": [
       "[[0, 1, 4, 5, 16, 17, 20, 21],\n",
       " [2, 3, 6, 7, 18, 19, 22, 23],\n",
       " [8, 9, 12, 13, 24, 25, 28, 29],\n",
       " [10, 11, 14, 15, 26, 27, 30, 31],\n",
       " [0, 0, 0, 0, 0, 0, 0, 0],\n",
       " [0, 0, 0, 0, 0, 0, 0, 0],\n",
       " [0, 0, 0, 0, 0, 0, 0, 0],\n",
       " [0, 0, 0, 0, 0, 0, 0, 0]]"
      ]
     },
     "execution_count": 84,
     "metadata": {},
     "output_type": "execute_result"
    }
   ],
   "source": [
    "insert_Z(2, 6, 2**n*2**n)\n",
    "space"
   ]
  },
  {
   "cell_type": "markdown",
   "id": "3d4bfaa2",
   "metadata": {},
   "source": [
    "## 왼쪽 아래"
   ]
  },
  {
   "cell_type": "code",
   "execution_count": 85,
   "id": "074807d2",
   "metadata": {},
   "outputs": [
    {
     "data": {
      "text/plain": [
       "[[0, 1, 4, 5, 16, 17, 20, 21],\n",
       " [2, 3, 6, 7, 18, 19, 22, 23],\n",
       " [8, 9, 12, 13, 24, 25, 28, 29],\n",
       " [10, 11, 14, 15, 26, 27, 30, 31],\n",
       " [32, 33, 0, 0, 0, 0, 0, 0],\n",
       " [34, 35, 0, 0, 0, 0, 0, 0],\n",
       " [0, 0, 0, 0, 0, 0, 0, 0],\n",
       " [0, 0, 0, 0, 0, 0, 0, 0]]"
      ]
     },
     "execution_count": 85,
     "metadata": {},
     "output_type": "execute_result"
    }
   ],
   "source": [
    "insert_Z(4, 0, 2**n*2**n)\n",
    "space"
   ]
  },
  {
   "cell_type": "code",
   "execution_count": 86,
   "id": "a9c2cc5e",
   "metadata": {},
   "outputs": [
    {
     "data": {
      "text/plain": [
       "[[0, 1, 4, 5, 16, 17, 20, 21],\n",
       " [2, 3, 6, 7, 18, 19, 22, 23],\n",
       " [8, 9, 12, 13, 24, 25, 28, 29],\n",
       " [10, 11, 14, 15, 26, 27, 30, 31],\n",
       " [32, 33, 36, 37, 0, 0, 0, 0],\n",
       " [34, 35, 38, 39, 0, 0, 0, 0],\n",
       " [0, 0, 0, 0, 0, 0, 0, 0],\n",
       " [0, 0, 0, 0, 0, 0, 0, 0]]"
      ]
     },
     "execution_count": 86,
     "metadata": {},
     "output_type": "execute_result"
    }
   ],
   "source": [
    "insert_Z(4, 2, 2**n*2**n)\n",
    "space"
   ]
  },
  {
   "cell_type": "code",
   "execution_count": 87,
   "id": "74d8447f",
   "metadata": {},
   "outputs": [
    {
     "data": {
      "text/plain": [
       "[[0, 1, 4, 5, 16, 17, 20, 21],\n",
       " [2, 3, 6, 7, 18, 19, 22, 23],\n",
       " [8, 9, 12, 13, 24, 25, 28, 29],\n",
       " [10, 11, 14, 15, 26, 27, 30, 31],\n",
       " [32, 33, 36, 37, 0, 0, 0, 0],\n",
       " [34, 35, 38, 39, 0, 0, 0, 0],\n",
       " [40, 41, 0, 0, 0, 0, 0, 0],\n",
       " [42, 43, 0, 0, 0, 0, 0, 0]]"
      ]
     },
     "execution_count": 87,
     "metadata": {},
     "output_type": "execute_result"
    }
   ],
   "source": [
    "insert_Z(6, 0, 2**n*2**n)\n",
    "space"
   ]
  },
  {
   "cell_type": "code",
   "execution_count": 88,
   "id": "ea56cacc",
   "metadata": {},
   "outputs": [
    {
     "data": {
      "text/plain": [
       "[[0, 1, 4, 5, 16, 17, 20, 21],\n",
       " [2, 3, 6, 7, 18, 19, 22, 23],\n",
       " [8, 9, 12, 13, 24, 25, 28, 29],\n",
       " [10, 11, 14, 15, 26, 27, 30, 31],\n",
       " [32, 33, 36, 37, 0, 0, 0, 0],\n",
       " [34, 35, 38, 39, 0, 0, 0, 0],\n",
       " [40, 41, 44, 45, 0, 0, 0, 0],\n",
       " [42, 43, 46, 47, 0, 0, 0, 0]]"
      ]
     },
     "execution_count": 88,
     "metadata": {},
     "output_type": "execute_result"
    }
   ],
   "source": [
    "insert_Z(6, 2, 2**n*2**n)\n",
    "space"
   ]
  },
  {
   "cell_type": "markdown",
   "id": "011506e6",
   "metadata": {},
   "source": [
    "## 오른쪽 아래"
   ]
  },
  {
   "cell_type": "code",
   "execution_count": 89,
   "id": "9b58c37a",
   "metadata": {},
   "outputs": [
    {
     "data": {
      "text/plain": [
       "[[0, 1, 4, 5, 16, 17, 20, 21],\n",
       " [2, 3, 6, 7, 18, 19, 22, 23],\n",
       " [8, 9, 12, 13, 24, 25, 28, 29],\n",
       " [10, 11, 14, 15, 26, 27, 30, 31],\n",
       " [32, 33, 36, 37, 48, 49, 0, 0],\n",
       " [34, 35, 38, 39, 50, 51, 0, 0],\n",
       " [40, 41, 44, 45, 0, 0, 0, 0],\n",
       " [42, 43, 46, 47, 0, 0, 0, 0]]"
      ]
     },
     "execution_count": 89,
     "metadata": {},
     "output_type": "execute_result"
    }
   ],
   "source": [
    "insert_Z(4, 4, 2**n*2**n)\n",
    "space"
   ]
  },
  {
   "cell_type": "code",
   "execution_count": 90,
   "id": "5cfa5899",
   "metadata": {},
   "outputs": [
    {
     "data": {
      "text/plain": [
       "[[0, 1, 4, 5, 16, 17, 20, 21],\n",
       " [2, 3, 6, 7, 18, 19, 22, 23],\n",
       " [8, 9, 12, 13, 24, 25, 28, 29],\n",
       " [10, 11, 14, 15, 26, 27, 30, 31],\n",
       " [32, 33, 36, 37, 48, 49, 52, 53],\n",
       " [34, 35, 38, 39, 50, 51, 54, 55],\n",
       " [40, 41, 44, 45, 0, 0, 0, 0],\n",
       " [42, 43, 46, 47, 0, 0, 0, 0]]"
      ]
     },
     "execution_count": 90,
     "metadata": {},
     "output_type": "execute_result"
    }
   ],
   "source": [
    "insert_Z(4, 6, 2**n*2**n)\n",
    "space"
   ]
  },
  {
   "cell_type": "code",
   "execution_count": 91,
   "id": "ebbf1873",
   "metadata": {},
   "outputs": [
    {
     "data": {
      "text/plain": [
       "[[0, 1, 4, 5, 16, 17, 20, 21],\n",
       " [2, 3, 6, 7, 18, 19, 22, 23],\n",
       " [8, 9, 12, 13, 24, 25, 28, 29],\n",
       " [10, 11, 14, 15, 26, 27, 30, 31],\n",
       " [32, 33, 36, 37, 48, 49, 52, 53],\n",
       " [34, 35, 38, 39, 50, 51, 54, 55],\n",
       " [40, 41, 44, 45, 56, 57, 0, 0],\n",
       " [42, 43, 46, 47, 58, 59, 0, 0]]"
      ]
     },
     "execution_count": 91,
     "metadata": {},
     "output_type": "execute_result"
    }
   ],
   "source": [
    "insert_Z(6, 4, 2**n*2**n)\n",
    "space"
   ]
  },
  {
   "cell_type": "code",
   "execution_count": 92,
   "id": "86f26afb",
   "metadata": {},
   "outputs": [
    {
     "data": {
      "text/plain": [
       "[[0, 1, 4, 5, 16, 17, 20, 21],\n",
       " [2, 3, 6, 7, 18, 19, 22, 23],\n",
       " [8, 9, 12, 13, 24, 25, 28, 29],\n",
       " [10, 11, 14, 15, 26, 27, 30, 31],\n",
       " [32, 33, 36, 37, 48, 49, 52, 53],\n",
       " [34, 35, 38, 39, 50, 51, 54, 55],\n",
       " [40, 41, 44, 45, 56, 57, 60, 61],\n",
       " [42, 43, 46, 47, 58, 59, 62, 63]]"
      ]
     },
     "execution_count": 92,
     "metadata": {},
     "output_type": "execute_result"
    }
   ],
   "source": [
    "insert_Z(6, 6, 2**n*2**n)\n",
    "space"
   ]
  },
  {
   "cell_type": "markdown",
   "id": "828ba10a",
   "metadata": {},
   "source": [
    "## 자동화"
   ]
  },
  {
   "cell_type": "code",
   "execution_count": 74,
   "id": "78357314",
   "metadata": {},
   "outputs": [],
   "source": [
    "# Z 순서로 숫자를 삽입하는 함수\n",
    "def insert_Z(x, y, n):\n",
    "    global cnt\n",
    "    \n",
    "    # Z 순서로 cnt를 추가\n",
    "    \n",
    "    # 왼쪽 위\n",
    "    space[x][y] = cnt\n",
    "    cnt += 1\n",
    "    # 오른쪽 위\n",
    "    space[x][y+1] = cnt\n",
    "    cnt += 1\n",
    "    # 왼쪽 아래\n",
    "    space[x+1][y] = cnt\n",
    "    cnt += 1\n",
    "    # 오른쪽 아래\n",
    "    space[x+1][y+1] = cnt\n",
    "    cnt += 1\n",
    "    return"
   ]
  },
  {
   "cell_type": "code",
   "execution_count": 75,
   "id": "fcc4c137",
   "metadata": {},
   "outputs": [
    {
     "name": "stdout",
     "output_type": "stream",
     "text": [
      "10 511 511\n"
     ]
    }
   ],
   "source": [
    "# r행 c열\n",
    "n, r, c = map(int, input().split())\n",
    "space = [[0] * (2**n) for _ in range(2**n)]\n",
    "\n",
    "# 1씩 증가시킬 변수\n",
    "cnt = 0"
   ]
  },
  {
   "cell_type": "code",
   "execution_count": 29,
   "id": "9b2025ef",
   "metadata": {},
   "outputs": [
    {
     "ename": "IndexError",
     "evalue": "list assignment index out of range",
     "output_type": "error",
     "traceback": [
      "\u001b[1;31m---------------------------------------------------------------------------\u001b[0m",
      "\u001b[1;31mIndexError\u001b[0m                                Traceback (most recent call last)",
      "\u001b[1;32m~\\AppData\\Local\\Temp\\ipykernel_7264\\1494438393.py\u001b[0m in \u001b[0;36m<module>\u001b[1;34m\u001b[0m\n\u001b[0;32m      4\u001b[0m \u001b[1;32mwhile\u001b[0m \u001b[0mtmp\u001b[0m \u001b[1;33m<\u001b[0m \u001b[1;33m(\u001b[0m\u001b[1;36m2\u001b[0m\u001b[1;33m**\u001b[0m\u001b[0mn\u001b[0m \u001b[1;33m*\u001b[0m \u001b[1;36m2\u001b[0m\u001b[1;33m)\u001b[0m\u001b[1;33m:\u001b[0m\u001b[1;33m\u001b[0m\u001b[1;33m\u001b[0m\u001b[0m\n\u001b[0;32m      5\u001b[0m \u001b[1;33m\u001b[0m\u001b[0m\n\u001b[1;32m----> 6\u001b[1;33m     \u001b[0minsert_Z\u001b[0m\u001b[1;33m(\u001b[0m\u001b[0mx\u001b[0m\u001b[1;33m,\u001b[0m \u001b[0my\u001b[0m\u001b[1;33m,\u001b[0m \u001b[1;36m2\u001b[0m\u001b[1;33m**\u001b[0m\u001b[0mn\u001b[0m\u001b[1;33m*\u001b[0m\u001b[1;36m2\u001b[0m\u001b[1;33m**\u001b[0m\u001b[0mn\u001b[0m\u001b[1;33m)\u001b[0m\u001b[1;33m\u001b[0m\u001b[1;33m\u001b[0m\u001b[0m\n\u001b[0m\u001b[0;32m      7\u001b[0m     \u001b[0minsert_Z\u001b[0m\u001b[1;33m(\u001b[0m\u001b[0mx\u001b[0m\u001b[1;33m,\u001b[0m \u001b[0my\u001b[0m\u001b[1;33m+\u001b[0m\u001b[1;36m2\u001b[0m\u001b[1;33m,\u001b[0m \u001b[1;36m2\u001b[0m\u001b[1;33m**\u001b[0m\u001b[0mn\u001b[0m\u001b[1;33m*\u001b[0m\u001b[1;36m2\u001b[0m\u001b[1;33m**\u001b[0m\u001b[0mn\u001b[0m\u001b[1;33m)\u001b[0m\u001b[1;33m\u001b[0m\u001b[1;33m\u001b[0m\u001b[0m\n\u001b[0;32m      8\u001b[0m     \u001b[0minsert_Z\u001b[0m\u001b[1;33m(\u001b[0m\u001b[0mx\u001b[0m\u001b[1;33m+\u001b[0m\u001b[1;36m2\u001b[0m\u001b[1;33m,\u001b[0m \u001b[0my\u001b[0m\u001b[1;33m,\u001b[0m \u001b[1;36m2\u001b[0m\u001b[1;33m**\u001b[0m\u001b[0mn\u001b[0m\u001b[1;33m*\u001b[0m\u001b[1;36m2\u001b[0m\u001b[1;33m**\u001b[0m\u001b[0mn\u001b[0m\u001b[1;33m)\u001b[0m\u001b[1;33m\u001b[0m\u001b[1;33m\u001b[0m\u001b[0m\n",
      "\u001b[1;32m~\\AppData\\Local\\Temp\\ipykernel_7264\\4121992032.py\u001b[0m in \u001b[0;36minsert_Z\u001b[1;34m(x, y, n)\u001b[0m\n\u001b[0;32m      6\u001b[0m \u001b[1;33m\u001b[0m\u001b[0m\n\u001b[0;32m      7\u001b[0m     \u001b[1;31m# 왼쪽 위\u001b[0m\u001b[1;33m\u001b[0m\u001b[1;33m\u001b[0m\u001b[0m\n\u001b[1;32m----> 8\u001b[1;33m     \u001b[0mspace\u001b[0m\u001b[1;33m[\u001b[0m\u001b[0mx\u001b[0m\u001b[1;33m]\u001b[0m\u001b[1;33m[\u001b[0m\u001b[0my\u001b[0m\u001b[1;33m]\u001b[0m \u001b[1;33m=\u001b[0m \u001b[0mcnt\u001b[0m\u001b[1;33m\u001b[0m\u001b[1;33m\u001b[0m\u001b[0m\n\u001b[0m\u001b[0;32m      9\u001b[0m     \u001b[0mcnt\u001b[0m \u001b[1;33m+=\u001b[0m \u001b[1;36m1\u001b[0m\u001b[1;33m\u001b[0m\u001b[1;33m\u001b[0m\u001b[0m\n\u001b[0;32m     10\u001b[0m     \u001b[1;31m# 오른쪽 위\u001b[0m\u001b[1;33m\u001b[0m\u001b[1;33m\u001b[0m\u001b[0m\n",
      "\u001b[1;31mIndexError\u001b[0m: list assignment index out of range"
     ]
    }
   ],
   "source": [
    "tmp = 0\n",
    "x, y = 0, 0\n",
    "\n",
    "while tmp < (2**n * 2):\n",
    "    \n",
    "\n",
    "    insert_Z(x, y, 2**n*2**n)\n",
    "    insert_Z(x, y+2, 2**n*2**n)\n",
    "    insert_Z(x+2, y, 2**n*2**n)\n",
    "    insert_Z(x+2, y+2, 2**n*2**n)\n",
    "    \n",
    "    tmp += 4\n",
    "    \n",
    "    # 2사분면을 모두 돌고\n",
    "    if tmp == 4:\n",
    "        y += 4\n",
    "\n",
    "    # 1사분면을 모두 돌고\n",
    "    if tmp == 8:\n",
    "        x += 4\n",
    "        y -= 4\n",
    "    \n",
    "    # 3사분면을 모두 돌고\n",
    "    if tmp == 12:\n",
    "        y += 4"
   ]
  },
  {
   "cell_type": "markdown",
   "id": "32ae49e1",
   "metadata": {},
   "source": [
    "#### 1. Try Except 추가"
   ]
  },
  {
   "cell_type": "code",
   "execution_count": 60,
   "id": "da1b8198",
   "metadata": {},
   "outputs": [],
   "source": [
    "tmp = 0\n",
    "x, y = 0, 0\n",
    "\n",
    "while tmp < (2**n * 2):\n",
    "    \n",
    "    try:\n",
    "    \n",
    "        insert_Z(x, y, 2**n*2**n)\n",
    "        insert_Z(x, y+2, 2**n*2**n)\n",
    "        insert_Z(x+2, y, 2**n*2**n)\n",
    "        insert_Z(x+2, y+2, 2**n*2**n)\n",
    "\n",
    "        tmp += 4\n",
    "\n",
    "        # 2사분면을 모두 돌고\n",
    "        if tmp == 4:\n",
    "            y += 4\n",
    "\n",
    "        # 1사분면을 모두 돌고\n",
    "        if tmp == 8:\n",
    "            x += 4\n",
    "            y -= 4\n",
    "\n",
    "        # 3사분면을 모두 돌고\n",
    "        if tmp == 12:\n",
    "            y += 4\n",
    "            \n",
    "    except:\n",
    "        break"
   ]
  },
  {
   "cell_type": "markdown",
   "id": "37c17edf",
   "metadata": {},
   "source": [
    "#### 2. while문을 충분히 큰 수로 교체"
   ]
  },
  {
   "cell_type": "code",
   "execution_count": null,
   "id": "e1550d20",
   "metadata": {},
   "outputs": [],
   "source": [
    "tmp = 0\n",
    "x, y = 0, 0\n",
    "\n",
    "while tmp < 2**n*2**n:\n",
    "    \n",
    "    try:\n",
    "    \n",
    "        insert_Z(x, y, 2**n*2**n)\n",
    "        insert_Z(x, y+2, 2**n*2**n)\n",
    "        insert_Z(x+2, y, 2**n*2**n)\n",
    "        insert_Z(x+2, y+2, 2**n*2**n)\n",
    "\n",
    "        tmp += 4\n",
    "\n",
    "        # 2사분면을 모두 돌고\n",
    "        if tmp == 4:\n",
    "            y += 4\n",
    "\n",
    "        # 1사분면을 모두 돌고\n",
    "        if tmp == 8:\n",
    "            x += 4\n",
    "            y -= 4\n",
    "\n",
    "        # 3사분면을 모두 돌고\n",
    "        if tmp == 12:\n",
    "            y += 4\n",
    "            \n",
    "    except:\n",
    "        break"
   ]
  },
  {
   "cell_type": "markdown",
   "id": "46880fa6",
   "metadata": {},
   "source": [
    "#### 3. if문을 교체"
   ]
  },
  {
   "cell_type": "code",
   "execution_count": 76,
   "id": "fdf6bd5c",
   "metadata": {},
   "outputs": [],
   "source": [
    "tmp = 0\n",
    "x, y = 0, 0\n",
    "\n",
    "while tmp < 2**n*2**n:\n",
    "    \n",
    "    try:\n",
    "        insert_Z(x, y, 2**n*2**n)\n",
    "        insert_Z(x, y+2, 2**n*2**n)\n",
    "        insert_Z(x+2, y, 2**n*2**n)\n",
    "        insert_Z(x+2, y+2, 2**n*2**n)\n",
    "        \n",
    "        tmp += 4\n",
    "\n",
    "        # 2사분면을 모두 돌고\n",
    "        if tmp//4 == 1:\n",
    "            y += 4\n",
    "        \n",
    "        # 1사분면을 모두 돌고\n",
    "        if tmp//4 == 2:\n",
    "            x += 4\n",
    "            y -= 4\n",
    "        \n",
    "        # 3사분면을 모두 돌고\n",
    "        if tmp//4 == 3:\n",
    "            y += 4\n",
    "            \n",
    "    except:\n",
    "        break"
   ]
  },
  {
   "cell_type": "code",
   "execution_count": null,
   "id": "478fadb3",
   "metadata": {},
   "outputs": [],
   "source": [
    "tmp < 2**n*2**n:"
   ]
  },
  {
   "cell_type": "markdown",
   "id": "108dbff4",
   "metadata": {},
   "source": [
    "## 정답 코드"
   ]
  },
  {
   "cell_type": "markdown",
   "id": "9f5a1883",
   "metadata": {},
   "source": [
    "분할 정복 측면 : 계속 4개의 영역으로 나누는 규칙으로 분할할 수 있다.\n",
    "\n",
    "- 계속 어떤 영역에 속해있나 분할해가며, 좌표에 해당하는 값의 규칙을 찾기."
   ]
  },
  {
   "cell_type": "code",
   "execution_count": 14,
   "id": "cf2f55a4",
   "metadata": {},
   "outputs": [
    {
     "name": "stdout",
     "output_type": "stream",
     "text": [
      "3 7 7\n"
     ]
    }
   ],
   "source": [
    "# r행 c열\n",
    "n, r, c = map(int,input().split())\n",
    "result = 0"
   ]
  },
  {
   "cell_type": "code",
   "execution_count": 15,
   "id": "cd55621b",
   "metadata": {},
   "outputs": [
    {
     "name": "stdout",
     "output_type": "stream",
     "text": [
      "48 3 3\n",
      "60 1 1\n",
      "63 0 0\n"
     ]
    }
   ],
   "source": [
    "while n != 0:\n",
    "    \n",
    "    # N > 1인 경우, 배열을 크기가 2**(n-1) * 2**(n-1)로 4등분 함.\n",
    "    n -= 1\n",
    "    \n",
    "    # 왼쪽 위\n",
    "    if r < 2**n and c < 2**n:\n",
    "        result += (2**n) * (2**n) * 0\n",
    "    \n",
    "    # 오른쪽 위\n",
    "    elif r < 2**n and c >= 2**n:\n",
    "        result += (2**n) * (2**n) * 1\n",
    "        c -= (2**n)\n",
    "    \n",
    "    # 왼쪽 아래\n",
    "    elif r >= 2**n and c < 2**n:\n",
    "        result += (2**n) * (2**n) * 2\n",
    "        r -= (2**n)\n",
    "    \n",
    "    # 오른쪽 아래\n",
    "    else: # r >= 2**n and c >= 2**n\n",
    "        result += (2**n) * (2**n) * 3 # 48 -> 12 -> 3\n",
    "        r -= (2**n) # 7 -> 3 -> 1\n",
    "        c -= (2**n) # 7 -> 3 -> 1\n",
    "    \n",
    "    print(result, r, c)"
   ]
  },
  {
   "cell_type": "markdown",
   "id": "03af0acb",
   "metadata": {},
   "source": [
    "재귀 측면 : 좌표 r, c가 2배가 됨에 따라 값이 4의 배수로 확장."
   ]
  },
  {
   "cell_type": "code",
   "execution_count": 17,
   "id": "4f7cf53f",
   "metadata": {},
   "outputs": [
    {
     "name": "stdout",
     "output_type": "stream",
     "text": [
      "3 7 7\n",
      "63\n"
     ]
    }
   ],
   "source": [
    "# r행 c열\n",
    "n, r, c = map(int,input().split())\n",
    "\n",
    "def solution(n, r, c):\n",
    "    if n == 0:\n",
    "        return 0\n",
    "\n",
    "    return 2*(r%2)+(c%2) + 4*solution(n-1, int(r/2), int(c/2))\n",
    "\n",
    "print(solution(n, r, c))"
   ]
  },
  {
   "cell_type": "code",
   "execution_count": null,
   "id": "08bdc788",
   "metadata": {},
   "outputs": [],
   "source": []
  }
 ],
 "metadata": {
  "kernelspec": {
   "display_name": "Python 3 (ipykernel)",
   "language": "python",
   "name": "python3"
  },
  "language_info": {
   "codemirror_mode": {
    "name": "ipython",
    "version": 3
   },
   "file_extension": ".py",
   "mimetype": "text/x-python",
   "name": "python",
   "nbconvert_exporter": "python",
   "pygments_lexer": "ipython3",
   "version": "3.9.13"
  }
 },
 "nbformat": 4,
 "nbformat_minor": 5
}
