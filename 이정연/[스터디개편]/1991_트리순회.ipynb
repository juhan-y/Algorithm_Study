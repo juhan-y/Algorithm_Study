{
 "cells": [
  {
   "cell_type": "code",
   "execution_count": 14,
   "id": "7f63948a",
   "metadata": {},
   "outputs": [
    {
     "name": "stdout",
     "output_type": "stream",
     "text": [
      "7\n",
      "A B C\n",
      "B D .\n",
      "C E F\n",
      "E . .\n",
      "F . G\n",
      "D . .\n",
      "G . .\n"
     ]
    }
   ],
   "source": [
    "n = int(input())\n",
    "graph = [list(map(str, input().split())) for _ in range(n)]"
   ]
  },
  {
   "cell_type": "markdown",
   "id": "0187fb64",
   "metadata": {},
   "source": [
    "### 숫자로 해보자"
   ]
  },
  {
   "cell_type": "code",
   "execution_count": 106,
   "id": "243a1211",
   "metadata": {},
   "outputs": [
    {
     "name": "stdout",
     "output_type": "stream",
     "text": [
      "A\n",
      "B\n",
      "D\n",
      "E\n",
      "F\n",
      "G\n",
      "C\n"
     ]
    }
   ],
   "source": [
    "for i in graph:\n",
    "    i.sort(reverse=True)\n",
    "\n",
    "visited = [False] * n\n",
    "\n",
    "# 전위 순회 (dfs)\n",
    "def dfs(graph, start, visited):\n",
    "    stack = [start]\n",
    "    visited[ord(start)-65] = True\n",
    "    \n",
    "    while stack:\n",
    "        v = stack.pop()\n",
    "        print(v)\n",
    "        \n",
    "        for i in graph[ord(v)-65]:\n",
    "            \n",
    "            if i == '.':\n",
    "                continue\n",
    "            \n",
    "            if not visited[ord(i)-65]:\n",
    "                stack.append(i)\n",
    "                visited[ord(i)-65] = True\n",
    "                \n",
    "dfs(graph, 'A', visited)"
   ]
  },
  {
   "cell_type": "markdown",
   "id": "6154d5df",
   "metadata": {},
   "source": [
    "### 딕셔너리로 구현"
   ]
  },
  {
   "cell_type": "code",
   "execution_count": 107,
   "id": "bed309d7",
   "metadata": {},
   "outputs": [
    {
     "name": "stdout",
     "output_type": "stream",
     "text": [
      "A B C\n",
      "B D .\n",
      "C E F\n",
      "E . .\n",
      "F . G\n",
      "D . .\n",
      "G . .\n"
     ]
    },
    {
     "data": {
      "text/plain": [
       "{'A': ['B', 'C'],\n",
       " 'B': ['D', '.'],\n",
       " 'C': ['E', 'F'],\n",
       " 'E': ['.', '.'],\n",
       " 'F': ['.', 'G'],\n",
       " 'D': ['.', '.'],\n",
       " 'G': ['.', '.']}"
      ]
     },
     "execution_count": 107,
     "metadata": {},
     "output_type": "execute_result"
    }
   ],
   "source": [
    "n = 7\n",
    "graph = {}\n",
    "\n",
    "for _ in range(n):\n",
    "    key, v1, v2 = map(str, input().split())\n",
    "    graph[key] = [v1, v2]\n",
    "    \n",
    "graph"
   ]
  },
  {
   "cell_type": "code",
   "execution_count": null,
   "id": "84ab2ef8",
   "metadata": {},
   "outputs": [],
   "source": [
    "# 중위 순회\n"
   ]
  },
  {
   "cell_type": "code",
   "execution_count": null,
   "id": "147fe526",
   "metadata": {},
   "outputs": [],
   "source": [
    "# 후위 순회\n"
   ]
  },
  {
   "cell_type": "markdown",
   "id": "830124ae",
   "metadata": {},
   "source": [
    "## 정답"
   ]
  },
  {
   "cell_type": "code",
   "execution_count": 108,
   "id": "70311bfe",
   "metadata": {},
   "outputs": [
    {
     "name": "stdout",
     "output_type": "stream",
     "text": [
      "7\n",
      "A B C\n",
      "B D .\n",
      "C E F\n",
      "E . .\n",
      "F . G\n",
      "D . .\n",
      "G . .\n",
      "ABDCEFG\n",
      "DBAECFG\n",
      "DBEGFCA"
     ]
    }
   ],
   "source": [
    "n = int(input())\n",
    "tree = {}\n",
    "\n",
    "for _ in range(n):\n",
    "    root, left, right = map(str, input().split())\n",
    "    tree[root] = [left, right]\n",
    "    \n",
    "# 전위\n",
    "def preorder(root):\n",
    "    if root != '.':\n",
    "        print(root, end='') # root\n",
    "        preorder(tree[root][0]) # left\n",
    "        preorder(tree[root][1]) # right\n",
    "\n",
    "# 중위\n",
    "def inorder(root):\n",
    "    if root != '.':\n",
    "        inorder(tree[root][0]) # left\n",
    "        print(root, end='') # root\n",
    "        inorder(tree[root][1]) # right\n",
    "\n",
    "# 후위\n",
    "def postorder(root):\n",
    "    if root != '.':\n",
    "        postorder(tree[root][0]) # left\n",
    "        postorder(tree[root][1]) # right\n",
    "        print(root, end='') # root\n",
    "        \n",
    "preorder('A')\n",
    "print()\n",
    "inorder('A')\n",
    "print()\n",
    "postorder('A')"
   ]
  },
  {
   "cell_type": "code",
   "execution_count": null,
   "id": "d2b47846",
   "metadata": {},
   "outputs": [],
   "source": []
  }
 ],
 "metadata": {
  "kernelspec": {
   "display_name": "Python 3 (ipykernel)",
   "language": "python",
   "name": "python3"
  },
  "language_info": {
   "codemirror_mode": {
    "name": "ipython",
    "version": 3
   },
   "file_extension": ".py",
   "mimetype": "text/x-python",
   "name": "python",
   "nbconvert_exporter": "python",
   "pygments_lexer": "ipython3",
   "version": "3.9.13"
  }
 },
 "nbformat": 4,
 "nbformat_minor": 5
}
