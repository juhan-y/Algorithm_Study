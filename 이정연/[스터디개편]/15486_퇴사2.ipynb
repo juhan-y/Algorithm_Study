{
 "cells": [
  {
   "cell_type": "markdown",
   "id": "9fcbe940",
   "metadata": {},
   "source": [
    "- N + 1일째 되는 날 퇴사.\n",
    "- 남은 N일 동안 최대한 많은 상담.\n",
    "    - Ti (상담을 완료하는데 걸리는 기간), Pi (금액)"
   ]
  },
  {
   "cell_type": "markdown",
   "id": "426aef82",
   "metadata": {},
   "source": [
    "- 남은 요일이 퇴사일을 넘어가면 무조건 pass\n",
    "- 해당 인덱스 + array[i][0]의 array[i][1]을 더함"
   ]
  },
  {
   "cell_type": "code",
   "execution_count": 13,
   "id": "21afc37b",
   "metadata": {},
   "outputs": [
    {
     "name": "stdout",
     "output_type": "stream",
     "text": [
      "10\n",
      "5 50\n",
      "4 40\n",
      "3 30\n",
      "2 20\n",
      "1 10\n",
      "1 10\n",
      "2 20\n",
      "3 30\n",
      "4 40\n",
      "5 50\n",
      "80\n"
     ]
    }
   ],
   "source": [
    "# import sys\n",
    "# input = sys.stdin.readlines\n",
    "\n",
    "n = int(input())\n",
    "array = [list(map(int, input().split())) for _ in range(n)]\n",
    "\n",
    "# 첫 인덱스\n",
    "dp = [0] * (n + 1)\n",
    "\n",
    "# 두번째부터\n",
    "for i in range(n):\n",
    "    \n",
    "    # 만약 남은 요일이 퇴사일 (n=7) 을 넘어가면 pass    \n",
    "    if i + array[i][0] > n:\n",
    "        continue\n",
    "        \n",
    "    # 점화식\n",
    "    dp[i-1 + array[i][0]] = max(dp[i-1] + array[i][1], dp[i-1 + array[i][0]])\n",
    "    \n",
    "print(max(dp))"
   ]
  },
  {
   "cell_type": "markdown",
   "id": "59ebddbb",
   "metadata": {},
   "source": [
    "## 정답"
   ]
  },
  {
   "cell_type": "code",
   "execution_count": null,
   "id": "840e0e6f",
   "metadata": {},
   "outputs": [],
   "source": [
    "import sys\n",
    "input = sys.stdin.readline"
   ]
  },
  {
   "cell_type": "code",
   "execution_count": 24,
   "id": "340b4fa7",
   "metadata": {},
   "outputs": [
    {
     "name": "stdout",
     "output_type": "stream",
     "text": [
      "10\n",
      "5 50\n",
      "4 40\n",
      "3 30\n",
      "2 20\n",
      "1 10\n",
      "1 10\n",
      "2 20\n",
      "3 30\n",
      "4 40\n",
      "5 50\n",
      "90\n"
     ]
    }
   ],
   "source": [
    "n = int(input())\n",
    "array = [list(map(int, input().split())) for _ in range(n)]\n",
    "\n",
    "# 첫 인덱스\n",
    "dp = [0] * (n + 1)\n",
    "\n",
    "k = 0\n",
    "\n",
    "# 두번째부터\n",
    "for i in range(n):\n",
    "    \n",
    "    k = max(k, dp[i])\n",
    "    \n",
    "    # 만약 남은 요일이 퇴사일 (n=7) 을 넘어가면 pass    \n",
    "    if i + array[i][0] > n:\n",
    "        continue\n",
    "        \n",
    "    # 점화식\n",
    "    dp[i + array[i][0]] = max(k + array[i][1], dp[i + array[i][0]])\n",
    "    \n",
    "print(max(dp))"
   ]
  },
  {
   "cell_type": "code",
   "execution_count": 25,
   "id": "75a4077f",
   "metadata": {},
   "outputs": [
    {
     "data": {
      "text/plain": [
       "[0, 0, 0, 0, 0, 50, 60, 0, 80, 0, 90]"
      ]
     },
     "execution_count": 25,
     "metadata": {},
     "output_type": "execute_result"
    }
   ],
   "source": [
    "dp"
   ]
  },
  {
   "cell_type": "code",
   "execution_count": null,
   "id": "b108579c",
   "metadata": {},
   "outputs": [],
   "source": []
  }
 ],
 "metadata": {
  "kernelspec": {
   "display_name": "Python 3 (ipykernel)",
   "language": "python",
   "name": "python3"
  },
  "language_info": {
   "codemirror_mode": {
    "name": "ipython",
    "version": 3
   },
   "file_extension": ".py",
   "mimetype": "text/x-python",
   "name": "python",
   "nbconvert_exporter": "python",
   "pygments_lexer": "ipython3",
   "version": "3.9.13"
  }
 },
 "nbformat": 4,
 "nbformat_minor": 5
}
