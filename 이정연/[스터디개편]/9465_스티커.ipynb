{
 "cells": [
  {
   "cell_type": "code",
   "execution_count": null,
   "id": "ca47195d",
   "metadata": {},
   "outputs": [],
   "source": [
    "import sys\n",
    "input = sys.stdin.readline"
   ]
  },
  {
   "cell_type": "code",
   "execution_count": 3,
   "id": "5556503f",
   "metadata": {},
   "outputs": [
    {
     "name": "stdout",
     "output_type": "stream",
     "text": [
      "2\n",
      "5\n",
      "50 10 100 20 40\n",
      "30 50 70 10 60\n",
      "260\n",
      "7\n",
      "10 30 10 50 100 20 40\n",
      "20 40 30 50 60 20 80\n",
      "290\n"
     ]
    }
   ],
   "source": [
    "t = int(input())\n",
    "for _ in range(t):\n",
    "    n = int(input())\n",
    "    graph = [list(map(int, input().split())) for _ in range(2)] # 2행 n열\n",
    "    \n",
    "    if n == 1:\n",
    "        print(max(graph[0][0], graph[1][0]))\n",
    "    \n",
    "    else:\n",
    "        # 두번째 값에 첫번째 대각선을 더해줌\n",
    "        graph[0][1] = graph[0][1] + graph[1][0]\n",
    "        graph[1][1] = graph[1][1] + graph[0][0]\n",
    "\n",
    "        # 대각선 두번째 vs 대각선 첫번째 중 더 큰 것을 더해줌 (둘은 상충관계이다)\n",
    "        for i in range(2, n):\n",
    "            graph[0][i] += max(graph[1][i-1], graph[1][i-2])\n",
    "            graph[1][i] += max(graph[0][i-1], graph[0][i-2])\n",
    "\n",
    "        print(max(graph[0][n-1], graph[1][n-1]))"
   ]
  },
  {
   "cell_type": "code",
   "execution_count": null,
   "id": "0ad11222",
   "metadata": {},
   "outputs": [],
   "source": []
  }
 ],
 "metadata": {
  "kernelspec": {
   "display_name": "Python 3 (ipykernel)",
   "language": "python",
   "name": "python3"
  },
  "language_info": {
   "codemirror_mode": {
    "name": "ipython",
    "version": 3
   },
   "file_extension": ".py",
   "mimetype": "text/x-python",
   "name": "python",
   "nbconvert_exporter": "python",
   "pygments_lexer": "ipython3",
   "version": "3.9.13"
  }
 },
 "nbformat": 4,
 "nbformat_minor": 5
}
