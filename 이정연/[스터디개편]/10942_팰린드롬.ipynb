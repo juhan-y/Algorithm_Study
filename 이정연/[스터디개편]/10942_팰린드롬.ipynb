{
 "cells": [
  {
   "cell_type": "markdown",
   "id": "8883327f",
   "metadata": {},
   "source": [
    "- 자연수 N개, 질문 총 M번\n",
    "- 두 정수 S와 E (1 <= S <= E <= N)\n",
    "    - S번째 수 ~ E번째 수까지 수가 팰린드롬인지 판별\n",
    "    - 팰린드롬 : 뒤집어도 똑같은 문자열\n",
    "    - 팰린드롬이면 1, 아니면 0"
   ]
  },
  {
   "cell_type": "code",
   "execution_count": null,
   "id": "42d2f4fe",
   "metadata": {},
   "outputs": [],
   "source": [
    "import sys\n",
    "input = sys.stdin.readline"
   ]
  },
  {
   "cell_type": "markdown",
   "id": "f837632d",
   "metadata": {},
   "source": [
    "### 시간 초과\n",
    "\n",
    "- 이렇게 쉽게 풀릴리가 없지"
   ]
  },
  {
   "cell_type": "code",
   "execution_count": 6,
   "id": "bacf565c",
   "metadata": {},
   "outputs": [
    {
     "name": "stdout",
     "output_type": "stream",
     "text": [
      "7\n",
      "1 2 1 3 1 2 1\n",
      "4\n",
      "1 3\n",
      "1\n",
      "2 5\n",
      "0\n",
      "3 3\n",
      "1\n",
      "5 7\n",
      "1\n"
     ]
    }
   ],
   "source": [
    "# 수열의 크기\n",
    "n = int(input())\n",
    "\n",
    "# 칠판에 적은 수\n",
    "array = list(map(int, input().split()))\n",
    "\n",
    "# 질문의 개수\n",
    "m = int(input())\n",
    "\n",
    "# S, E\n",
    "for _ in range(m):\n",
    "    s, e = map(int, input().split())\n",
    "    \n",
    "    if array[s-1:e] == array[s-1:e][::-1]:\n",
    "        print(1)\n",
    "        \n",
    "    else:\n",
    "        print(0)"
   ]
  },
  {
   "cell_type": "markdown",
   "id": "c3a1956d",
   "metadata": {},
   "source": [
    "### 시간 초과를 파괴해보자\n",
    "\n",
    "- [::-1]의 시간 복잡도가 sort()와 같다면 시간 초과가 날 것이다.\n",
    "    - O(NM)이라고 한다.\n",
    "- 보통 이러면 또 DP 인가\n",
    "- s와 e의 위치를 최대한 빨리 찾아가는 알고리즘?"
   ]
  },
  {
   "cell_type": "markdown",
   "id": "f5c3c693",
   "metadata": {},
   "source": [
    "### 시간 초과가 아니라 IndexError가 뜬다."
   ]
  },
  {
   "cell_type": "code",
   "execution_count": null,
   "id": "e9fbc729",
   "metadata": {},
   "outputs": [],
   "source": [
    "import sys\n",
    "input = sys.stdin.readline"
   ]
  },
  {
   "cell_type": "code",
   "execution_count": 1,
   "id": "9b34142b",
   "metadata": {},
   "outputs": [
    {
     "name": "stdout",
     "output_type": "stream",
     "text": [
      "7\n",
      "1 2 1 3 1 2 1\n"
     ]
    },
    {
     "data": {
      "text/plain": [
       "[[1, 0, 1, 0, 0, 0, 1],\n",
       " [1, 0, 0, 0, 1, 0],\n",
       " [1, 0, 1, 0, 0],\n",
       " [1, 0, 0, 0],\n",
       " [1, 0, 1],\n",
       " [1, 0],\n",
       " [1]]"
      ]
     },
     "execution_count": 1,
     "metadata": {},
     "output_type": "execute_result"
    }
   ],
   "source": [
    "# 수열의 크기\n",
    "n = int(input())\n",
    "\n",
    "# 칠판에 적은 수\n",
    "array = list(map(int, input().split()))\n",
    "\n",
    "# 첫 인덱스부터 n 인덱스까지 팰린드롬인지를 판단하는 코드?\n",
    "dp = []\n",
    "dp.append([1, 0, 1, 0, 0, 0, 1])\n",
    "dp.append([1, 0, 0, 0, 1, 0])\n",
    "dp.append([1, 0, 1, 0, 0])\n",
    "dp.append([1, 0, 0, 0])\n",
    "dp.append([1, 0, 1])\n",
    "dp.append([1, 0])\n",
    "dp.append([1])\n",
    "\n",
    "dp"
   ]
  },
  {
   "cell_type": "code",
   "execution_count": 2,
   "id": "98bd3511",
   "metadata": {},
   "outputs": [
    {
     "name": "stdout",
     "output_type": "stream",
     "text": [
      "4\n",
      "1 3\n",
      "1\n",
      "2 5\n",
      "0\n",
      "3 3\n",
      "1\n",
      "5 7\n",
      "1\n"
     ]
    }
   ],
   "source": [
    "# 질문의 개수\n",
    "m = int(input())\n",
    "\n",
    "# S, E\n",
    "for _ in range(m):\n",
    "    s, e = map(int, input().split())\n",
    "    \n",
    "    print(dp[s-1][e-s])"
   ]
  },
  {
   "cell_type": "markdown",
   "id": "7c717039",
   "metadata": {},
   "source": [
    "## 정답"
   ]
  },
  {
   "cell_type": "code",
   "execution_count": null,
   "id": "72a8e838",
   "metadata": {},
   "outputs": [],
   "source": [
    "import sys\n",
    "input = sys.stdin.readline"
   ]
  },
  {
   "cell_type": "code",
   "execution_count": 13,
   "id": "ec029a54",
   "metadata": {},
   "outputs": [
    {
     "name": "stdout",
     "output_type": "stream",
     "text": [
      "7\n",
      "1 2 1 3 1 2 1\n",
      "4\n",
      "1 3\n",
      "0\n",
      "2 5\n",
      "0\n",
      "3 3 \n",
      "0\n",
      "5 7\n",
      "0\n"
     ]
    }
   ],
   "source": [
    "n = int(input())\n",
    "array = list(input().split())\n",
    "m = int(input())\n",
    "dp = [[0 for _ in range(n)] for _ in range(n)]\n",
    "\n",
    "# 길이가 1인 경우 팰린드롬. (자기 자신)\n",
    "for i in range(n):\n",
    "    dp[i][i] = 1\n",
    "    \n",
    "# 길이가 2인 경우 옆 인덱스와 같으면 팰린드롬.\n",
    "for i in range(n - 1):\n",
    "    if array[i] == array[i + 1]:\n",
    "        dp[i][i + 1] = 1\n",
    "        \n",
    "# 길이가 3 이상인 경우 \n",
    "for i in range(2, n):\n",
    "    for j in range(n - i):\n",
    "\n",
    "        # 시작점과 끝점의 값이 같으면서, 나머지 가운데 구간이 팰린드롬이어야 한다.\n",
    "        if array[j] == array[i + j] and dp[j + 1][i + j - 1] == 1:\n",
    "            dp[j][i + j] = 1\n",
    "            \n",
    "for i in range(m):\n",
    "    s, e = map(int, input().split())\n",
    "    print(dp[s - 1][e - 1])"
   ]
  },
  {
   "cell_type": "code",
   "execution_count": null,
   "id": "773079d1",
   "metadata": {},
   "outputs": [],
   "source": []
  }
 ],
 "metadata": {
  "kernelspec": {
   "display_name": "Python 3 (ipykernel)",
   "language": "python",
   "name": "python3"
  },
  "language_info": {
   "codemirror_mode": {
    "name": "ipython",
    "version": 3
   },
   "file_extension": ".py",
   "mimetype": "text/x-python",
   "name": "python",
   "nbconvert_exporter": "python",
   "pygments_lexer": "ipython3",
   "version": "3.9.13"
  }
 },
 "nbformat": 4,
 "nbformat_minor": 5
}
