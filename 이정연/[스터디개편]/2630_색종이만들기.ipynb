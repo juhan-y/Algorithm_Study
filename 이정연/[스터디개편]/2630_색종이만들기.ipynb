{
 "cells": [
  {
   "attachments": {
    "image.png": {
     "image/png": "[encoded data removed]"
    }
   },
   "cell_type": "markdown",
   "id": "90dbc2ea",
   "metadata": {},
   "source": [
    "![image.png](attachment:image.png)\n",
    "\n",
    "- 다양한 크기를 가진 정사각형 모양의 하얀색, 파란색 색종이를 만들기"
   ]
  },
  {
   "cell_type": "markdown",
   "id": "2b8ac1e0",
   "metadata": {},
   "source": [
    "규칙\n",
    "\n",
    "- 전체 종이가 모두 같은 색으로 칠해져 있지 않으면\n",
    "    - 가로, 세로의 중간 부분을 자른다.\n",
    "    - 똑같은 크기의 네 개의 N/2 × N/2색종이로 나눈다.\n",
    "\n",
    "\n",
    "- 나누어진 종이 각각에 대해서도 모두 같은 색으로 칠해져 있지 않으면\n",
    "    - 가로, 세로의 중간 부분을 자른다.\n",
    "    - 똑같은 크기의 네 개의 N/2 × N/2색종이로 나눈다.\n",
    "    \n",
    "    \n",
    "종료 조건\n",
    "- 종이가 모두 하얀색 또는 파란색으로 칠해져 있으면 종료\n",
    "- 종이가 하나의 정사각형 칸이 되어 더 이상 자를 수 없으면 종료"
   ]
  },
  {
   "cell_type": "code",
   "execution_count": 1,
   "id": "45f4bee9",
   "metadata": {},
   "outputs": [
    {
     "name": "stdout",
     "output_type": "stream",
     "text": [
      "8\n"
     ]
    }
   ],
   "source": [
    "# 한 변의 길이\n",
    "n = int(input())\n",
    "\n",
    "# 색종이. 파란색이 1, 흰색이 0\n",
    "# paper = []\n",
    "# for _ in range(n):\n",
    "#     tmp = list(map(int, input().split()))\n",
    "#     paper.append(tmp)\n",
    "    \n",
    "paper = [[1, 1, 0, 0, 0, 0, 1, 1],\n",
    " [1, 1, 0, 0, 0, 0, 1, 1],\n",
    " [0, 0, 0, 0, 1, 1, 0, 0],\n",
    " [0, 0, 0, 0, 1, 1, 0, 0],\n",
    " [1, 0, 0, 0, 1, 1, 1, 1],\n",
    " [0, 1, 0, 0, 1, 1, 1, 1],\n",
    " [0, 0, 1, 1, 1, 1, 1, 1],\n",
    " [0, 0, 1, 1, 1, 1, 1, 1]]"
   ]
  },
  {
   "cell_type": "markdown",
   "id": "b331a520",
   "metadata": {},
   "source": [
    "## 해결해야할 문제"
   ]
  },
  {
   "cell_type": "markdown",
   "id": "1466e27d",
   "metadata": {},
   "source": [
    "- 어떤 자료구조를 선택할지, 최종 자료구조가 어떤 형태를 띄어야 하는지\n",
    "- 2차원 배열을 slicing 하는 방법\n",
    "- dfs, bfs로 풀면?\n",
    "    - 정사각형이 아니면 다시 쪼개는 방안."
   ]
  },
  {
   "cell_type": "code",
   "execution_count": 14,
   "id": "f52ba5ba",
   "metadata": {},
   "outputs": [
    {
     "name": "stdout",
     "output_type": "stream",
     "text": [
      "[1, 2]\n",
      "[5, 6]\n"
     ]
    }
   ],
   "source": [
    "list1 =[[1,2,3,4],\n",
    "        [5,6,7,8]]\n",
    "\n",
    "for i in range(len(list1)):\n",
    "    print(list1[i][0:2])"
   ]
  },
  {
   "cell_type": "code",
   "execution_count": 12,
   "id": "e2de7ec8",
   "metadata": {},
   "outputs": [
    {
     "data": {
      "text/plain": [
       "[[1, 1, 0, 0, 0, 0, 1, 1],\n",
       " [1, 1, 0, 0, 0, 0, 1, 1],\n",
       " [0, 0, 0, 0, 1, 1, 0, 0],\n",
       " [0, 0, 0, 0, 1, 1, 0, 0],\n",
       " [1, 0, 0, 0, 1, 1, 1, 1],\n",
       " [0, 1, 0, 0, 1, 1, 1, 1],\n",
       " [0, 0, 1, 1, 1, 1, 1, 1],\n",
       " [0, 0, 1, 1, 1, 1, 1, 1]]"
      ]
     },
     "execution_count": 12,
     "metadata": {},
     "output_type": "execute_result"
    }
   ],
   "source": [
    "paper"
   ]
  },
  {
   "cell_type": "code",
   "execution_count": 19,
   "id": "88733bde",
   "metadata": {},
   "outputs": [
    {
     "name": "stdout",
     "output_type": "stream",
     "text": [
      "[1, 1, 0, 0]\n",
      "[1, 1, 0, 0]\n",
      "[0, 0, 0, 0]\n",
      "[0, 0, 0, 0]\n"
     ]
    }
   ],
   "source": [
    "for i in range(len(paper) // 2):\n",
    "    print(paper[i][0:n//2])"
   ]
  },
  {
   "cell_type": "code",
   "execution_count": 13,
   "id": "24cc8c8f",
   "metadata": {},
   "outputs": [
    {
     "data": {
      "text/plain": [
       "[[1, 1, 1, 1],\n",
       " [0, 0, 0, 0],\n",
       " [0, 0, 0, 0],\n",
       " [1, 1, 1, 1],\n",
       " [0, 0, 0, 0],\n",
       " [0, 0, 0, 0],\n",
       " [1, 1, 1, 1],\n",
       " [0, 0, 0, 0],\n",
       " [1],\n",
       " [0],\n",
       " [0],\n",
       " [1],\n",
       " [0, 0, 0, 0],\n",
       " [1, 1, 1, 1],\n",
       " [1, 1, 1, 1],\n",
       " [0, 0, 0, 0],\n",
       " [1, 1, 1, 1],\n",
       " [1, 1, 1, 1],\n",
       " [1, 1, 1, 1]]"
      ]
     },
     "execution_count": 13,
     "metadata": {},
     "output_type": "execute_result"
    }
   ],
   "source": [
    "[\n",
    "    [1, 1, 1, 1],\n",
    "    [0, 0, 0, 0],\n",
    "    [0, 0, 0, 0],\n",
    "    [1, 1, 1, 1],\n",
    "    [0, 0, 0, 0],\n",
    "    [0, 0, 0, 0],\n",
    "    [1, 1, 1, 1],\n",
    "    [0, 0, 0, 0],\n",
    "    [1],\n",
    "    [0],\n",
    "    [0],\n",
    "    [1],\n",
    "    [0, 0, 0, 0],\n",
    "    [1, 1, 1, 1],\n",
    "    [1, 1, 1, 1],\n",
    "    [0, 0, 0, 0],\n",
    "    [1, 1, 1, 1],\n",
    "    [1, 1, 1, 1],\n",
    "    [1, 1, 1, 1],\n",
    "]"
   ]
  },
  {
   "cell_type": "markdown",
   "id": "6c94bc8f",
   "metadata": {},
   "source": [
    "## Sudo"
   ]
  },
  {
   "cell_type": "code",
   "execution_count": 11,
   "id": "94c13cb9",
   "metadata": {},
   "outputs": [
    {
     "data": {
      "text/plain": [
       "[1, 1, 0, 0]"
      ]
     },
     "execution_count": 11,
     "metadata": {},
     "output_type": "execute_result"
    }
   ],
   "source": [
    "# 0행의 전체\n",
    "paper[0][0 : n]\n",
    "\n",
    "# 0행의 1/4\n",
    "paper[0][0: n // 2]\n",
    "\n",
    "# 종료 조건 1) 만약 리스트가 모두 같은 숫자로 이루어져 있으면 종료\n",
    "\n",
    "# 종료 조건 2) 만약 리스트의 길이가 1이라면 종료\n",
    "## 완전 탐색을 할꺼라면 종료 조건 1에 포함되는 조건\n",
    "\n",
    "# 재귀 조건) 만약 리스트가 모두 같은 숫자로 이루어져 있지 않다면 함수를 실행"
   ]
  },
  {
   "cell_type": "markdown",
   "id": "d4932ce9",
   "metadata": {},
   "source": [
    "## Answer"
   ]
  },
  {
   "cell_type": "code",
   "execution_count": 28,
   "id": "1ad41ccd",
   "metadata": {},
   "outputs": [
    {
     "data": {
      "text/plain": [
       "[[1, 1, 0, 0, 0, 0, 1, 1],\n",
       " [1, 1, 0, 0, 0, 0, 1, 1],\n",
       " [0, 0, 0, 0, 1, 1, 0, 0],\n",
       " [0, 0, 0, 0, 1, 1, 0, 0],\n",
       " [1, 0, 0, 0, 1, 1, 1, 1],\n",
       " [0, 1, 0, 0, 1, 1, 1, 1],\n",
       " [0, 0, 1, 1, 1, 1, 1, 1],\n",
       " [0, 0, 1, 1, 1, 1, 1, 1]]"
      ]
     },
     "execution_count": 28,
     "metadata": {},
     "output_type": "execute_result"
    }
   ],
   "source": [
    "paper"
   ]
  },
  {
   "cell_type": "code",
   "execution_count": 3,
   "id": "a160185c",
   "metadata": {},
   "outputs": [
    {
     "name": "stdout",
     "output_type": "stream",
     "text": [
      "8\n"
     ]
    }
   ],
   "source": [
    "# 한 변의 길이\n",
    "n = int(input())\n",
    "\n",
    "# 색종이. 파란색이 1, 흰색이 0\n",
    "paper = []\n",
    "for _ in range(n):\n",
    "    tmp = list(map(int, input().split()))\n",
    "    paper.append(tmp)\n",
    "    \n",
    "# paper = [[1, 1, 0, 0, 0, 0, 1, 1],\n",
    "#          [1, 1, 0, 0, 0, 0, 1, 1],\n",
    "#          [0, 0, 0, 0, 1, 1, 0, 0],\n",
    "#          [0, 0, 0, 0, 1, 1, 0, 0],\n",
    "#          [1, 0, 0, 0, 1, 1, 1, 1],\n",
    "#          [0, 1, 0, 0, 1, 1, 1, 1],\n",
    "#          [0, 0, 1, 1, 1, 1, 1, 1],\n",
    "#          [0, 0, 1, 1, 1, 1, 1, 1]]"
   ]
  },
  {
   "cell_type": "code",
   "execution_count": 26,
   "id": "cdacac1e",
   "metadata": {},
   "outputs": [],
   "source": [
    "def cut_paper(n, paper_list):\n",
    "    \n",
    "    # 리스트의 첫 원소\n",
    "    flag = paper_list[0]\n",
    "    \n",
    "    # 리스트 내 모든 원소를 탐색\n",
    "    for i in range(n):\n",
    "        for j in range(n):\n",
    "            \n",
    "            # 리스트의 원소가 flag와 같으면 그대로 진행\n",
    "            if paper_list[i][j] == flag:\n",
    "                pass\n",
    "                \n",
    "            # 리스트의 원소가 하나라도 flag와 다르면\n",
    "            if paper_list[i][j] != flag:\n",
    "                \n",
    "                # 색종이를 쪼개기 (네 개의 N/2 * N/2)\n",
    "                for k in range(len(paper) // 2):\n",
    "                    print(paper[k][0:n//2])\n",
    "                    \n",
    "                # 재귀 함수 실행. 종료 조건을 어떻게 줘야할까?\n",
    "                ##cut_paper"
   ]
  },
  {
   "cell_type": "code",
   "execution_count": 27,
   "id": "da8d8e84",
   "metadata": {},
   "outputs": [
    {
     "name": "stdout",
     "output_type": "stream",
     "text": [
      "[1, 1, 0, 0]\n",
      "[1, 1, 0, 0]\n",
      "[0, 0, 0, 0]\n",
      "[0, 0, 0, 0]\n",
      "[1, 1, 0, 0]\n",
      "[1, 1, 0, 0]\n",
      "[0, 0, 0, 0]\n",
      "[0, 0, 0, 0]\n",
      "[1, 1, 0, 0]\n",
      "[1, 1, 0, 0]\n",
      "[0, 0, 0, 0]\n",
      "[0, 0, 0, 0]\n",
      "[1, 1, 0, 0]\n",
      "[1, 1, 0, 0]\n",
      "[0, 0, 0, 0]\n",
      "[0, 0, 0, 0]\n",
      "[1, 1, 0, 0]\n",
      "[1, 1, 0, 0]\n",
      "[0, 0, 0, 0]\n",
      "[0, 0, 0, 0]\n",
      "[1, 1, 0, 0]\n",
      "[1, 1, 0, 0]\n",
      "[0, 0, 0, 0]\n",
      "[0, 0, 0, 0]\n",
      "[1, 1, 0, 0]\n",
      "[1, 1, 0, 0]\n",
      "[0, 0, 0, 0]\n",
      "[0, 0, 0, 0]\n",
      "[1, 1, 0, 0]\n",
      "[1, 1, 0, 0]\n",
      "[0, 0, 0, 0]\n",
      "[0, 0, 0, 0]\n",
      "[1, 1, 0, 0]\n",
      "[1, 1, 0, 0]\n",
      "[0, 0, 0, 0]\n",
      "[0, 0, 0, 0]\n",
      "[1, 1, 0, 0]\n",
      "[1, 1, 0, 0]\n",
      "[0, 0, 0, 0]\n",
      "[0, 0, 0, 0]\n",
      "[1, 1, 0, 0]\n",
      "[1, 1, 0, 0]\n",
      "[0, 0, 0, 0]\n",
      "[0, 0, 0, 0]\n",
      "[1, 1, 0, 0]\n",
      "[1, 1, 0, 0]\n",
      "[0, 0, 0, 0]\n",
      "[0, 0, 0, 0]\n",
      "[1, 1, 0, 0]\n",
      "[1, 1, 0, 0]\n",
      "[0, 0, 0, 0]\n",
      "[0, 0, 0, 0]\n",
      "[1, 1, 0, 0]\n",
      "[1, 1, 0, 0]\n",
      "[0, 0, 0, 0]\n",
      "[0, 0, 0, 0]\n",
      "[1, 1, 0, 0]\n",
      "[1, 1, 0, 0]\n",
      "[0, 0, 0, 0]\n",
      "[0, 0, 0, 0]\n",
      "[1, 1, 0, 0]\n",
      "[1, 1, 0, 0]\n",
      "[0, 0, 0, 0]\n",
      "[0, 0, 0, 0]\n",
      "[1, 1, 0, 0]\n",
      "[1, 1, 0, 0]\n",
      "[0, 0, 0, 0]\n",
      "[0, 0, 0, 0]\n",
      "[1, 1, 0, 0]\n",
      "[1, 1, 0, 0]\n",
      "[0, 0, 0, 0]\n",
      "[0, 0, 0, 0]\n",
      "[1, 1, 0, 0]\n",
      "[1, 1, 0, 0]\n",
      "[0, 0, 0, 0]\n",
      "[0, 0, 0, 0]\n",
      "[1, 1, 0, 0]\n",
      "[1, 1, 0, 0]\n",
      "[0, 0, 0, 0]\n",
      "[0, 0, 0, 0]\n",
      "[1, 1, 0, 0]\n",
      "[1, 1, 0, 0]\n",
      "[0, 0, 0, 0]\n",
      "[0, 0, 0, 0]\n",
      "[1, 1, 0, 0]\n",
      "[1, 1, 0, 0]\n",
      "[0, 0, 0, 0]\n",
      "[0, 0, 0, 0]\n",
      "[1, 1, 0, 0]\n",
      "[1, 1, 0, 0]\n",
      "[0, 0, 0, 0]\n",
      "[0, 0, 0, 0]\n",
      "[1, 1, 0, 0]\n",
      "[1, 1, 0, 0]\n",
      "[0, 0, 0, 0]\n",
      "[0, 0, 0, 0]\n",
      "[1, 1, 0, 0]\n",
      "[1, 1, 0, 0]\n",
      "[0, 0, 0, 0]\n",
      "[0, 0, 0, 0]\n",
      "[1, 1, 0, 0]\n",
      "[1, 1, 0, 0]\n",
      "[0, 0, 0, 0]\n",
      "[0, 0, 0, 0]\n",
      "[1, 1, 0, 0]\n",
      "[1, 1, 0, 0]\n",
      "[0, 0, 0, 0]\n",
      "[0, 0, 0, 0]\n",
      "[1, 1, 0, 0]\n",
      "[1, 1, 0, 0]\n",
      "[0, 0, 0, 0]\n",
      "[0, 0, 0, 0]\n",
      "[1, 1, 0, 0]\n",
      "[1, 1, 0, 0]\n",
      "[0, 0, 0, 0]\n",
      "[0, 0, 0, 0]\n",
      "[1, 1, 0, 0]\n",
      "[1, 1, 0, 0]\n",
      "[0, 0, 0, 0]\n",
      "[0, 0, 0, 0]\n",
      "[1, 1, 0, 0]\n",
      "[1, 1, 0, 0]\n",
      "[0, 0, 0, 0]\n",
      "[0, 0, 0, 0]\n",
      "[1, 1, 0, 0]\n",
      "[1, 1, 0, 0]\n",
      "[0, 0, 0, 0]\n",
      "[0, 0, 0, 0]\n",
      "[1, 1, 0, 0]\n",
      "[1, 1, 0, 0]\n",
      "[0, 0, 0, 0]\n",
      "[0, 0, 0, 0]\n",
      "[1, 1, 0, 0]\n",
      "[1, 1, 0, 0]\n",
      "[0, 0, 0, 0]\n",
      "[0, 0, 0, 0]\n",
      "[1, 1, 0, 0]\n",
      "[1, 1, 0, 0]\n",
      "[0, 0, 0, 0]\n",
      "[0, 0, 0, 0]\n",
      "[1, 1, 0, 0]\n",
      "[1, 1, 0, 0]\n",
      "[0, 0, 0, 0]\n",
      "[0, 0, 0, 0]\n",
      "[1, 1, 0, 0]\n",
      "[1, 1, 0, 0]\n",
      "[0, 0, 0, 0]\n",
      "[0, 0, 0, 0]\n",
      "[1, 1, 0, 0]\n",
      "[1, 1, 0, 0]\n",
      "[0, 0, 0, 0]\n",
      "[0, 0, 0, 0]\n",
      "[1, 1, 0, 0]\n",
      "[1, 1, 0, 0]\n",
      "[0, 0, 0, 0]\n",
      "[0, 0, 0, 0]\n",
      "[1, 1, 0, 0]\n",
      "[1, 1, 0, 0]\n",
      "[0, 0, 0, 0]\n",
      "[0, 0, 0, 0]\n",
      "[1, 1, 0, 0]\n",
      "[1, 1, 0, 0]\n",
      "[0, 0, 0, 0]\n",
      "[0, 0, 0, 0]\n",
      "[1, 1, 0, 0]\n",
      "[1, 1, 0, 0]\n",
      "[0, 0, 0, 0]\n",
      "[0, 0, 0, 0]\n",
      "[1, 1, 0, 0]\n",
      "[1, 1, 0, 0]\n",
      "[0, 0, 0, 0]\n",
      "[0, 0, 0, 0]\n",
      "[1, 1, 0, 0]\n",
      "[1, 1, 0, 0]\n",
      "[0, 0, 0, 0]\n",
      "[0, 0, 0, 0]\n",
      "[1, 1, 0, 0]\n",
      "[1, 1, 0, 0]\n",
      "[0, 0, 0, 0]\n",
      "[0, 0, 0, 0]\n",
      "[1, 1, 0, 0]\n",
      "[1, 1, 0, 0]\n",
      "[0, 0, 0, 0]\n",
      "[0, 0, 0, 0]\n",
      "[1, 1, 0, 0]\n",
      "[1, 1, 0, 0]\n",
      "[0, 0, 0, 0]\n",
      "[0, 0, 0, 0]\n",
      "[1, 1, 0, 0]\n",
      "[1, 1, 0, 0]\n",
      "[0, 0, 0, 0]\n",
      "[0, 0, 0, 0]\n",
      "[1, 1, 0, 0]\n",
      "[1, 1, 0, 0]\n",
      "[0, 0, 0, 0]\n",
      "[0, 0, 0, 0]\n",
      "[1, 1, 0, 0]\n",
      "[1, 1, 0, 0]\n",
      "[0, 0, 0, 0]\n",
      "[0, 0, 0, 0]\n",
      "[1, 1, 0, 0]\n",
      "[1, 1, 0, 0]\n",
      "[0, 0, 0, 0]\n",
      "[0, 0, 0, 0]\n",
      "[1, 1, 0, 0]\n",
      "[1, 1, 0, 0]\n",
      "[0, 0, 0, 0]\n",
      "[0, 0, 0, 0]\n",
      "[1, 1, 0, 0]\n",
      "[1, 1, 0, 0]\n",
      "[0, 0, 0, 0]\n",
      "[0, 0, 0, 0]\n",
      "[1, 1, 0, 0]\n",
      "[1, 1, 0, 0]\n",
      "[0, 0, 0, 0]\n",
      "[0, 0, 0, 0]\n",
      "[1, 1, 0, 0]\n",
      "[1, 1, 0, 0]\n",
      "[0, 0, 0, 0]\n",
      "[0, 0, 0, 0]\n",
      "[1, 1, 0, 0]\n",
      "[1, 1, 0, 0]\n",
      "[0, 0, 0, 0]\n",
      "[0, 0, 0, 0]\n",
      "[1, 1, 0, 0]\n",
      "[1, 1, 0, 0]\n",
      "[0, 0, 0, 0]\n",
      "[0, 0, 0, 0]\n",
      "[1, 1, 0, 0]\n",
      "[1, 1, 0, 0]\n",
      "[0, 0, 0, 0]\n",
      "[0, 0, 0, 0]\n",
      "[1, 1, 0, 0]\n",
      "[1, 1, 0, 0]\n",
      "[0, 0, 0, 0]\n",
      "[0, 0, 0, 0]\n",
      "[1, 1, 0, 0]\n",
      "[1, 1, 0, 0]\n",
      "[0, 0, 0, 0]\n",
      "[0, 0, 0, 0]\n",
      "[1, 1, 0, 0]\n",
      "[1, 1, 0, 0]\n",
      "[0, 0, 0, 0]\n",
      "[0, 0, 0, 0]\n",
      "[1, 1, 0, 0]\n",
      "[1, 1, 0, 0]\n",
      "[0, 0, 0, 0]\n",
      "[0, 0, 0, 0]\n",
      "[1, 1, 0, 0]\n",
      "[1, 1, 0, 0]\n",
      "[0, 0, 0, 0]\n",
      "[0, 0, 0, 0]\n",
      "[1, 1, 0, 0]\n",
      "[1, 1, 0, 0]\n",
      "[0, 0, 0, 0]\n",
      "[0, 0, 0, 0]\n"
     ]
    }
   ],
   "source": [
    "cut_paper(n, paper)"
   ]
  },
  {
   "cell_type": "code",
   "execution_count": null,
   "id": "7d6733b0",
   "metadata": {},
   "outputs": [],
   "source": [
    "# 정답 (색종이의 개수)\n",
    "white = 0\n",
    "blue = 0\n",
    "\n",
    "# 쪼개진 리스트의 길이만큼 cut_paper를 수행\n",
    "for i in range(len(paper)):\n",
    "    \n",
    "    ## cut_paper 실행\n",
    "    # cut_paper(n, paper)\n",
    "    \n",
    "    # 한 리스트에는 같은 색만 있다는 전제\n",
    "    # 파란색\n",
    "    if i[0] == 1:\n",
    "        blue += 1\n",
    "    \n",
    "    # 흰색\n",
    "    if i[0] == 0:\n",
    "        white += 1\n",
    "        \n",
    "print(white)\n",
    "print(blue)"
   ]
  },
  {
   "cell_type": "markdown",
   "id": "89c94901",
   "metadata": {},
   "source": [
    "## 정답 코드"
   ]
  },
  {
   "cell_type": "code",
   "execution_count": 4,
   "id": "78d106ac",
   "metadata": {},
   "outputs": [
    {
     "name": "stdout",
     "output_type": "stream",
     "text": [
      "8\n",
      "1 1 0 0 0 0 1 1\n",
      "1 1 0 0 0 0 1 1\n",
      "0 0 0 0 1 1 0 0\n",
      "0 0 0 0 1 1 0 0\n",
      "1 0 0 0 1 1 1 1\n",
      "0 1 0 0 1 1 1 1\n",
      "0 0 1 1 1 1 1 1\n",
      "0 0 1 1 1 1 1 1\n"
     ]
    }
   ],
   "source": [
    "n = int(input())\n",
    "paper = [list(map(int, input().split())) for _ in range(n)]\n",
    "result = []"
   ]
  },
  {
   "cell_type": "code",
   "execution_count": 7,
   "id": "6286cda0",
   "metadata": {},
   "outputs": [
    {
     "name": "stdout",
     "output_type": "stream",
     "text": [
      "9\n",
      "7\n"
     ]
    }
   ],
   "source": [
    "def solution(x, y, n):\n",
    "    color = paper[x][y]\n",
    "    \n",
    "    for i in range(x, x+n):\n",
    "        for j in range(y, y+n):\n",
    "            if color != paper[i][j]:\n",
    "                solution(x, y, n//2)\n",
    "                solution(x, y+n//2, n//2)\n",
    "                solution(x+n//2, y, n//2)\n",
    "                solution(x+n//2, y+n//2, n//2)\n",
    "                return\n",
    "    if color == 0:\n",
    "        result.append(0)\n",
    "        \n",
    "    if color == 1:\n",
    "        result.append(1)\n",
    "        \n",
    "solution(0, 0, n)\n",
    "print(result.count(0))\n",
    "print(result.count(1))"
   ]
  },
  {
   "cell_type": "code",
   "execution_count": null,
   "id": "fefd9508",
   "metadata": {},
   "outputs": [],
   "source": []
  }
 ],
 "metadata": {
  "kernelspec": {
   "display_name": "Python 3 (ipykernel)",
   "language": "python",
   "name": "python3"
  },
  "language_info": {
   "codemirror_mode": {
    "name": "ipython",
    "version": 3
   },
   "file_extension": ".py",
   "mimetype": "text/x-python",
   "name": "python",
   "nbconvert_exporter": "python",
   "pygments_lexer": "ipython3",
   "version": "3.9.13"
  }
 },
 "nbformat": 4,
 "nbformat_minor": 5
}
