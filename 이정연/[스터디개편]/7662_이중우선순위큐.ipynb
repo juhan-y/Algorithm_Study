{
 "cells": [
  {
   "cell_type": "markdown",
   "id": "ea5d8d1a",
   "metadata": {},
   "source": [
    "## Heapq\n",
    "\n",
    "- 우선순위 큐 기능.\n",
    "- 최소 힙으로 구성.\n",
    "    - 원소를 힙에 전부 넣었다가 빼는 것만으로도 시간 복잡도 O(NlogN). 오름차순 정렬 완료.\n",
    "    - 최상단 원소를 항상 '가장 작은' 원소.\n",
    "- heapq.heappush()\n",
    "- heapq.heappop()"
   ]
  },
  {
   "cell_type": "code",
   "execution_count": 1,
   "id": "3867e38a",
   "metadata": {},
   "outputs": [
    {
     "name": "stdout",
     "output_type": "stream",
     "text": [
      "[0, 1, 2, 3, 4, 5, 6, 7, 8, 9]\n"
     ]
    }
   ],
   "source": [
    "import heapq\n",
    "\n",
    "def heapsort(iterable):\n",
    "    h = []\n",
    "    result = []\n",
    "    \n",
    "    # 모든 원소를 차례대로 힙에 삽입\n",
    "    for value in iterable:\n",
    "        heapq.heappush(h, value)\n",
    "        \n",
    "    # 힙에 삽입된 모든 원소를 차례대로 꺼내 담기\n",
    "    for _ in range(len(h)):\n",
    "        result.append(heapq.heappop(h))\n",
    "    \n",
    "    return result\n",
    "\n",
    "result = heapsort([1, 3, 5, 7, 9, 2, 4, 6, 8, 0])\n",
    "print(result)"
   ]
  },
  {
   "cell_type": "markdown",
   "id": "bf0a76fd",
   "metadata": {},
   "source": [
    "- 최대 힙은 제공하지 않음.\n",
    "    - 원소의 부호를 임시로 변경하는 방식 사용.\n",
    "    - 원소를 삽입할때는 부호를 반대로, 꺼낼때는 원래대로."
   ]
  },
  {
   "cell_type": "code",
   "execution_count": 2,
   "id": "c2ed3347",
   "metadata": {},
   "outputs": [
    {
     "name": "stdout",
     "output_type": "stream",
     "text": [
      "[9, 8, 7, 6, 5, 4, 3, 2, 1, 0]\n"
     ]
    }
   ],
   "source": [
    "import heapq\n",
    "\n",
    "def heapsort(iterable):\n",
    "    h = []\n",
    "    result = []\n",
    "    \n",
    "    # 모든 원소를 차례대로 힙에 삽입\n",
    "    for value in iterable:\n",
    "        heapq.heappush(h, -value)\n",
    "        \n",
    "    # 힙에 삽입된 모든 원소를 차례대로 꺼내 담기\n",
    "    for _ in range(len(h)):\n",
    "        result.append(-heapq.heappop(h))\n",
    "    \n",
    "    return result\n",
    "\n",
    "result = heapsort([1, 3, 5, 7, 9, 2, 4, 6, 8, 0])\n",
    "print(result)"
   ]
  },
  {
   "cell_type": "markdown",
   "id": "a0220c2f",
   "metadata": {},
   "source": [
    "## 이중 우선순위 큐"
   ]
  },
  {
   "cell_type": "markdown",
   "id": "b2e420b3",
   "metadata": {},
   "source": [
    "- 데이터를 삭제하는 연산\n",
    "    - 1. 우선순위가 가장 높은 것을 삭제.\n",
    "    - 2. 우선순위가 가장 낮은 것을 삭제.\n",
    "    \n",
    "- 연산들을 처리한 후 최종적으로 Q에 저장된 데이터의 최대, 최소값 출력."
   ]
  },
  {
   "cell_type": "markdown",
   "id": "01d275d4",
   "metadata": {},
   "source": [
    "- D : 삭제 (중복인 경우, 하나만 삭제)\n",
    "    - 1 : 최댓값을 삭제\n",
    "    - -1 : 최솟값을 삭제\n",
    "    - Q가 비어있을 경우는 무시\n",
    "- I : 삽입"
   ]
  },
  {
   "cell_type": "markdown",
   "id": "70ed61f9",
   "metadata": {},
   "source": [
    "I -45 : -45 삽입 (-45)\n",
    "\n",
    "I 653 : 653 삽입 (-45 653)\n",
    "\n",
    "D 1 : 653 출력 (-45)\n",
    "\n",
    "I -642 : -642 삽입 (-642 -45)\n",
    "\n",
    "I 45 : 45 삽입 (-642 -45 45)\n",
    "\n",
    "I 97 : 97 삽입 (-642 -45 45 97)\n",
    "\n",
    "D 1 : 97 출력 (-642 -45 45)\n",
    "\n",
    "D -1 : -642 출력 (-45 45)\n",
    "\n",
    "I 333 : 333 삽입 (-45 45 333)"
   ]
  },
  {
   "cell_type": "markdown",
   "id": "30349105",
   "metadata": {},
   "source": [
    "## 시간 초과"
   ]
  },
  {
   "cell_type": "code",
   "execution_count": null,
   "id": "209820be",
   "metadata": {},
   "outputs": [],
   "source": [
    "import sys\n",
    "input = sys.stdin.readline"
   ]
  },
  {
   "cell_type": "code",
   "execution_count": 4,
   "id": "91bdff49",
   "metadata": {},
   "outputs": [],
   "source": [
    "# 리스트의 부호를 바꾸는 함수\n",
    "def plus_minus(iterable):\n",
    "    for i in range(len(iterable)):\n",
    "        iterable[i] = - (iterable[i])\n",
    "        \n",
    "    return iterable"
   ]
  },
  {
   "cell_type": "code",
   "execution_count": 5,
   "id": "c04cfbea",
   "metadata": {},
   "outputs": [
    {
     "name": "stdout",
     "output_type": "stream",
     "text": [
      "2\n",
      "7\n",
      "I 16\n",
      "I -5643\n",
      "D -1\n",
      "D 1\n",
      "D 1\n",
      "I 123\n",
      "D -1\n",
      "EMPTY\n",
      "9\n",
      "I -45\n",
      "I 653\n",
      "D 1\n",
      "I -642\n",
      "I 45\n",
      "I 97\n",
      "D 1\n",
      "D -1\n",
      "I 333\n",
      "333 45\n"
     ]
    }
   ],
   "source": [
    "import heapq\n",
    "\n",
    "t = int(input())\n",
    "\n",
    "# test case\n",
    "for _ in range(t):\n",
    "    \n",
    "    k = int(input())\n",
    "    h = []\n",
    "    \n",
    "    # heapq 처리\n",
    "    for _ in range(k):\n",
    "        s, n = map(str, input().split())\n",
    "        \n",
    "        # I : 정수를 삽입\n",
    "        if s == 'I':\n",
    "            heapq.heappush(h, int(n))\n",
    "            \n",
    "        # D : 삭제\n",
    "        if s == 'D':\n",
    "            \n",
    "            # Q가 비어있을 경우는 무시\n",
    "            if len(h) == 0:\n",
    "                continue\n",
    "            \n",
    "            # 최댓값\n",
    "            if n == '-1':\n",
    "                heapq.heappop(h)\n",
    "                \n",
    "            # 최솟값\n",
    "            if n == '1':\n",
    "                h = plus_minus(h)\n",
    "                heapq.heappop(h)\n",
    "                h = plus_minus(h)\n",
    "                \n",
    "    # 최댓값, 최솟값 출력\n",
    "    if len(h) == 0:\n",
    "        print('EMPTY')\n",
    "    else:\n",
    "        print(max(h), min(h))"
   ]
  },
  {
   "cell_type": "markdown",
   "id": "ed821cb6",
   "metadata": {},
   "source": [
    "## 최소힙, 최대힙\n",
    "\n",
    "- for문을 줄여보자."
   ]
  },
  {
   "cell_type": "code",
   "execution_count": null,
   "id": "65a6cc81",
   "metadata": {},
   "outputs": [],
   "source": [
    "import heapq\n",
    "\n",
    "t = int(input())\n",
    "\n",
    "# test case\n",
    "for _ in range(t):\n",
    "    \n",
    "    k = int(input())\n",
    "    min_h = []\n",
    "    max_h = []\n",
    "    \n",
    "    # heapq 처리\n",
    "    for _ in range(k):\n",
    "        s, n = map(str, input().split())\n",
    "        \n",
    "        # I : 정수를 삽입\n",
    "        if s == 'I':\n",
    "            heapq.heappush(min_h, int(n))\n",
    "            heapq.heappush(max_h, -int(n))\n",
    "            \n",
    "        # D : 삭제\n",
    "        if s == 'D':\n",
    "            \n",
    "            # Q가 비어있을 경우는 무시\n",
    "            if len(min_h) == 0:\n",
    "                continue\n",
    "            \n",
    "            # 최댓값\n",
    "            if n == '-1':\n",
    "                tmp = -heapq.heappop(min_h)\n",
    "                max_h.remove(tmp)\n",
    "                \n",
    "            # 최솟값\n",
    "            if n == '1':\n",
    "                tmp = -heapq.heappop(max_h)\n",
    "                min_h.remove(tmp)\n",
    "                \n",
    "    # 최댓값, 최솟값 출력\n",
    "    if len(min_h) == 0:\n",
    "        print('EMPTY')\n",
    "    else:\n",
    "        print(max(min_h), min(min_h))"
   ]
  },
  {
   "cell_type": "markdown",
   "id": "9663ec8c",
   "metadata": {},
   "source": [
    "## 정답"
   ]
  },
  {
   "cell_type": "code",
   "execution_count": null,
   "id": "29dc3530",
   "metadata": {},
   "outputs": [],
   "source": [
    "import heapq\n",
    "\n",
    "t = int(input())\n",
    "\n",
    "# test case\n",
    "for _ in range(t):\n",
    "    k = int(input())\n",
    "    min_h = []\n",
    "    max_h = []\n",
    "    visited = [False] * k # 해당 원소의 상태가 True인지 False인지를 판별\n",
    "    \n",
    "    # heapq 처리\n",
    "    for i in range(k): # index를 사용할 것.\n",
    "        s, n = map(str, input().split())\n",
    "        \n",
    "        # 삽입\n",
    "        if s == 'I':\n",
    "            heapq.heappush(min_h, (int(n), i))\n",
    "            heapq.heappush(max_h, (-int(n), i))\n",
    "            visited[i] = True # visited가 True면 두 힙 모두에서 노드가 존재.\n",
    "            \n",
    "        # 제거\n",
    "        if s == 'D': # 해당 노드가 다른 힙에서 삭제된 노드인가를 먼저 판단해야 한다.\n",
    "\n",
    "            if n == '1':\n",
    "                # 이미 삭제된 노드인 경우, 삭제되지 않은 노드가 나올 때까지 모두 버린다.\n",
    "                while max_h and not visited[max_h[0][1]]: # visited가 False면 노드가 삭제된 상태.\n",
    "                    heapq.heappop(max_h) # 상대힙에서 이미 삭제된 노드이므로 삭제.\n",
    "                \n",
    "                # 상대힙에 의해 삭제되지 않은 노드가 나오면\n",
    "                if max_h:\n",
    "                    visited[max_h[0][1]] = False # visited가 True면 False로 교체\n",
    "                    heapq.heappop(max_h) # 삭제\n",
    "                \n",
    "            if n == '-1':\n",
    "                # 이미 삭제된 노드인 경우, 삭제되지 않은 노드가 나올 때까지 모두 버린다.\n",
    "                while min_h and not visited[min_h[0][1]]: # visited가 False면 노드가 삭제된 상태\n",
    "                    heapq.heappop(min_h) # 상대힙에서 이미 삭제된 노드이므로 삭제.\n",
    "                    \n",
    "                # 상대힙에 의해 삭제되지 않은 노드가 나오면\n",
    "                if min_h:\n",
    "                    visited[min_h[0][1]] = False # visited가 True면 False로 교체\n",
    "                    heapq.heappop(min_h) # 삭제\n",
    "                  \n",
    "    # 모든 연산이 끝나고, 더미 노드가 존재할 가능성 존재.\n",
    "    # 결과를 내기 전 모두 비우고 각 힙의 첫번째 원소값을 출력.\n",
    "    while min_h and not visited[min_h[0][1]]:\n",
    "        heapq.heappop(min_h)\n",
    "        \n",
    "    while max_h and not visited[max_h[0][1]]:\n",
    "        heapq.heappop(max_h)\n",
    "        \n",
    "    # 결과 출력\n",
    "    if not min_h or not max_h:\n",
    "        print('EMPTY')\n",
    "        \n",
    "    else:\n",
    "        print(-max_h[0][0], min_h[0][0])"
   ]
  }
 ],
 "metadata": {
  "kernelspec": {
   "display_name": "Python 3 (ipykernel)",
   "language": "python",
   "name": "python3"
  },
  "language_info": {
   "codemirror_mode": {
    "name": "ipython",
    "version": 3
   },
   "file_extension": ".py",
   "mimetype": "text/x-python",
   "name": "python",
   "nbconvert_exporter": "python",
   "pygments_lexer": "ipython3",
   "version": "3.9.13"
  }
 },
 "nbformat": 4,
 "nbformat_minor": 5
}
